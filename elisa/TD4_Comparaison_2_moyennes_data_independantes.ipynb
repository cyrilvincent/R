{
 "cells": [
  {
   "cell_type": "markdown",
   "id": "01edf75e-fbec-4852-87fa-b9b6fb61c331",
   "metadata": {},
   "source": [
    "# TD 4 : Test de comparaison de deux moyennes de deux échantillons indépendants\n",
    "\n",
    "Christelle Gonindard, Matthais Grenié, François Bettega"
   ]
  },
  {
   "cell_type": "markdown",
   "id": "9afa13ba-2fff-4b8b-851f-be1291974fa1",
   "metadata": {},
   "source": [
    "<div class=\"alert alert-info\">\n",
    "\n",
    "## Objectifs\n",
    "\n",
    "- Faire la différence entre un test bilatéral et un test unilatéral\n",
    "- Connaître les conditions d'application d'un test de comparaison de moyennes entre deux échantillons indépendants\n",
    "- Apprendre à mettre en œuvre un test de Student pour comparer une moyennes entre deux échantillons indépendants\n",
    "- Interpréter le résultat de ce test\n",
    "\n",
    "</div>"
   ]
  },
  {
   "cell_type": "markdown",
   "id": "cc75c352-7b3f-4d8d-aff0-271d58f927de",
   "metadata": {},
   "source": [
    "## 1. Présentation des données\n",
    "\n",
    "Un clinicien évalue l’intensité de la dépression sur l’échelle de Hamilton qui varie de 0 (non\n",
    "déprimé) à 56 (très déprimé), chez 100 patients sou\u000b",
    "rant d’un Episode Dépressif Majeur (EDM).\n",
    "On veut savoir si l’acupuncture améliore l’évolution de la dépression. Pour cela, 100 malades\n",
    "de même état dépressif (même score de Hamilton) sont répartis en 2 groupes de 50 par tirage\n",
    "au sort. Le groupe I a reçu uniquement le traitement pharmacologique et le groupe II a reçu le\n",
    "traitement pharmacologique associé à de l’acupuncture.\n",
    "\n",
    "Le jeu de données contient les variables suivantes en colonne :\n",
    "- `hamilton_g1` : Les scores de Hamilton, après 8 mois de traitement pour le groupe 1 ;\n",
    "- `hamilton_g2` : Les scores de Hamilton, après 8 mois de traitement pour le groupe 2 ;\n",
    "- `age_g1` : l’âge des patients du groupe 1 ;\n",
    "- `age_g2` : l’âge des patients du groupe 2 ;\n",
    "- `poids_g1` : le poids des patients du groupe 1 ;\n",
    "- `poids_g2` : le poids des patients du groupe 2 ;\n",
    "- `sexe_g1` : le sexe des patients du groupe 1 (`\"F\"` : femme, `\"H\"` : homme) ;\n",
    "- `sexe_g2` : le sexe des patients du groupe 2 (`\"F\"` : femme, `\"H\"` : homme) ;\n",
    "- `urbanisation_g1` : le niveau d’urbanisation dans lequel vivent les patients du groupe 1 (`\"A\"` : rural, `\"B\"` : urbanisation modéré, `\"C\"` : fortement urbanisé) ;\n",
    "- `urbanisation_g2` : le niveau d’urbanisation dans lequel vivent les patients du groupe 2 (`\"A\"` : rural, `\"B\"` : urbanisation modéré, `\"C\"` : fortement urbanisé).\n",
    "\n",
    "Les données sont contenues dans le fichier texte nommé `depression.txt` qui se trouve dans le dossier `data`. Le chemin d'accès complet du fichier est donc `data/depression.txt`."
   ]
  },
  {
   "cell_type": "code",
   "execution_count": 3,
   "id": "a4a94f2c",
   "metadata": {},
   "outputs": [
    {
     "data": {
      "text/html": [
       "<table class=\"dataframe\">\n",
       "<caption>A data.frame: 50 × 10</caption>\n",
       "<thead>\n",
       "\t<tr><th scope=col>hamilton_g1</th><th scope=col>hamilton_g2</th><th scope=col>urbanisation_g1</th><th scope=col>urbanisation_g2</th><th scope=col>age_g1</th><th scope=col>age_g2</th><th scope=col>poids_g1</th><th scope=col>poids_g2</th><th scope=col>sexe_g1</th><th scope=col>sexe_g2</th></tr>\n",
       "\t<tr><th scope=col>&lt;int&gt;</th><th scope=col>&lt;int&gt;</th><th scope=col>&lt;chr&gt;</th><th scope=col>&lt;chr&gt;</th><th scope=col>&lt;int&gt;</th><th scope=col>&lt;int&gt;</th><th scope=col>&lt;int&gt;</th><th scope=col>&lt;int&gt;</th><th scope=col>&lt;chr&gt;</th><th scope=col>&lt;chr&gt;</th></tr>\n",
       "</thead>\n",
       "<tbody>\n",
       "\t<tr><td>43</td><td>25</td><td>B</td><td>B</td><td>57</td><td>48</td><td> 74</td><td> 93</td><td>F</td><td>H</td></tr>\n",
       "\t<tr><td>29</td><td>29</td><td>A</td><td>B</td><td>37</td><td>41</td><td> 95</td><td> 92</td><td>H</td><td>H</td></tr>\n",
       "\t<tr><td>34</td><td>18</td><td>A</td><td>A</td><td> 7</td><td>30</td><td> 84</td><td> 86</td><td>H</td><td>H</td></tr>\n",
       "\t<tr><td>39</td><td>23</td><td>A</td><td>A</td><td>37</td><td>41</td><td>104</td><td> 81</td><td>H</td><td>H</td></tr>\n",
       "\t<tr><td>40</td><td>24</td><td>B</td><td>A</td><td>15</td><td>30</td><td> 92</td><td> 74</td><td>H</td><td>F</td></tr>\n",
       "\t<tr><td>41</td><td>25</td><td>B</td><td>B</td><td>45</td><td>45</td><td> 85</td><td> 98</td><td>H</td><td>H</td></tr>\n",
       "\t<tr><td>32</td><td>27</td><td>A</td><td>B</td><td>41</td><td>41</td><td> 79</td><td> 75</td><td>H</td><td>H</td></tr>\n",
       "\t<tr><td>36</td><td>16</td><td>A</td><td>A</td><td>33</td><td>17</td><td> 92</td><td> 90</td><td>H</td><td>H</td></tr>\n",
       "\t<tr><td>35</td><td>27</td><td>A</td><td>B</td><td>55</td><td>47</td><td> 76</td><td> 83</td><td>H</td><td>H</td></tr>\n",
       "\t<tr><td>37</td><td>16</td><td>A</td><td>A</td><td>46</td><td>48</td><td> 78</td><td> 82</td><td>H</td><td>H</td></tr>\n",
       "\t<tr><td>43</td><td>18</td><td>B</td><td>A</td><td>28</td><td>29</td><td> 88</td><td> 66</td><td>H</td><td>F</td></tr>\n",
       "\t<tr><td>36</td><td>19</td><td>A</td><td>A</td><td>39</td><td>36</td><td> 83</td><td> 83</td><td>H</td><td>H</td></tr>\n",
       "\t<tr><td>41</td><td>26</td><td>B</td><td>B</td><td>30</td><td>29</td><td> 76</td><td> 85</td><td>H</td><td>H</td></tr>\n",
       "\t<tr><td>37</td><td>20</td><td>A</td><td>A</td><td>39</td><td>21</td><td> 72</td><td>102</td><td>F</td><td>H</td></tr>\n",
       "\t<tr><td>33</td><td>16</td><td>A</td><td>A</td><td>50</td><td>35</td><td> 75</td><td> 79</td><td>H</td><td>H</td></tr>\n",
       "\t<tr><td>40</td><td>28</td><td>B</td><td>B</td><td>42</td><td>35</td><td> 88</td><td>100</td><td>H</td><td>H</td></tr>\n",
       "\t<tr><td>38</td><td>23</td><td>A</td><td>A</td><td>44</td><td>48</td><td> 71</td><td> 95</td><td>F</td><td>H</td></tr>\n",
       "\t<tr><td>43</td><td>29</td><td>B</td><td>B</td><td>22</td><td>45</td><td> 89</td><td> 86</td><td>H</td><td>H</td></tr>\n",
       "\t<tr><td>32</td><td>24</td><td>A</td><td>A</td><td>36</td><td>39</td><td> 86</td><td> 87</td><td>H</td><td>H</td></tr>\n",
       "\t<tr><td>32</td><td>27</td><td>A</td><td>B</td><td>37</td><td>31</td><td>107</td><td> 92</td><td>H</td><td>H</td></tr>\n",
       "\t<tr><td>44</td><td>24</td><td>B</td><td>A</td><td>35</td><td>19</td><td> 90</td><td>104</td><td>H</td><td>H</td></tr>\n",
       "\t<tr><td>40</td><td>16</td><td>B</td><td>A</td><td>62</td><td>48</td><td> 72</td><td> 85</td><td>F</td><td>H</td></tr>\n",
       "\t<tr><td>36</td><td>24</td><td>A</td><td>A</td><td>46</td><td>44</td><td> 87</td><td> 91</td><td>H</td><td>H</td></tr>\n",
       "\t<tr><td>37</td><td>28</td><td>A</td><td>B</td><td>45</td><td>30</td><td> 73</td><td> 76</td><td>F</td><td>H</td></tr>\n",
       "\t<tr><td>41</td><td>15</td><td>B</td><td>A</td><td>56</td><td>54</td><td> 67</td><td> 79</td><td>F</td><td>H</td></tr>\n",
       "\t<tr><td>43</td><td>30</td><td>B</td><td>B</td><td>40</td><td>13</td><td> 65</td><td> 75</td><td>F</td><td>H</td></tr>\n",
       "\t<tr><td>37</td><td>31</td><td>A</td><td>B</td><td>46</td><td>26</td><td> 95</td><td> 80</td><td>H</td><td>H</td></tr>\n",
       "\t<tr><td>31</td><td>29</td><td>A</td><td>B</td><td>45</td><td>46</td><td> 80</td><td> 86</td><td>H</td><td>H</td></tr>\n",
       "\t<tr><td>47</td><td>26</td><td>C</td><td>B</td><td>42</td><td>20</td><td> 70</td><td> 79</td><td>F</td><td>H</td></tr>\n",
       "\t<tr><td>41</td><td>27</td><td>B</td><td>B</td><td>41</td><td>46</td><td> 85</td><td> 88</td><td>H</td><td>H</td></tr>\n",
       "\t<tr><td>45</td><td>36</td><td>C</td><td>B</td><td>37</td><td>35</td><td> 82</td><td> 96</td><td>H</td><td>H</td></tr>\n",
       "\t<tr><td>42</td><td>22</td><td>B</td><td>A</td><td>39</td><td>34</td><td> 92</td><td> 83</td><td>H</td><td>H</td></tr>\n",
       "\t<tr><td>46</td><td>33</td><td>C</td><td>B</td><td>52</td><td>38</td><td> 74</td><td> 74</td><td>F</td><td>F</td></tr>\n",
       "\t<tr><td>35</td><td>22</td><td>A</td><td>A</td><td>45</td><td>36</td><td> 80</td><td> 82</td><td>H</td><td>H</td></tr>\n",
       "\t<tr><td>49</td><td>33</td><td>C</td><td>B</td><td>59</td><td>41</td><td>100</td><td> 88</td><td>H</td><td>H</td></tr>\n",
       "\t<tr><td>33</td><td>31</td><td>A</td><td>B</td><td>41</td><td>32</td><td> 80</td><td> 92</td><td>H</td><td>H</td></tr>\n",
       "\t<tr><td>34</td><td>30</td><td>A</td><td>B</td><td>15</td><td>28</td><td> 78</td><td>106</td><td>H</td><td>H</td></tr>\n",
       "\t<tr><td>44</td><td>20</td><td>B</td><td>A</td><td>43</td><td>33</td><td> 79</td><td> 94</td><td>H</td><td>H</td></tr>\n",
       "\t<tr><td>40</td><td>20</td><td>B</td><td>A</td><td>28</td><td>31</td><td> 78</td><td> 89</td><td>H</td><td>H</td></tr>\n",
       "\t<tr><td>42</td><td>29</td><td>B</td><td>B</td><td>72</td><td>50</td><td> 72</td><td> 84</td><td>F</td><td>H</td></tr>\n",
       "\t<tr><td>44</td><td>19</td><td>B</td><td>A</td><td>45</td><td>55</td><td>104</td><td>101</td><td>H</td><td>H</td></tr>\n",
       "\t<tr><td>40</td><td>26</td><td>B</td><td>B</td><td>49</td><td>38</td><td> 88</td><td> 74</td><td>H</td><td>F</td></tr>\n",
       "\t<tr><td>29</td><td>19</td><td>A</td><td>A</td><td>47</td><td>33</td><td>104</td><td> 84</td><td>H</td><td>H</td></tr>\n",
       "\t<tr><td>36</td><td>24</td><td>A</td><td>A</td><td>40</td><td>29</td><td> 92</td><td> 97</td><td>H</td><td>H</td></tr>\n",
       "\t<tr><td>42</td><td>23</td><td>B</td><td>A</td><td>41</td><td>37</td><td> 82</td><td> 73</td><td>H</td><td>F</td></tr>\n",
       "\t<tr><td>44</td><td>26</td><td>B</td><td>B</td><td>23</td><td>49</td><td> 66</td><td> 89</td><td>F</td><td>H</td></tr>\n",
       "\t<tr><td>32</td><td>25</td><td>A</td><td>B</td><td>31</td><td>46</td><td> 85</td><td> 85</td><td>H</td><td>H</td></tr>\n",
       "\t<tr><td>37</td><td>25</td><td>A</td><td>B</td><td>44</td><td>55</td><td> 81</td><td> 85</td><td>H</td><td>H</td></tr>\n",
       "\t<tr><td>42</td><td>30</td><td>B</td><td>B</td><td>42</td><td>27</td><td> 82</td><td> 97</td><td>H</td><td>H</td></tr>\n",
       "\t<tr><td>45</td><td>24</td><td>C</td><td>A</td><td>30</td><td>35</td><td>100</td><td> 76</td><td>H</td><td>H</td></tr>\n",
       "</tbody>\n",
       "</table>\n"
      ],
      "text/latex": [
       "A data.frame: 50 × 10\n",
       "\\begin{tabular}{llllllllll}\n",
       " hamilton\\_g1 & hamilton\\_g2 & urbanisation\\_g1 & urbanisation\\_g2 & age\\_g1 & age\\_g2 & poids\\_g1 & poids\\_g2 & sexe\\_g1 & sexe\\_g2\\\\\n",
       " <int> & <int> & <chr> & <chr> & <int> & <int> & <int> & <int> & <chr> & <chr>\\\\\n",
       "\\hline\n",
       "\t 43 & 25 & B & B & 57 & 48 &  74 &  93 & F & H\\\\\n",
       "\t 29 & 29 & A & B & 37 & 41 &  95 &  92 & H & H\\\\\n",
       "\t 34 & 18 & A & A &  7 & 30 &  84 &  86 & H & H\\\\\n",
       "\t 39 & 23 & A & A & 37 & 41 & 104 &  81 & H & H\\\\\n",
       "\t 40 & 24 & B & A & 15 & 30 &  92 &  74 & H & F\\\\\n",
       "\t 41 & 25 & B & B & 45 & 45 &  85 &  98 & H & H\\\\\n",
       "\t 32 & 27 & A & B & 41 & 41 &  79 &  75 & H & H\\\\\n",
       "\t 36 & 16 & A & A & 33 & 17 &  92 &  90 & H & H\\\\\n",
       "\t 35 & 27 & A & B & 55 & 47 &  76 &  83 & H & H\\\\\n",
       "\t 37 & 16 & A & A & 46 & 48 &  78 &  82 & H & H\\\\\n",
       "\t 43 & 18 & B & A & 28 & 29 &  88 &  66 & H & F\\\\\n",
       "\t 36 & 19 & A & A & 39 & 36 &  83 &  83 & H & H\\\\\n",
       "\t 41 & 26 & B & B & 30 & 29 &  76 &  85 & H & H\\\\\n",
       "\t 37 & 20 & A & A & 39 & 21 &  72 & 102 & F & H\\\\\n",
       "\t 33 & 16 & A & A & 50 & 35 &  75 &  79 & H & H\\\\\n",
       "\t 40 & 28 & B & B & 42 & 35 &  88 & 100 & H & H\\\\\n",
       "\t 38 & 23 & A & A & 44 & 48 &  71 &  95 & F & H\\\\\n",
       "\t 43 & 29 & B & B & 22 & 45 &  89 &  86 & H & H\\\\\n",
       "\t 32 & 24 & A & A & 36 & 39 &  86 &  87 & H & H\\\\\n",
       "\t 32 & 27 & A & B & 37 & 31 & 107 &  92 & H & H\\\\\n",
       "\t 44 & 24 & B & A & 35 & 19 &  90 & 104 & H & H\\\\\n",
       "\t 40 & 16 & B & A & 62 & 48 &  72 &  85 & F & H\\\\\n",
       "\t 36 & 24 & A & A & 46 & 44 &  87 &  91 & H & H\\\\\n",
       "\t 37 & 28 & A & B & 45 & 30 &  73 &  76 & F & H\\\\\n",
       "\t 41 & 15 & B & A & 56 & 54 &  67 &  79 & F & H\\\\\n",
       "\t 43 & 30 & B & B & 40 & 13 &  65 &  75 & F & H\\\\\n",
       "\t 37 & 31 & A & B & 46 & 26 &  95 &  80 & H & H\\\\\n",
       "\t 31 & 29 & A & B & 45 & 46 &  80 &  86 & H & H\\\\\n",
       "\t 47 & 26 & C & B & 42 & 20 &  70 &  79 & F & H\\\\\n",
       "\t 41 & 27 & B & B & 41 & 46 &  85 &  88 & H & H\\\\\n",
       "\t 45 & 36 & C & B & 37 & 35 &  82 &  96 & H & H\\\\\n",
       "\t 42 & 22 & B & A & 39 & 34 &  92 &  83 & H & H\\\\\n",
       "\t 46 & 33 & C & B & 52 & 38 &  74 &  74 & F & F\\\\\n",
       "\t 35 & 22 & A & A & 45 & 36 &  80 &  82 & H & H\\\\\n",
       "\t 49 & 33 & C & B & 59 & 41 & 100 &  88 & H & H\\\\\n",
       "\t 33 & 31 & A & B & 41 & 32 &  80 &  92 & H & H\\\\\n",
       "\t 34 & 30 & A & B & 15 & 28 &  78 & 106 & H & H\\\\\n",
       "\t 44 & 20 & B & A & 43 & 33 &  79 &  94 & H & H\\\\\n",
       "\t 40 & 20 & B & A & 28 & 31 &  78 &  89 & H & H\\\\\n",
       "\t 42 & 29 & B & B & 72 & 50 &  72 &  84 & F & H\\\\\n",
       "\t 44 & 19 & B & A & 45 & 55 & 104 & 101 & H & H\\\\\n",
       "\t 40 & 26 & B & B & 49 & 38 &  88 &  74 & H & F\\\\\n",
       "\t 29 & 19 & A & A & 47 & 33 & 104 &  84 & H & H\\\\\n",
       "\t 36 & 24 & A & A & 40 & 29 &  92 &  97 & H & H\\\\\n",
       "\t 42 & 23 & B & A & 41 & 37 &  82 &  73 & H & F\\\\\n",
       "\t 44 & 26 & B & B & 23 & 49 &  66 &  89 & F & H\\\\\n",
       "\t 32 & 25 & A & B & 31 & 46 &  85 &  85 & H & H\\\\\n",
       "\t 37 & 25 & A & B & 44 & 55 &  81 &  85 & H & H\\\\\n",
       "\t 42 & 30 & B & B & 42 & 27 &  82 &  97 & H & H\\\\\n",
       "\t 45 & 24 & C & A & 30 & 35 & 100 &  76 & H & H\\\\\n",
       "\\end{tabular}\n"
      ],
      "text/markdown": [
       "\n",
       "A data.frame: 50 × 10\n",
       "\n",
       "| hamilton_g1 &lt;int&gt; | hamilton_g2 &lt;int&gt; | urbanisation_g1 &lt;chr&gt; | urbanisation_g2 &lt;chr&gt; | age_g1 &lt;int&gt; | age_g2 &lt;int&gt; | poids_g1 &lt;int&gt; | poids_g2 &lt;int&gt; | sexe_g1 &lt;chr&gt; | sexe_g2 &lt;chr&gt; |\n",
       "|---|---|---|---|---|---|---|---|---|---|\n",
       "| 43 | 25 | B | B | 57 | 48 |  74 |  93 | F | H |\n",
       "| 29 | 29 | A | B | 37 | 41 |  95 |  92 | H | H |\n",
       "| 34 | 18 | A | A |  7 | 30 |  84 |  86 | H | H |\n",
       "| 39 | 23 | A | A | 37 | 41 | 104 |  81 | H | H |\n",
       "| 40 | 24 | B | A | 15 | 30 |  92 |  74 | H | F |\n",
       "| 41 | 25 | B | B | 45 | 45 |  85 |  98 | H | H |\n",
       "| 32 | 27 | A | B | 41 | 41 |  79 |  75 | H | H |\n",
       "| 36 | 16 | A | A | 33 | 17 |  92 |  90 | H | H |\n",
       "| 35 | 27 | A | B | 55 | 47 |  76 |  83 | H | H |\n",
       "| 37 | 16 | A | A | 46 | 48 |  78 |  82 | H | H |\n",
       "| 43 | 18 | B | A | 28 | 29 |  88 |  66 | H | F |\n",
       "| 36 | 19 | A | A | 39 | 36 |  83 |  83 | H | H |\n",
       "| 41 | 26 | B | B | 30 | 29 |  76 |  85 | H | H |\n",
       "| 37 | 20 | A | A | 39 | 21 |  72 | 102 | F | H |\n",
       "| 33 | 16 | A | A | 50 | 35 |  75 |  79 | H | H |\n",
       "| 40 | 28 | B | B | 42 | 35 |  88 | 100 | H | H |\n",
       "| 38 | 23 | A | A | 44 | 48 |  71 |  95 | F | H |\n",
       "| 43 | 29 | B | B | 22 | 45 |  89 |  86 | H | H |\n",
       "| 32 | 24 | A | A | 36 | 39 |  86 |  87 | H | H |\n",
       "| 32 | 27 | A | B | 37 | 31 | 107 |  92 | H | H |\n",
       "| 44 | 24 | B | A | 35 | 19 |  90 | 104 | H | H |\n",
       "| 40 | 16 | B | A | 62 | 48 |  72 |  85 | F | H |\n",
       "| 36 | 24 | A | A | 46 | 44 |  87 |  91 | H | H |\n",
       "| 37 | 28 | A | B | 45 | 30 |  73 |  76 | F | H |\n",
       "| 41 | 15 | B | A | 56 | 54 |  67 |  79 | F | H |\n",
       "| 43 | 30 | B | B | 40 | 13 |  65 |  75 | F | H |\n",
       "| 37 | 31 | A | B | 46 | 26 |  95 |  80 | H | H |\n",
       "| 31 | 29 | A | B | 45 | 46 |  80 |  86 | H | H |\n",
       "| 47 | 26 | C | B | 42 | 20 |  70 |  79 | F | H |\n",
       "| 41 | 27 | B | B | 41 | 46 |  85 |  88 | H | H |\n",
       "| 45 | 36 | C | B | 37 | 35 |  82 |  96 | H | H |\n",
       "| 42 | 22 | B | A | 39 | 34 |  92 |  83 | H | H |\n",
       "| 46 | 33 | C | B | 52 | 38 |  74 |  74 | F | F |\n",
       "| 35 | 22 | A | A | 45 | 36 |  80 |  82 | H | H |\n",
       "| 49 | 33 | C | B | 59 | 41 | 100 |  88 | H | H |\n",
       "| 33 | 31 | A | B | 41 | 32 |  80 |  92 | H | H |\n",
       "| 34 | 30 | A | B | 15 | 28 |  78 | 106 | H | H |\n",
       "| 44 | 20 | B | A | 43 | 33 |  79 |  94 | H | H |\n",
       "| 40 | 20 | B | A | 28 | 31 |  78 |  89 | H | H |\n",
       "| 42 | 29 | B | B | 72 | 50 |  72 |  84 | F | H |\n",
       "| 44 | 19 | B | A | 45 | 55 | 104 | 101 | H | H |\n",
       "| 40 | 26 | B | B | 49 | 38 |  88 |  74 | H | F |\n",
       "| 29 | 19 | A | A | 47 | 33 | 104 |  84 | H | H |\n",
       "| 36 | 24 | A | A | 40 | 29 |  92 |  97 | H | H |\n",
       "| 42 | 23 | B | A | 41 | 37 |  82 |  73 | H | F |\n",
       "| 44 | 26 | B | B | 23 | 49 |  66 |  89 | F | H |\n",
       "| 32 | 25 | A | B | 31 | 46 |  85 |  85 | H | H |\n",
       "| 37 | 25 | A | B | 44 | 55 |  81 |  85 | H | H |\n",
       "| 42 | 30 | B | B | 42 | 27 |  82 |  97 | H | H |\n",
       "| 45 | 24 | C | A | 30 | 35 | 100 |  76 | H | H |\n",
       "\n"
      ],
      "text/plain": [
       "   hamilton_g1 hamilton_g2 urbanisation_g1 urbanisation_g2 age_g1 age_g2\n",
       "1  43          25          B               B               57     48    \n",
       "2  29          29          A               B               37     41    \n",
       "3  34          18          A               A                7     30    \n",
       "4  39          23          A               A               37     41    \n",
       "5  40          24          B               A               15     30    \n",
       "6  41          25          B               B               45     45    \n",
       "7  32          27          A               B               41     41    \n",
       "8  36          16          A               A               33     17    \n",
       "9  35          27          A               B               55     47    \n",
       "10 37          16          A               A               46     48    \n",
       "11 43          18          B               A               28     29    \n",
       "12 36          19          A               A               39     36    \n",
       "13 41          26          B               B               30     29    \n",
       "14 37          20          A               A               39     21    \n",
       "15 33          16          A               A               50     35    \n",
       "16 40          28          B               B               42     35    \n",
       "17 38          23          A               A               44     48    \n",
       "18 43          29          B               B               22     45    \n",
       "19 32          24          A               A               36     39    \n",
       "20 32          27          A               B               37     31    \n",
       "21 44          24          B               A               35     19    \n",
       "22 40          16          B               A               62     48    \n",
       "23 36          24          A               A               46     44    \n",
       "24 37          28          A               B               45     30    \n",
       "25 41          15          B               A               56     54    \n",
       "26 43          30          B               B               40     13    \n",
       "27 37          31          A               B               46     26    \n",
       "28 31          29          A               B               45     46    \n",
       "29 47          26          C               B               42     20    \n",
       "30 41          27          B               B               41     46    \n",
       "31 45          36          C               B               37     35    \n",
       "32 42          22          B               A               39     34    \n",
       "33 46          33          C               B               52     38    \n",
       "34 35          22          A               A               45     36    \n",
       "35 49          33          C               B               59     41    \n",
       "36 33          31          A               B               41     32    \n",
       "37 34          30          A               B               15     28    \n",
       "38 44          20          B               A               43     33    \n",
       "39 40          20          B               A               28     31    \n",
       "40 42          29          B               B               72     50    \n",
       "41 44          19          B               A               45     55    \n",
       "42 40          26          B               B               49     38    \n",
       "43 29          19          A               A               47     33    \n",
       "44 36          24          A               A               40     29    \n",
       "45 42          23          B               A               41     37    \n",
       "46 44          26          B               B               23     49    \n",
       "47 32          25          A               B               31     46    \n",
       "48 37          25          A               B               44     55    \n",
       "49 42          30          B               B               42     27    \n",
       "50 45          24          C               A               30     35    \n",
       "   poids_g1 poids_g2 sexe_g1 sexe_g2\n",
       "1   74       93      F       H      \n",
       "2   95       92      H       H      \n",
       "3   84       86      H       H      \n",
       "4  104       81      H       H      \n",
       "5   92       74      H       F      \n",
       "6   85       98      H       H      \n",
       "7   79       75      H       H      \n",
       "8   92       90      H       H      \n",
       "9   76       83      H       H      \n",
       "10  78       82      H       H      \n",
       "11  88       66      H       F      \n",
       "12  83       83      H       H      \n",
       "13  76       85      H       H      \n",
       "14  72      102      F       H      \n",
       "15  75       79      H       H      \n",
       "16  88      100      H       H      \n",
       "17  71       95      F       H      \n",
       "18  89       86      H       H      \n",
       "19  86       87      H       H      \n",
       "20 107       92      H       H      \n",
       "21  90      104      H       H      \n",
       "22  72       85      F       H      \n",
       "23  87       91      H       H      \n",
       "24  73       76      F       H      \n",
       "25  67       79      F       H      \n",
       "26  65       75      F       H      \n",
       "27  95       80      H       H      \n",
       "28  80       86      H       H      \n",
       "29  70       79      F       H      \n",
       "30  85       88      H       H      \n",
       "31  82       96      H       H      \n",
       "32  92       83      H       H      \n",
       "33  74       74      F       F      \n",
       "34  80       82      H       H      \n",
       "35 100       88      H       H      \n",
       "36  80       92      H       H      \n",
       "37  78      106      H       H      \n",
       "38  79       94      H       H      \n",
       "39  78       89      H       H      \n",
       "40  72       84      F       H      \n",
       "41 104      101      H       H      \n",
       "42  88       74      H       F      \n",
       "43 104       84      H       H      \n",
       "44  92       97      H       H      \n",
       "45  82       73      H       F      \n",
       "46  66       89      F       H      \n",
       "47  85       85      H       H      \n",
       "48  81       85      H       H      \n",
       "49  82       97      H       H      \n",
       "50 100       76      H       H      "
      ]
     },
     "metadata": {},
     "output_type": "display_data"
    }
   ],
   "source": [
    "depression = read.table(\"data/depression.txt\", header = TRUE)\n",
    "depression"
   ]
  },
  {
   "cell_type": "markdown",
   "id": "8b32d86b-21a3-4199-ab64-98ac2b6b2311",
   "metadata": {},
   "source": [
    "**Objectif de la séance: On aimerait savoir si l’acupuncture améliore l’évolution de la dépression en plus d'un traitement pharmacologique chez les femmes en comparant le groupe 1 et le groupe 2**"
   ]
  },
  {
   "cell_type": "markdown",
   "id": "900fb403-e1b6-4983-8588-fe3359897d34",
   "metadata": {},
   "source": [
    "## 2. Principe\n",
    "\n",
    "Ici, on cherche à comparer les moyennes de deux échantillons indépendants (= il n'y a pas de liens entre les femmes assignées aux deux groupes).\n",
    "Pour cela, on doit réaliser un test de Student de comparaison de deux échantillons indépendants.\n",
    "\n",
    "Le principe du test est analogue à celui de comparaison à une moyenne théorique, seulement, ici, le test va calculer la différence entre les deux moyennes observées. Si l'écart est\n",
    "suffisamment éloigné de 0 avec un certain risque d’erreur $\\alpha$ alors on conclura que les deux moyennes sont différentes.\n",
    "\n",
    "Le test calcule la statistique $t$ en faisant la différence entre $\\mu_1$ moyenne du groupe 1 et $\\mu _2$ moyenne du groupe 2 et en divisant par leurs écart-types $S_1$ et $S_2$, respectivement :\n",
    "\n",
    "$$ t = \\frac{\\mu_1- \\mu_2}{\\sqrt{\\frac{S_1 ^2}{n_1} + \\frac{S_2 ^2}{n_2}}}$$\n",
    "\n",
    "avec $n_1$ la taille du premier échantillon et $n_2$ la taille du second échantillon (ils n'ont pas forcément la même taille)."
   ]
  },
  {
   "cell_type": "markdown",
   "id": "32bb8a85-7779-4347-a910-ee642683c78b",
   "metadata": {},
   "source": [
    "## 3. Description des données\n",
    "\n",
    "Avant de commencer une analyse il est important de présenter et vérifier les données :\n",
    "- Extraire les deux échantillons\n",
    "- Calculer leurs tailles\n",
    "- Faire un résumé statistique de chacun des échantillons"
   ]
  },
  {
   "cell_type": "code",
   "execution_count": 8,
   "id": "f4e43828",
   "metadata": {},
   "outputs": [
    {
     "data": {
      "text/html": [
       "<style>\n",
       ".list-inline {list-style: none; margin:0; padding: 0}\n",
       ".list-inline>li {display: inline-block}\n",
       ".list-inline>li:not(:last-child)::after {content: \"\\00b7\"; padding: 0 .5ex}\n",
       "</style>\n",
       "<ol class=list-inline><li>43</li><li>29</li><li>34</li><li>39</li><li>40</li><li>41</li><li>32</li><li>36</li><li>35</li><li>37</li><li>43</li><li>36</li><li>41</li><li>37</li><li>33</li><li>40</li><li>38</li><li>43</li><li>32</li><li>32</li><li>44</li><li>40</li><li>36</li><li>37</li><li>41</li><li>43</li><li>37</li><li>31</li><li>47</li><li>41</li><li>45</li><li>42</li><li>46</li><li>35</li><li>49</li><li>33</li><li>34</li><li>44</li><li>40</li><li>42</li><li>44</li><li>40</li><li>29</li><li>36</li><li>42</li><li>44</li><li>32</li><li>37</li><li>42</li><li>45</li></ol>\n"
      ],
      "text/latex": [
       "\\begin{enumerate*}\n",
       "\\item 43\n",
       "\\item 29\n",
       "\\item 34\n",
       "\\item 39\n",
       "\\item 40\n",
       "\\item 41\n",
       "\\item 32\n",
       "\\item 36\n",
       "\\item 35\n",
       "\\item 37\n",
       "\\item 43\n",
       "\\item 36\n",
       "\\item 41\n",
       "\\item 37\n",
       "\\item 33\n",
       "\\item 40\n",
       "\\item 38\n",
       "\\item 43\n",
       "\\item 32\n",
       "\\item 32\n",
       "\\item 44\n",
       "\\item 40\n",
       "\\item 36\n",
       "\\item 37\n",
       "\\item 41\n",
       "\\item 43\n",
       "\\item 37\n",
       "\\item 31\n",
       "\\item 47\n",
       "\\item 41\n",
       "\\item 45\n",
       "\\item 42\n",
       "\\item 46\n",
       "\\item 35\n",
       "\\item 49\n",
       "\\item 33\n",
       "\\item 34\n",
       "\\item 44\n",
       "\\item 40\n",
       "\\item 42\n",
       "\\item 44\n",
       "\\item 40\n",
       "\\item 29\n",
       "\\item 36\n",
       "\\item 42\n",
       "\\item 44\n",
       "\\item 32\n",
       "\\item 37\n",
       "\\item 42\n",
       "\\item 45\n",
       "\\end{enumerate*}\n"
      ],
      "text/markdown": [
       "1. 43\n",
       "2. 29\n",
       "3. 34\n",
       "4. 39\n",
       "5. 40\n",
       "6. 41\n",
       "7. 32\n",
       "8. 36\n",
       "9. 35\n",
       "10. 37\n",
       "11. 43\n",
       "12. 36\n",
       "13. 41\n",
       "14. 37\n",
       "15. 33\n",
       "16. 40\n",
       "17. 38\n",
       "18. 43\n",
       "19. 32\n",
       "20. 32\n",
       "21. 44\n",
       "22. 40\n",
       "23. 36\n",
       "24. 37\n",
       "25. 41\n",
       "26. 43\n",
       "27. 37\n",
       "28. 31\n",
       "29. 47\n",
       "30. 41\n",
       "31. 45\n",
       "32. 42\n",
       "33. 46\n",
       "34. 35\n",
       "35. 49\n",
       "36. 33\n",
       "37. 34\n",
       "38. 44\n",
       "39. 40\n",
       "40. 42\n",
       "41. 44\n",
       "42. 40\n",
       "43. 29\n",
       "44. 36\n",
       "45. 42\n",
       "46. 44\n",
       "47. 32\n",
       "48. 37\n",
       "49. 42\n",
       "50. 45\n",
       "\n",
       "\n"
      ],
      "text/plain": [
       " [1] 43 29 34 39 40 41 32 36 35 37 43 36 41 37 33 40 38 43 32 32 44 40 36 37 41\n",
       "[26] 43 37 31 47 41 45 42 46 35 49 33 34 44 40 42 44 40 29 36 42 44 32 37 42 45"
      ]
     },
     "metadata": {},
     "output_type": "display_data"
    }
   ],
   "source": [
    "femme_g1 <- depression$hamilton_g1\n",
    "femme_g1"
   ]
  },
  {
   "cell_type": "markdown",
   "id": "9ceaa93c",
   "metadata": {},
   "source": [
    "**Conclusion :**\n"
   ]
  },
  {
   "cell_type": "markdown",
   "id": "c8188d7e-ca51-4f51-b81a-45b85096ff13",
   "metadata": {},
   "source": [
    "## 4. Conditions d'application\n",
    "\n",
    "Pour utiliser le test de Student de comparaison de deux échantillons indépendants, il faut vérifier les conditions d’application suivantes :\n",
    "- Si la taille **des deux échantillons** est grande ($n_1 \\geq 30$ et $n_2 \\geq 30$) : on peut directement procéder au test,\n",
    "- Si la taille d’**au moins un des échantillons** est inférieure à 30 ($n_1 < 30$ ou $n_2 < 30$), alors il faut il faut que :\n",
    "    - les données des deux échantillons suivent une loi normale\n",
    "    - les variances des deux échantillons soient égales\n",
    "\n",
    "Comme nos échantillons ont respectivement 11 et 5 observations, il va falloir vérifier les autres conditions d’application."
   ]
  },
  {
   "cell_type": "markdown",
   "id": "6528058f-6857-4e88-9018-c0439b6c4d2f",
   "metadata": {},
   "source": [
    "### 4.1 Normalité des données\n",
    "\n",
    "Pour vérifier que la distribution de nos échantillons suit une loi Normale on va appliquer le test de Shapiro sur chacun des deux échantillons. Pour vérifier nos résultats on réalisera aussi les diagrammes quantile-quantile des deux échantillons.\n",
    "\n",
    "Rappel des hypothèses du test de Shapiro\n",
    "\n",
    "H0 : la distribution suit une loi normale  \n",
    "H1 : la distribution ne suit pas une loi normale\n",
    "\n",
    "*Réalisez les tests de Shapiro puis interprétez-les*"
   ]
  },
  {
   "cell_type": "code",
   "execution_count": 9,
   "id": "337aa815",
   "metadata": {},
   "outputs": [
    {
     "data": {
      "text/plain": [
       "\n",
       "\tShapiro-Wilk normality test\n",
       "\n",
       "data:  femme_g1\n",
       "W = 0.97406, p-value = 0.3357\n"
      ]
     },
     "metadata": {},
     "output_type": "display_data"
    },
    {
     "ename": "ERROR",
     "evalue": "Error: object 'femme_g2' not found\n",
     "output_type": "error",
     "traceback": [
      "Error: object 'femme_g2' not found\nTraceback:\n",
      "1. stopifnot(is.numeric(x))",
      "2. .handleSimpleError(function (cnd) \n . {\n .     watcher$capture_plot_and_output()\n .     cnd <- sanitize_call(cnd)\n .     watcher$push(cnd)\n .     switch(on_error, continue = invokeRestart(\"eval_continue\"), \n .         stop = invokeRestart(\"eval_stop\"), error = invokeRestart(\"eval_error\", \n .             cnd))\n . }, \"object 'femme_g2' not found\", base::quote(eval(expr, envir)))"
     ]
    }
   ],
   "source": [
    "shapiro.test(femme_g1)\n",
    "shapiro.test(femme_g2)\n",
    "\n",
    "qqnorm(femme_g1)\n",
    "qqline(femme_g1)\n",
    "\n",
    "qqnorme(femme_g2)\n",
    "qqline(femme_g2)"
   ]
  },
  {
   "cell_type": "markdown",
   "id": "2e6776ce",
   "metadata": {},
   "source": [
    "**Conclusion** :  \n"
   ]
  },
  {
   "cell_type": "code",
   "execution_count": null,
   "id": "93cced45",
   "metadata": {},
   "outputs": [],
   "source": []
  },
  {
   "cell_type": "markdown",
   "id": "e25060cc",
   "metadata": {},
   "source": [
    "Les quantiles des femmes du groupe 1 s’alignent bien avec les quantiles théoriques d’une\n",
    "loi normale, en revanche, pour le groupe 2 c’est plus compliqué à vérifier du fait du faible\n",
    "échantillonnage (seulement 5 patientes). On remarque des di\u000ecultés d’ajustement aux niveaux\n",
    "des extrémités, ceci est probablement dû à la petite taille du jeu de données."
   ]
  },
  {
   "cell_type": "markdown",
   "id": "a83429fd-8a4f-45c1-8b36-76efec24da4c",
   "metadata": {},
   "source": [
    "### 4.2 Égalité des variances = test de Fisher\n",
    "\n",
    "#### Principe du test\n",
    "\n",
    "On va vérifier l’égalité des variances entre les échantillons par [le test de Fisher-Snedecor](https://fr.wikipedia.org/wiki/Test_de_Fisher_d%27%C3%A9galit%C3%A9_de_deux_variances).\n",
    "Ce test calcule une statistique appelée $F$ (comme Fisher) qui est le rapport entre la plus grande sur la plus petite des variances des deux échantillons. Si ce rapport est suffisamment supérieur à 1 avec un certain risque d'erreur $\\alpha$ alors on considére les variances comme différentes\n",
    "\n",
    "$$ F = \\frac{\\sigma^2_{\\text{max}}}{\\sigma^2_{\\text{min}}}$$\n",
    "\n",
    "avec $\\sigma^2_{\\text{max}}$ la variance de l'échantillon ayant la plus grande variance et $\\sigma^2_{\\text{min}}$ celle de celui avec la plus petite variance."
   ]
  },
  {
   "cell_type": "markdown",
   "id": "47807846-f086-4009-b68d-fc754bb7744c",
   "metadata": {},
   "source": [
    "#### Hypothèses du test\n",
    "\n",
    "Les hypothèses du test de Fisher sont les suivantes :\n",
    "\n",
    "H0 : Les variances sont égales dans les deux échantillons  \n",
    "H1 : Les variances sont différentes entre les deux échantillons\n",
    "\n",
    "Il n'y a pas de condition d'application à vérifier pour réaliser le test."
   ]
  },
  {
   "cell_type": "markdown",
   "id": "107b077b-3912-47e3-a9ad-29ac36bf0f7c",
   "metadata": {},
   "source": [
    "#### Réalisation\n",
    "\n",
    "Pour réaliser le test sur R, il faut utiliser la fonction `var.test()` (pour ***var**iance test* en anglais), cette fonction prend comme deux premiers arguments les deux échantillons à comparer.\n",
    "\n",
    "*Réalisez le test avec les deux groupes*"
   ]
  },
  {
   "cell_type": "code",
   "execution_count": null,
   "id": "c686eb1c",
   "metadata": {},
   "outputs": [],
   "source": [
    "var.test(femme_g1 , femme_g2)"
   ]
  },
  {
   "cell_type": "markdown",
   "id": "bb2eacc8",
   "metadata": {},
   "source": [
    "**Conclusion** :  \n",
    "\n"
   ]
  },
  {
   "cell_type": "markdown",
   "id": "f0a47248",
   "metadata": {},
   "source": [
    "## 5. Réalisation du test de Student\n",
    "\n",
    "De la même façon que pour le test de comparaison à une moyenne théorique, le test peut s'effectuer de manière bilatérale ou unilatérale.\n",
    "Ici, comme on veut savoir si les femmes du groupe 1 (qui n'ont pas eu d'acupuncture) ont des scores de dépression plus élevés que celles du groupe 2 (qui ont été traitées par de l'acupuncture), on va plutôt réaliser un test unilatéral, il faudra donc spécifier l'argument `alternative = \"greater\"`.\n",
    "\n",
    "Les hypothèses de notre test sont donc :\n",
    "\n",
    "H0 : Les moyennes sont égales dans les deux groupes.  \n",
    "H1 : la moyenne du score de Hamilton du groupe 1 est supérieure à la moyenne du score de Hamilton du groupe 2.\n",
    "\n",
    "Pour réaliser le test, on va à nouveau utiliser la fonction `t.test()` qui prend comme deux premiers arguments les deux échantillons, puis on spécifiera l'argument `alternative=`, enfin, étant donné qu'on a vérifié l'égalité des variances entre les échantillons on va spécifier l'argument logique `var.equal = TRUE`."
   ]
  },
  {
   "cell_type": "code",
   "execution_count": null,
   "id": "b43d2ff8",
   "metadata": {},
   "outputs": [],
   "source": [
    "t.test(femme_g1 , femme_g2 , alternative = \"greater \")\n",
    "t.test(femme_g1 , femme_g2 , alternative = \"less\")\n"
   ]
  },
  {
   "cell_type": "markdown",
   "id": "e2277db5",
   "metadata": {},
   "source": [
    "**Conclusion** :\n"
   ]
  },
  {
   "cell_type": "markdown",
   "id": "40b7d271-6b28-455b-be68-c7dbdbd0d6a4",
   "metadata": {},
   "source": [
    "*Note : ici on a spécifié l'argument `var.equal = TRUE` (vrai) il peut prendre aussi la valeur `FALSE` (faux), cela signifierait que les variances des deux échantillons ne sont pas égales, dans ce cas-là c'est un autre test statistique qui est réalisé est le [test de Welch](https://fr.wikipedia.org/wiki/Test_t_de_Welch), c'est une adaptation du test de Student quand les variances ne sont pas égales*"
   ]
  },
  {
   "cell_type": "markdown",
   "id": "82c8a606-a005-4e09-a8a0-af46030a6de3",
   "metadata": {},
   "source": [
    "<div class=\"alert alert-success\">\n",
    "\n",
    "## En résumé\n",
    "\n",
    "Dans cette séance :\n",
    "\n",
    "- Nous avons appris à effectuer un test de Student avec la fonction `t.test()`, avec l'argument `mu = ` qui donne la moyenne théorique\n",
    "- Nous avons appris les conditions d'application des tests de Student de comparaison à une moyenne théorique : si $n \\geq 30$, on peut directement procéder au test ; sinon, il faut vérifier la normalité de l'échantillon\n",
    "- Nous avons appris la différence entre test **bilatéral** et **unilatéral** : un test bilatéral ne donne pas d'information sur le sens de la différence testée alors qu'un test unilatéral permet de savoir si la moyenne observée est soit supérieure soit inférieure à la moyenne théorique\n",
    "- Pour réaliser un test bilatéral on peut utiliser la fonction `t.test()` directement ou en spécifiant l'argument `alternative = \"two.sided\"`\n",
    "- Pour réaliser un test unilatéral on doit spécifier `alternative = \"greater\"`, pour tester si la moyenne observée est supérieure à la moyenne théorique ; `alternative = \"less\"` pour tester si la moyenne observée est inférieure à la moyenne théorique\n",
    "\n",
    "</div>"
   ]
  },
  {
   "cell_type": "markdown",
   "id": "eac50f78",
   "metadata": {},
   "source": [
    "## 6. Exercices\n",
    "\n",
    "### Exercice d'application \n",
    "\n",
    "#### Exercice 1\n",
    "\n",
    "L’activité diurétique d’un nouveau médicament et celle d’un produit X d’activité diurétique\n",
    "connue sont comparées chez la souris. Vingt souris de même âge sont réparties en deux groupes\n",
    "de 10. Un groupe reçoit le nouveau médicament et l’autre groupe reçoit le produit X. \n",
    "\n",
    "- **Question 1**. Parmi les trois méthodes indiquées ci-dessous, quelle est la méthode la plus appropriée pour constituer les deux groupes ? Justifier votre réponse.\n",
    "    1. 1ère méthode : les 20 souris sont réparties par tirage au sort en 2 groupes de 10 souris.\n",
    "    2. 2ème méthode : les 20 souris sont toutes placées dans une même cage, l’expérimentateur attrape les 10 premières souris qui se présentent à la sortie de la cage et les place dans une autre cage.\n",
    "    3. 3ème méthode : toutes les souris sont pesées afin de constituer 2 groupes de poids le plus homogène possible. Ainsi, un groupe est constitué des 10 souris de poids le plus faible ; l’autre est constitué des 10 souris de poids le plus élevé.\n",
    "- **Question 2**. Deux conceptions de protocole peuvent être envisagées. Le traitement connu peut être un placebo ou un traitement diurétique de référence. Discuter le choix de chacune de ces deux stratégies.\n",
    "- **Question 3**. Une dose fixe de 20 mg du nouveau médicament ou du produit X est administrée à chaque animal. Les deux groupes de 10 souris sont placés dans des cages à métabolisme qui permettent une mesure facile du volume urinaire.  \n",
    "  Les résultats sont contenus dans le fichier `exercice1_TD3.txt` qui est dans le dossier `data/` avec le chemin d'accès complet `data/exercice1_TD3.txt`.  \n",
    "  La diurèse observée avec le nouveau médicament est-elle significativement supérieure à celle observée avec le produit X, au risque $\\alpha = 5\\%$, et au risque $\\alpha = 1\\%$ ?"
   ]
  },
  {
   "cell_type": "code",
   "execution_count": null,
   "id": "2ec5e24e",
   "metadata": {},
   "outputs": [],
   "source": [
    "diurese = read.table(\"data/exercice1_TD3.txt\" , header = T)\n",
    "head(diurese)\n",
    "\n",
    "x = diurese$produit_x\n",
    "nv_med =diurese$nouveau_medicament\n",
    "\n",
    "lenght(x)\n",
    "lengh\n"
   ]
  },
  {
   "cell_type": "markdown",
   "id": "7c335a77",
   "metadata": {},
   "source": [
    "### Exercices supplémentaires\n",
    "\n",
    "#### Exercice 2\n",
    "\n",
    "Pour cet exercice nous allons travailler un jeu de données contenant le nombre de morts par an par pays en fonction des différentes causes de mort sur plusieurs années.\n",
    "Le fichier s'intitule `annual_number_of_deaths_by_cause.txt` et est situé dans le dossier `data/` avec le chemin d'accès complet `data/annual_number_of_deaths_by_cause.txt`.\n",
    "\n",
    "1. Charger le jeu de données et décrivez le brièvement\n",
    "   "
   ]
  },
  {
   "cell_type": "code",
   "execution_count": null,
   "id": "923e313a",
   "metadata": {},
   "outputs": [],
   "source": []
  },
  {
   "cell_type": "markdown",
   "id": "64f75c01",
   "metadata": {},
   "source": [
    "2. Quelles sont les pays où il y a eu au moins une exécution ?  \n",
    "   (indice : vous pouvez utiliser la fonction `table()` pour éviter d'afficher les pays où c'est arrivé plusieurs années)."
   ]
  },
  {
   "cell_type": "code",
   "execution_count": null,
   "id": "d6ef6b7f",
   "metadata": {},
   "outputs": [],
   "source": []
  },
  {
   "cell_type": "markdown",
   "id": "8711dd8d",
   "metadata": {},
   "source": [
    "3. Quelles sont les années où il y a eu au moins une exécution ?  \n",
    "   (indice : vous pouvez à nouveau utiliser la fonction `table()`)"
   ]
  },
  {
   "cell_type": "code",
   "execution_count": null,
   "id": "35c6b865",
   "metadata": {},
   "outputs": [],
   "source": []
  },
  {
   "cell_type": "markdown",
   "id": "e94d4ed2",
   "metadata": {},
   "source": [
    "4. Représentez le nombre de noyades (`Drowning.`) aux Barbades (`\"Barbados\"`) chaque année."
   ]
  },
  {
   "cell_type": "code",
   "execution_count": null,
   "id": "ba69a7bf",
   "metadata": {},
   "outputs": [],
   "source": []
  },
  {
   "cell_type": "markdown",
   "id": "51fd8128",
   "metadata": {},
   "source": [
    "5. Quelles sont la variance, la moyenne, l'intervalle de confiance à 98% de la moyenne, la médiane, et le premier et dernier décile du nombre de décès par hépatite aiguë (`Acute.hepatitis.`) au Kirghizistan (`Kyrgyzstan`) depuis 2004 ?\n",
    "\n",
    "**Remarque** : Vous observerez certainement des données manquantes sur `NA` (pour ***N**ot **A**vailable* en anglais). R permet de garder une trace explicite de ces données. Si vos données en contiennent, vous pouvez les enlever avec la fonction de `na.omit()` en réassignant vos données par exemple `x_no_na` :\n",
    "`x_no_na = na.omit(x)`\n",
    "\n",
    "Rappel : pour calculer des quantiles différents des quartiles, vous pouvez utiliser la fonction `quantile()` qui prend comme premier argument l'échantillon et en deuxième argument le nombre inférieur ou égal à 1 qui correspond au quantile à calculer."
   ]
  },
  {
   "cell_type": "code",
   "execution_count": null,
   "id": "eebb918f",
   "metadata": {},
   "outputs": [],
   "source": []
  },
  {
   "cell_type": "markdown",
   "id": "68c189df",
   "metadata": {},
   "source": [
    "6.Même question pour les années avant 2011 au Koweït (*Kuwait*)."
   ]
  },
  {
   "cell_type": "code",
   "execution_count": null,
   "id": "a654b93f",
   "metadata": {},
   "outputs": [],
   "source": []
  },
  {
   "cell_type": "markdown",
   "id": "866bf224",
   "metadata": {},
   "source": [
    "7. Dans quel pays et en quelles années se trouvent le nombre minimum de morts par malnutrition (`Nutritional.deficiencies.`)."
   ]
  },
  {
   "cell_type": "code",
   "execution_count": null,
   "id": "1d2045dc",
   "metadata": {},
   "outputs": [],
   "source": []
  },
  {
   "cell_type": "markdown",
   "id": "867f242a",
   "metadata": {},
   "source": [
    "8. Tester au seuil à $\\alpha = 0.98$, si la moyenne du nombre de morts par le paludisme (`Malaria`) en Inde (`\"India\"`) est inférieur à 79713."
   ]
  },
  {
   "cell_type": "code",
   "execution_count": null,
   "id": "2d203558",
   "metadata": {},
   "outputs": [],
   "source": []
  },
  {
   "cell_type": "markdown",
   "id": "4f3100bb",
   "metadata": {},
   "source": [
    "9. Tester, au seuil $\\alpha = 1\\%$, si le nombre de morts par méningite (`Meningitis.`) au Mexique (`\"Mexico\"`) est différent de sa moyenne moins une fois et demie son écart type. "
   ]
  },
  {
   "cell_type": "code",
   "execution_count": null,
   "id": "f1c88397",
   "metadata": {},
   "outputs": [],
   "source": []
  },
  {
   "cell_type": "markdown",
   "id": "20c2cb7d",
   "metadata": {},
   "source": [
    "10. Même question, mais cette fois la moyenne moins 3 fois sont écart type\n",
    "   "
   ]
  },
  {
   "cell_type": "code",
   "execution_count": null,
   "id": "2d12f894",
   "metadata": {},
   "outputs": [],
   "source": []
  },
  {
   "cell_type": "markdown",
   "id": "c857f368",
   "metadata": {},
   "source": [
    "#### Exercice 3\n",
    "\n",
    "En utilisant le jeu de données de l'exercice précédent répondez aux questions suivantes.\n",
    "\n",
    "1. Tester au seuil  $\\alpha =0.02 \\%$ si le nombre de morts par la tuberculose (`Tuberculosis.`) en Argentine (`\"Argentina\"`) est différent de celui en France."
   ]
  },
  {
   "cell_type": "code",
   "execution_count": null,
   "id": "17bfabe1",
   "metadata": {},
   "outputs": [],
   "source": []
  },
  {
   "cell_type": "markdown",
   "id": "6c4d160e",
   "metadata": {},
   "source": [
    "2. Calculer les 2 intervalles de confiance, au niveau de confiance 0.99, de ces moyennes, concluez."
   ]
  },
  {
   "cell_type": "code",
   "execution_count": null,
   "id": "3dcfea97",
   "metadata": {},
   "outputs": [],
   "source": []
  },
  {
   "cell_type": "markdown",
   "id": "4e4c154e",
   "metadata": {},
   "source": [
    "3. Tester si la moyenne du nombre de morts par maladie cardiovasculaire (`Cardiovascular.diseases.`) est différente entre l'Irlande (`\"Ireland\"`) et l'Angleterre (`\"England\"`), au seuil $\\alpha = 4\\%$.\n",
    " "
   ]
  },
  {
   "cell_type": "code",
   "execution_count": null,
   "id": "3d24fbb3",
   "metadata": {},
   "outputs": [],
   "source": []
  },
  {
   "cell_type": "markdown",
   "id": "00dc9cf8",
   "metadata": {},
   "source": [
    "6. Tester si la moyenne du nombre de morts par maladie cirrhose (`Cirrhosis.and.other.chronic.liver.diseases.`) est différente entre la France et l'Égypte (`\"Egypt\"`), au seuil $\\alpha = 1\\%$.\n"
   ]
  },
  {
   "cell_type": "code",
   "execution_count": null,
   "id": "6b5de721",
   "metadata": {},
   "outputs": [],
   "source": []
  },
  {
   "cell_type": "markdown",
   "id": "1fdd0324",
   "metadata": {},
   "source": [
    "7. Tester si la moyenne du nombre de morts liés au trouble maternel (`Maternal.disorders.`) en Italie (`\"Italy\"`) est inférieure à celui du Botswana (`\"Botswana\"`), au seuil $\\alpha 3\\%$. "
   ]
  },
  {
   "cell_type": "code",
   "execution_count": null,
   "id": "d594b33a",
   "metadata": {},
   "outputs": [],
   "source": []
  },
  {
   "cell_type": "markdown",
   "id": "9c8bf626-93a3-4df9-abf7-a5613be0aafb",
   "metadata": {},
   "source": [
    "#### Exercice 4\n",
    "\n",
    "Nous allons utiliser le jeu de données `insurance.txt` déjà utilisé dans le TD 3\n",
    "\n",
    "Rappel des données :\n",
    "\n",
    "Le fichier de données `insurance.txt`, que nous allons analyser, est constitué des données clients suivantes:\n",
    "\n",
    "- `age` : âge du principal bénéficiaire\n",
    "- `sex` : sexe de l'assureur, féminin, masculin\n",
    "- `bmi` : indice de masse corporelle (***b**ody **m**ass **i**ndex* en anglais), permettant de comprendre le corps, les poids relativement élevés ou faibles par rapport à la taille, indice objectif du poids corporel (kg/m^2) utilisant le rapport taille/poids, idéalement 18,5 à 24,9\n",
    "-  `children` : Nombre d'enfants couverts par l'assurance maladie / Nombre de personnes à charge\n",
    "- `smoker` : fumeur (`\"yes\"`) ou non (`no`)\n",
    "- `region` : zone de résidence du bénéficiaire aux États-Unis (`\"northeast\"` = Nord-Est ;  `\"northwest\"` = Nord-Ouest ; `\"southeast\"` = Sud-Est ; `\"southwest\"` = Sud-Ouest)\n",
    "- `charges` : Frais médicaux individuels facturés par l'assurance maladie\n",
    "\n",
    "1. Charger le jeu de données `insurance.txt` qui se trouve dans le dossier `data/` soit le chemin d'accès `data/insurance.txt`"
   ]
  },
  {
   "cell_type": "code",
   "execution_count": null,
   "id": "774ae6ab-5d31-42f1-a200-2b0a1c71349f",
   "metadata": {},
   "outputs": [],
   "source": []
  },
  {
   "cell_type": "markdown",
   "id": "a7e73493-dc2c-4e9a-9d7a-43b405670fa4",
   "metadata": {},
   "source": [
    "2. Soit la variable `bmi`, calculer sa moyenne, sa variance, ainsi que son écart interquartile et l'intervalle de confiance de sa moyenne au niveau de confiance 0.98 pour les femmes entre 25 et 45 ans compris."
   ]
  },
  {
   "cell_type": "code",
   "execution_count": null,
   "id": "3d65a6c1-381e-44ff-879c-d6e8538bb44d",
   "metadata": {},
   "outputs": [],
   "source": []
  },
  {
   "cell_type": "markdown",
   "id": "ff6209b8-f376-4090-a016-0520384cb896",
   "metadata": {},
   "source": [
    "3. Calculer les effectifs croisés entre les régions et le sexe  \n",
    "   (il faut utiliser la fonction `table()` en précisant les deux variables comme deux premiers arguments de la fonction)\n"
   ]
  },
  {
   "cell_type": "code",
   "execution_count": null,
   "id": "0257831f-d550-42b1-9d72-a7faf18b5112",
   "metadata": {},
   "outputs": [],
   "source": []
  },
  {
   "cell_type": "markdown",
   "id": "3c068695-778d-440d-a5e4-d55ae8af9cff",
   "metadata": {},
   "source": [
    "4. Calculer les effectifs croisés entre les individus ayant 3 enfants ou plus et la région d'habitation.\n"
   ]
  },
  {
   "cell_type": "code",
   "execution_count": null,
   "id": "cf8f08c5-7be3-4ee3-8e87-c02719987e14",
   "metadata": {},
   "outputs": [],
   "source": []
  },
  {
   "cell_type": "markdown",
   "id": "bd518aa2-0c0a-461d-869d-ed8bec268f50",
   "metadata": {},
   "source": [
    "5. Tester au seuil de $\\alpha = 2\\%$ si les charges d'assurance des hommes sont supérieures en moyenne à celle des femmes.\n"
   ]
  },
  {
   "cell_type": "code",
   "execution_count": null,
   "id": "7d69c9e3-2488-486a-bb68-9be2355a0cbe",
   "metadata": {},
   "outputs": [],
   "source": []
  },
  {
   "cell_type": "markdown",
   "id": "34f05f89-11bc-49d2-83db-d9f4aa9c850c",
   "metadata": {},
   "source": [
    "6. Calculer l'intervalle de confiance de la moyenne des charges d'assurance des hommes et celui des femmes au niveau de confiance 98% et concluez\n"
   ]
  },
  {
   "cell_type": "code",
   "execution_count": null,
   "id": "27731ab3-fb27-48ae-868e-c4324835638c",
   "metadata": {},
   "outputs": [],
   "source": []
  },
  {
   "cell_type": "markdown",
   "id": "fd44a656-dd06-4970-878a-3c0f9dba0347",
   "metadata": {},
   "source": [
    "7. Tester si les charges d'assurance des habitants du Northwest sont différentes en moyenne de celle des habitants du Southwest, au seuil $\\alpha = 5\\%$.\n"
   ]
  },
  {
   "cell_type": "code",
   "execution_count": null,
   "id": "925c3269-f813-4ceb-b2b8-4639065069e9",
   "metadata": {},
   "outputs": [],
   "source": []
  },
  {
   "cell_type": "markdown",
   "id": "4121c76c-a59d-4835-9512-2821ddabf88d",
   "metadata": {},
   "source": [
    "8. Tester si les hommes fumeurs sont plus jeunes en moyenne que les non-fumeurs, au seuil $\\alpha = 3\\%$.\n"
   ]
  },
  {
   "cell_type": "code",
   "execution_count": null,
   "id": "97e987dc-4332-4598-9352-8ff73d9d975d",
   "metadata": {},
   "outputs": [],
   "source": []
  },
  {
   "cell_type": "markdown",
   "id": "30aaa45f-8f28-4165-aa15-dee689bea0dd",
   "metadata": {},
   "source": [
    "9. Calculer l'intervalle de confiance de la moyenne de l'âge des hommes chez les fumeur puis chez les non fumeur au niveau de confiance 0.97, concluez.\n"
   ]
  },
  {
   "cell_type": "code",
   "execution_count": null,
   "id": "a0c94ed8-15fc-4197-b215-3588eebfc4cc",
   "metadata": {},
   "outputs": [],
   "source": []
  },
  {
   "cell_type": "markdown",
   "id": "7d4be40b-5c17-4fc9-af41-8a9de92468ee",
   "metadata": {},
   "source": [
    "10. Tester si les femmes fumeuses sont plus âgées en moyenne que les non-fumeuses, au seuil $\\alpha = 3\\%$.\n"
   ]
  },
  {
   "cell_type": "code",
   "execution_count": null,
   "id": "32dd5b6d-8021-4182-9c40-942b7da601fb",
   "metadata": {},
   "outputs": [],
   "source": []
  },
  {
   "cell_type": "markdown",
   "id": "00643179-6745-4d49-919a-fb16ac7db154",
   "metadata": {},
   "source": [
    "11. Calculer l'intervalle de confiance de la moyenne de l'âge des femmes chez les fumeuses puis chez les non fumeuses au niveau de confiance 0.97, concluez."
   ]
  },
  {
   "cell_type": "code",
   "execution_count": null,
   "id": "d68f957a-23e6-495a-8e58-73821313b01d",
   "metadata": {},
   "outputs": [],
   "source": []
  }
 ],
 "metadata": {
  "kernelspec": {
   "display_name": "R",
   "language": "R",
   "name": "ir"
  },
  "language_info": {
   "codemirror_mode": "r",
   "file_extension": ".r",
   "mimetype": "text/x-r-source",
   "name": "R",
   "pygments_lexer": "r",
   "version": "4.3.3"
  }
 },
 "nbformat": 4,
 "nbformat_minor": 5
}
