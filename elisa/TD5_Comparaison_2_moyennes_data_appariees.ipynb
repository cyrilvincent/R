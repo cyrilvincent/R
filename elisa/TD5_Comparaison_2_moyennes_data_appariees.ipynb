{
 "cells": [
  {
   "cell_type": "markdown",
   "id": "e7e55e1a-ea7e-4648-b4cd-2c8d80f6d3f4",
   "metadata": {},
   "source": [
    "# TD 5 : Test de comparaison de deux moyennes de deux échantillons appariés\n",
    "\n",
    "Christelle Gonindard, Matthais Grenié, et François Bettega"
   ]
  },
  {
   "cell_type": "markdown",
   "id": "f07a70f2-7c93-4d88-99cb-fd3d02ff0891",
   "metadata": {},
   "source": [
    "<div class=\"alert alert-info\">\n",
    "\n",
    "## Objectifs\n",
    "\n",
    "- Faire la différence entre des données appariées et des données indépendantes\n",
    "- Connaître les conditions d'application d'un test de comparaison de moyennes entre deux échantillons appariés\n",
    "- Apprendre à mettre en œuvre un test de Student pour comparer une moyennes entre deux échantillons appariés\n",
    "- Interpréter le résultat de ce test\n",
    "\n",
    "</div>"
   ]
  },
  {
   "cell_type": "markdown",
   "id": "276ac25d-74ef-4f2a-91d6-c97a7b06912a",
   "metadata": {},
   "source": [
    "## 1. Présentation des données\n",
    "\n",
    "Ce jeu de données contient le résultat des taux sériques d’une hormone, exprimées en\n",
    "ng⋅mL⁻¹, obtenus sur quinze patients grâce à des prélèvements sanguins, à l’aide de 2 techniques de dosage A et B.\n",
    "\n",
    "**La question posée est la suivante : Les deux techniques de dosages diffèrent-elles ?**\n",
    "\n",
    "Les données sont contenues dans le fichier `dosage_serique.txt` dans le dossier `data/`.\n",
    "\n",
    "Le jeu de données comporte 3 colonnes et 15 lignes (une par patient) :\n",
    "\n",
    "- `id` : le numéro du patient\n",
    "- `a` : le résultat de dosage par la technique A\n",
    "- `b` : le résultat de dosage par la technique B\n",
    "\n",
    "Ici, ce qui nous intéresse c'est la différence entre les deux techniques, il peut être intéressant de construire une variable `d` qui soit la différence entre les deux techniques de dosage A et B.\n",
    "\n",
    "1. Lisez les données\n",
    "2. Présentez les données\n",
    "3. Faites vos premières hypothèses\n"
   ]
  },
  {
   "cell_type": "code",
   "execution_count": null,
   "id": "5eacd808",
   "metadata": {},
   "outputs": [],
   "source": []
  },
  {
   "cell_type": "code",
   "execution_count": null,
   "id": "77510fa1",
   "metadata": {},
   "outputs": [],
   "source": []
  },
  {
   "cell_type": "markdown",
   "id": "3e83aee7",
   "metadata": {},
   "source": [
    "La moyenne obtenue pour le dosage A semble plus faible que la moyenne obtenue pour le dosage\n",
    "B, cette tendance est confirmée par le boxplot représentant A-B, ou l’on peut constater que le troisième quartile est largement en dessous de 0. Tester la sur-estimation ou sous-estimation entre les deux dosages revient donc à tester que la première moyenne est effectivement plus faible que la seconde."
   ]
  },
  {
   "cell_type": "markdown",
   "id": "2335ac97-892c-48b9-bad4-e7bff711c3c2",
   "metadata": {},
   "source": [
    "## 2. Principe du test de Student pour données appariées\n",
    "\n",
    "Données appariées.\n",
    "\n",
    "Dans le cas présent, si les deux techniques sont identiques alors les valeurs d qui représente\n",
    "la différence entre les deux dosages devraient être égales à 0, ce qui revient encore à dire que la\n",
    "moyenne des différences $\\mu _d$ devrait également être égale à 0, ce sera donc notre hypothèse H0.\n",
    "Le principe de ce test est le suivant : il va vérifier si $\\mu _d$ est suffisamment éloigné de 0 avec un\n",
    "certain risque d’erreur $\\alpha$ pour que les deux techniques soient considérées comme significativement\n",
    "différentes.\n",
    "Le test calcule donc la différence entre $\\mu _d$ et 0 et divise par son écart-type pour normaliser :\n",
    "\n",
    "$$Statistique = \\frac{\\mu _d - 0}{\\frac{S_d}{\\sqrt {n}}}$$\n",
    " "
   ]
  },
  {
   "cell_type": "markdown",
   "id": "5d1306f1-d225-458c-ac1b-188f3e892c6c",
   "metadata": {},
   "source": [
    "## 3. Hypothèses du test \n",
    "\n",
    "H0 : le dosage A est égale au dosage B ce qui revient également à d = 0.\n",
    "\n",
    "H1 : le dosage A est plus faible que le dosage B ce qui revient également à d < 0."
   ]
  },
  {
   "cell_type": "markdown",
   "id": "e9294b3a-d271-4714-bcab-432623080034",
   "metadata": {},
   "source": [
    "## 4. Condition d'application\n",
    "\n",
    "- aucune si $n \\ge 30$\n",
    "- si $n < 30$, il faut que la variable aléatoire différence $d$ soit distribuée normalement.\n",
    "\n",
    "Dans ce cas, l’important avant de réaliser ce test est de vérifier que la différence entre les deux dosages suit un loi normale, car l'effectif de l'échantillon est de 15.\n",
    "\n",
    "Nous allons réaliser un test de Shapiro sur la différence entre A et B avec les hypothèses suivantes : \n",
    "\n",
    "H0 : la distribution de la différence suit une loi normale.  \n",
    "H1 : la distribution de la différence ne suit pas une loi normale."
   ]
  },
  {
   "cell_type": "code",
   "execution_count": null,
   "id": "0c6af41d",
   "metadata": {},
   "outputs": [],
   "source": []
  },
  {
   "cell_type": "markdown",
   "id": "70fe9236",
   "metadata": {},
   "source": [
    "**Conclusion** :  \n",
    "\n"
   ]
  },
  {
   "cell_type": "markdown",
   "id": "0bcf1fd7",
   "metadata": {},
   "source": [
    "## 5. Réalisation du test de Student pour données appariées\n",
    "\n",
    "Pour réaliser le test de Student avec des échantillons appariés vous pouvez utiliser la fonction `t.test.()` qui prend comme deux premiers arguments les deux échantillons et préciser l'argument `paired=` en lui donnant la valeur `TRUE` (ce qui donne `paired = TRUE`, *paired* signifie apparié en anglais)."
   ]
  },
  {
   "cell_type": "code",
   "execution_count": null,
   "id": "24608505",
   "metadata": {},
   "outputs": [],
   "source": []
  },
  {
   "cell_type": "markdown",
   "id": "e0f2c67e",
   "metadata": {},
   "source": [
    "**Conclusion** :  \n",
    "\n"
   ]
  },
  {
   "cell_type": "markdown",
   "id": "7c1e6952-abf0-4a5d-b686-5e243c15808e",
   "metadata": {},
   "source": [
    "*Note : tester si les deux dosages sont différents en précisant qu'ils sont appariés avec `paired = TRUE` est identique à tester si la différence `d` est différente d'une moyenne théorique de 0*"
   ]
  },
  {
   "cell_type": "markdown",
   "id": "414a34fc-8669-4dbc-a38b-3ccec4231329",
   "metadata": {},
   "source": [
    "<div class=\"alert alert-success\">\n",
    "\n",
    "## En résumé\n",
    "\n",
    "Dans cette séance :\n",
    "\n",
    "- Nous avons appris à effectuer un test de Student avec la fonction `t.test()`, avec l'argument `mu = ` qui donne la moyenne théorique\n",
    "- Nous avons appris les conditions d'application des tests de Student de comparaison à une moyenne théorique : si $n \\geq 30$, on peut directement procéder au test ; sinon, il faut vérifier la normalité de l'échantillon\n",
    "- Nous avons appris la différence entre test **bilatéral** et **unilatéral** : un test bilatéral ne donne pas d'information sur le sens de la différence testée alors qu'un test unilatéral permet de savoir si la moyenne observée est soit supérieure soit inférieure à la moyenne théorique\n",
    "- Pour réaliser un test bilatéral on peut utiliser la fonction `t.test()` directement ou en spécifiant l'argument `alternative = \"two.sided\"`\n",
    "- Pour réaliser un test unilatéral on doit spécifier `alternative = \"greater\"`, pour tester si la moyenne observée est supérieure à la moyenne théorique ; `alternative = \"less\"` pour tester si la moyenne observée est inférieure à la moyenne théorique\n",
    "\n",
    "</div>"
   ]
  },
  {
   "cell_type": "markdown",
   "id": "acc67284",
   "metadata": {},
   "source": [
    "## 6. Exercices\n",
    "\n",
    "### Exercice 1 : somnifère dorbienal\n",
    "\n",
    "Le dorbienal est un nouveau somnifère. Après avoir démontré la non-dangerosité de leur\n",
    "molécule, le laboratoire espère prouver son efficacité. Pour cela, il lance un test sur une cohorte\n",
    "de 15 personnes. Le protocole est le suivant :\n",
    "1. Le temps de sommeil des 15 personnes est mesuré tous les jours pendant une semaine (période témoin).\n",
    "2. Les patients sont ensuite traités pendant 15 jours avec le dorbienal.\n",
    "3. Le traitement est prolongé une semaine supplémentaire pendant laquelle leur temps de sommeil est nouveau mesuré (période de traitement).\n",
    "\n",
    "Pendant toute l’expérience, on demande aux personnes de bien respecter une heure de coucher\n",
    "constante à 23h.\n",
    "- Question 1 : Ce protocole vous semble-t-il approprié à l’étude de l’efficacité du dorbienal, justifiez ?\n",
    "- Question 2 : Quelle caractéristique principale à ce jeu de données et quel est l’avantage principal de ce type de jeu de données ?\n",
    "- Question 3 : Le dorbienal est-il efficace ? Vous répondrez pour un seuil de 1% et 5% et concluez.\n",
    "\n",
    "Les données sont contenues dans le fichier *data_dorbienal.txt*\n"
   ]
  },
  {
   "cell_type": "code",
   "execution_count": null,
   "id": "4f3ffa0c",
   "metadata": {},
   "outputs": [],
   "source": []
  },
  {
   "cell_type": "markdown",
   "id": "1be76c7d",
   "metadata": {},
   "source": [
    "### Exercice 2 : données appariées ou indépendantes ?\n",
    "\n",
    "Parmi les exemples suivants les données sont-elles appariées ou indépendantes ?\n",
    "\n",
    "1. Un laboratoire pharmaceutique souhaite tester l'efficacité d'un nouveau médicament contre l'hypertension. Son approche consiste à échantillonner la tension de quelques personnes avant et après la prise des médicaments. "
   ]
  },
  {
   "cell_type": "markdown",
   "id": "fc182606",
   "metadata": {},
   "source": []
  },
  {
   "cell_type": "markdown",
   "id": "ff50fc2f",
   "metadata": {},
   "source": [
    "2. Un laboratoire pharmaceutique souhaite tester l'efficacité d'un nouveau médicament contre l'hypertension. Son approche consiste à donner un médicament actif à un groupe de personnes et donner un placebo inactif à un autre groupe, puis comparer la tensions artérielle entre les groupes "
   ]
  },
  {
   "cell_type": "markdown",
   "id": "efedf5c0",
   "metadata": {},
   "source": []
  },
  {
   "cell_type": "markdown",
   "id": "bc133380",
   "metadata": {},
   "source": [
    "3. On souhaite comparer le salaire moyen des femmes cadres et celui des hommes cadres. "
   ]
  },
  {
   "cell_type": "markdown",
   "id": "2bda9bef",
   "metadata": {
    "slideshow": {
     "slide_type": "slide"
    }
   },
   "source": []
  },
  {
   "cell_type": "markdown",
   "id": "60886d4b",
   "metadata": {},
   "source": [
    "4. \tOn souhaite comparer l'efficacité de deux pommades hydratantes A et B. On applique chez des patients une pommade sur la main droite, et l'autre sur la main gauche et on mesure le résultat au bout de quelques heures. "
   ]
  },
  {
   "cell_type": "markdown",
   "id": "4004c073",
   "metadata": {},
   "source": []
  },
  {
   "cell_type": "markdown",
   "id": "4d3a9b6d",
   "metadata": {},
   "source": [
    "5. On cherche à comparer deux méthodes de prélèvements (prise de sang et tests salivaires) pour estimer la prévalence du vecteur du paludisme. On applique les deux méthodes sur chaque patient d'un hôpital."
   ]
  },
  {
   "cell_type": "markdown",
   "id": "1787b0c1",
   "metadata": {},
   "source": []
  },
  {
   "cell_type": "markdown",
   "id": "0a277b26",
   "metadata": {},
   "source": [
    "6. On se demande si les pattes avant et arrière des chevreuils ont la même longueur. On mesure la différence de longueur entre pattes avant et arrière sur un échantillon de 354 chevreuils de la forêt de Fontainebleau pour déterminer si en moyenne la longueur des pattes avant et arrière est la même."
   ]
  },
  {
   "cell_type": "markdown",
   "id": "bb242c18",
   "metadata": {},
   "source": []
  },
  {
   "cell_type": "markdown",
   "id": "afebad1d",
   "metadata": {},
   "source": [
    "7. Comparer les performances de deux machines au vu de la proportion de pièces défectueuses qu’elles produisent.\n"
   ]
  },
  {
   "cell_type": "markdown",
   "id": "96de0b2b",
   "metadata": {},
   "source": []
  },
  {
   "cell_type": "markdown",
   "id": "2273fad1",
   "metadata": {},
   "source": [
    "8. Comparer la durée de vie moyenne des PME en 2008 et en 1950.\n"
   ]
  },
  {
   "cell_type": "markdown",
   "id": "4e493f55",
   "metadata": {},
   "source": []
  },
  {
   "cell_type": "markdown",
   "id": "1e444dc2",
   "metadata": {},
   "source": [
    "9. On souhaite comparer le taux d’insuline est mesuré sur 30 patients recevant un placebo et 30 autres patients recevant un traitement médical. "
   ]
  },
  {
   "cell_type": "markdown",
   "id": "c1cedcb8-f6fe-44c7-ac99-7209b1fa77dd",
   "metadata": {},
   "source": []
  },
  {
   "cell_type": "markdown",
   "id": "b06c3c7a",
   "metadata": {},
   "source": [
    "10. Les données du tableau ci-dessous présentent la durée de courses de différents coureurs avant et après entrainement.\n",
    "\n",
    "| Individuals |       Mesure       | Durée de courses (h) |\n",
    "|:-----------:|:------------------:|:--------------------:|\n",
    "|      1      | avant-entrainement |          1.1         |\n",
    "|      1      | après-entrainement |          1.0         |\n",
    "|      2      | avant-entrainement |          1.5         |\n",
    "|      2      | après-entrainement |          1.6         |\n",
    "|      3      | avant-entrainement |          0.8         |\n",
    "|      3      | après-entrainement |          1.1         |\n",
    "|      4      | avant-entrainement |          0.7         |\n",
    "|      4      | après-entrainement |          0.7         |\n",
    "|      5      | avant-entrainement |          1.3         |\n",
    "|      5      | après-entrainement |          1.4         |\n",
    "\n"
   ]
  },
  {
   "cell_type": "markdown",
   "id": "2f886603",
   "metadata": {},
   "source": []
  },
  {
   "cell_type": "markdown",
   "id": "21d8bd87",
   "metadata": {},
   "source": [
    "11. Les données du tableau ci-dessous représentent des dosages de tacrolimus (prograf/advagraf). Cet immunomodulateur est notamment utilisé dans les greffes. C'est un médicament à marge thérapeutique étroite dont les concentrations doivent être surveillées. Voici les dosages de plusieurs patients selon la greffe dont ils ont bénéficié.\n",
    "|      Groupe      | Dosage de tacrolimus ng/ml |\n",
    "|:----------------:|:--------------------------:|\n",
    "|   Greffe rénale  |              4             |\n",
    "|   Greffe rénale  |              6             |\n",
    "|   Greffe rénale  |              5             |\n",
    "|   Greffe rénale  |              5             |\n",
    "|   Greffe rénale  |              5             |\n",
    "| Greffe cardiaque |              9             |\n",
    "| Greffe cardiaque |              8             |\n",
    "| Greffe cardiaque |              3             |\n",
    "| Greffe cardiaque |              6             |\n",
    "| Greffe cardiaque |              4             |\n",
    "\n"
   ]
  },
  {
   "cell_type": "markdown",
   "id": "d9d33df1",
   "metadata": {},
   "source": []
  },
  {
   "cell_type": "markdown",
   "id": "45770960",
   "metadata": {},
   "source": [
    "12. Les données du tableau ci-dessous représentent le score de Montgomery-Åsberg Depression Rating Scale. C'est un score servant à mesurer le niveau de dépression. Les patients sont évalués avant l'initiation du traitement et après 6 mois de traitement.\n",
    "\n",
    "| Score de dépression avant traitement | Score de dépression après traitement |\n",
    "|:------------------------------------:|:------------------------------------:|\n",
    "|                  35                  |                  23                  |\n",
    "|                  40                  |                  15                  |\n",
    "|                  30                  |                   7                  |\n",
    "|                  42                  |                  43                  |\n",
    "|                  50                  |                  12                  |\n",
    "|                  45                  |                  39                  |"
   ]
  },
  {
   "cell_type": "markdown",
   "id": "661d1736",
   "metadata": {},
   "source": []
  },
  {
   "cell_type": "markdown",
   "id": "2215709f",
   "metadata": {},
   "source": [
    "13. 20 souris ont reçu un traitement X pendant 3 mois. On se pose la question à savoir si le traitement X a un impact sur le poids des souris au bout des 3 mois. Le poids des 20 souris a donc été mesuré avant et après traitement. Ce qui nous donne 20 séries de valeurs avant traitement et 20 autres séries de valeurs après traitement provenant de la mesure du poids des mêmes souris.\n"
   ]
  },
  {
   "cell_type": "markdown",
   "id": "b4ec0b78",
   "metadata": {},
   "source": []
  },
  {
   "cell_type": "markdown",
   "id": "2b223cbc",
   "metadata": {},
   "source": [
    "14. Nous avons un groupe de 100 individus (50 femmes et 50 hommes) pris au hasard au sein de la population. On se pose la question à savoir si le poids moyen des femmes est significativement différent de celui des hommes?\n"
   ]
  },
  {
   "cell_type": "markdown",
   "id": "03657df6",
   "metadata": {},
   "source": []
  }
 ],
 "metadata": {
  "kernelspec": {
   "display_name": "R",
   "language": "R",
   "name": "ir"
  },
  "language_info": {
   "codemirror_mode": "r",
   "file_extension": ".r",
   "mimetype": "text/x-r-source",
   "name": "R",
   "pygments_lexer": "r",
   "version": "4.3.3"
  }
 },
 "nbformat": 4,
 "nbformat_minor": 5
}
