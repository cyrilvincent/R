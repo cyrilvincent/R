{
 "cells": [
  {
   "cell_type": "markdown",
   "id": "1edb38bb-46eb-460c-ab96-05b35519c136",
   "metadata": {},
   "source": [
    "# TD 3 : Test de comparaison d'une moyenne observée à une moyenne théorique\n",
    "\n",
    "Christelle Gonindard, Matthais Grenié, François Bettega"
   ]
  },
  {
   "cell_type": "markdown",
   "id": "458abe34-6156-4132-926f-0170860b9ef0",
   "metadata": {},
   "source": [
    "<div class=\"alert alert-info\">\n",
    "\n",
    "## Objectifs\n",
    "\n",
    "- Faire la différence entre un test bilatéral et un test unilatéral\n",
    "- Connaître les conditions d'application d'un test de comparaison de moyenne observée à une moyenne théorique\n",
    "- Apprendre à mettre en œuvre un test de Student pour comparer une moyenne observée à une moyenne théorique\n",
    "- Interpréter le résultat de ce test\n",
    "\n",
    "</div>"
   ]
  },
  {
   "cell_type": "markdown",
   "id": "7423f53a-ff9d-41c2-9238-2bc181617804",
   "metadata": {},
   "source": [
    "## 1. Présentation des données\n",
    "\n",
    "Un clinicien évalue l’intensité de la dépression sur l’échelle de Hamilton qui varie de 0 (non\n",
    "déprimé) à 56 (très déprimé), chez 100 patients sou\u000b",
    "rant d’un Episode Dépressif Majeur (EDM).\n",
    "On veut savoir si l’acupuncture améliore l’évolution de la dépression. Pour cela, 100 malades\n",
    "de même état dépressif (même score de Hamilton) sont répartis en 2 groupes de 50 par tirage\n",
    "au sort. Le groupe I a reçu uniquement le traitement pharmacologique et le groupe II a reçu le\n",
    "traitement pharmacologique associé à de l’acupuncture.\n",
    "\n",
    "Le jeu de données contient les variables suivantes en colonne :\n",
    "- `hamilton_g1` : Les scores de Hamilton, après 8 mois de traitement pour le groupe 1 ;\n",
    "- `hamilton_g2` : Les scores de Hamilton, après 8 mois de traitement pour le groupe 2 ;\n",
    "- `age_g1` : l’âge des patients du groupe 1 ;\n",
    "- `age_g2` : l’âge des patients du groupe 2 ;\n",
    "- `poids_g1` : le poids des patients du groupe 1 ;\n",
    "- `poids_g2` : le poids des patients du groupe 2 ;\n",
    "- `sexe_g1` : le sexe des patients du groupe 1 (`\"F\"` : femme, `\"H\"` : homme) ;\n",
    "- `sexe_g2` : le sexe des patients du groupe 2 (`\"F\"` : femme, `\"H\"` : homme) ;\n",
    "- `urbanisation_g1` : le niveau d’urbanisation dans lequel vivent les patients du groupe 1 (`\"A\"` : rural, `\"B\"` : urbanisation modéré, `\"C\"` : fortement urbanisé) ;\n",
    "- `urbanisation_g2` : le niveau d’urbanisation dans lequel vivent les patients du groupe 2 (`\"A\"` : rural, `\"B\"` : urbanisation modéré, `\"C\"` : fortement urbanisé).\n",
    "\n",
    "Les données sont contenues dans le fichier texte nommé `depression.txt` qui se trouve dans le dossier `data`. Le chemin d'accès complet du fichier est donc `data/depression.txt`."
   ]
  },
  {
   "cell_type": "code",
   "execution_count": null,
   "id": "c7e80ec0",
   "metadata": {},
   "outputs": [],
   "source": [
    "\n",
    "# Afficher le début du contenu du fichier de données \n",
    "\n",
    "# chargement des fonctions dont vous aurez besoin (à partir de maintenant pensez à l'ajouter vous même \n",
    "# dans les TD suivants)\n",
    "CI <- function(x, confidence){\n",
    "    alpha = 1 - confidence\n",
    "    mu = mean(x)\n",
    "    sigma = sd(x)\n",
    "    n = length(x)\n",
    "    CI_inf = mu - (qt(1 - alpha/2, n-1) * sigma/sqrt(n))\n",
    "    CI_sup = mu + (qt(1 - alpha/2, n-1) * sigma/sqrt(n))\n",
    "    CI = c(inf = CI_inf, sup = CI_sup) \n",
    "    return(CI)\n",
    "}"
   ]
  },
  {
   "cell_type": "markdown",
   "id": "4cd875bd",
   "metadata": {},
   "source": [
    "## 2. Test bilatéral \n",
    "\n",
    "**Objectif : On voudrait savoir si les scores de Hamilton observés dans le groupe 1 chez les\n",
    "femmes sont égaux en moyenne à 29.**\n",
    "\n",
    "### Principe\n",
    "\n",
    "Nous devons réaliser un [test de Student](https://fr.wikipedia.org/wiki/Test_de_Studenthttps://fr.wikipedia.org/wiki/Test_de_Student) comparant la moyenne estimée par la fonction\n",
    "`mean()` avec la moyenne théorique escomptée $E = 29$ dans notre cas.\n",
    "\n",
    "On va réaliser un test statistique qui va vérifier si l’écart entre la moyenne observée $\\mu$ dans\n",
    "l’échantillon et la moyenne théorique $\\mu_0$. S'il est suffisamment éloigné de 0 avec un certain\n",
    "risque d’erreur $\\alpha$ alors on considère que les deux moyennes sont différentes.\n",
    "\n",
    "Le test calcule la valeur $T$ qui est la différence entre $\\mu$ et $\\mu_0$ et divise par son écart-type pour normaliser :\n",
    "\n",
    "$$ T = \\frac{\\mu - \\mu_0}{\\sqrt{\\frac{S ^2}{n} }}$$\n",
    "\n",
    "avec $S$ l'écart-type de notre échantillon et $n$ la taille de notre échantillon.\n",
    "On voit avec l'équation ci-dessus que plus l'écart entre la moyenne observée et la moyenne théorique est grand, pour une taille d'échantillon donné, plus la valeur $T$ va être grande. Inversement, plus l'écart sera petit, plus la valeur de $T$ sera petite.\n",
    "\n",
    "On parle de test **bilatéral**, car notre test ne conclue sur la **direction** de la différence entre la moyenne observée et la moyenne théorique. Il teste seulement si $\\mu$ est différent de $\\mu_0$, mais pas si $\\mu$ est supérieure ou inférieure à $\\mu_0$.\n",
    "\n",
    "On peut visualiser le test de la façon suivante :\n",
    "\n",
    "<img src=\"Figures/Test_bilateral.jpg\" />\n",
    "\n",
    "Pour notre exemple, les **hypothèses du test** sont :\n",
    "\n",
    "H0 : le score de Hamilton chez les femmes du groupe 1 est égal à 29.\n",
    "\n",
    "H1 : le score de Hamilton chez les femmes du groupe 1 n’est pas égal à 29.\n",
    "\n",
    "*Application : Extrayez l'échantillon et calculez sa taille avec la fonction `length()`*"
   ]
  },
  {
   "cell_type": "code",
   "execution_count": null,
   "id": "ed8b0f48",
   "metadata": {},
   "outputs": [],
   "source": []
  },
  {
   "cell_type": "markdown",
   "id": "4de7c333",
   "metadata": {},
   "source": [
    "### Conditions d'application\n",
    "\n",
    "Pour réaliser le test de Student de comparaison d'une moyenne observée à une moyenne théorique il fait vérifier une condition d'application qui dépend de la taille de l'échantillon :\n",
    "- Si la taille de l’échantillon est grande ($n \\geq 30$) : pas de condition d’application à vérifier, on peut réaliser le test directement ;\n",
    "- Si la taille de l’échantillon est petite ($n < 30$) : il faut que les données suivent une loi normale\n",
    "\n",
    "Comme on observe que $n = 11$, on doit vérifier la normalité des données de notre échantillon. On peut le faire avec le test de Shapiro-Wilk"
   ]
  },
  {
   "cell_type": "markdown",
   "id": "c70f6efb",
   "metadata": {},
   "source": [
    "Rappel des hypothèses du test de Shapiro\n",
    "\n",
    "H0 : ???\n",
    "\n",
    "H1 : ???"
   ]
  },
  {
   "cell_type": "code",
   "execution_count": null,
   "id": "7215d6fb",
   "metadata": {},
   "outputs": [],
   "source": []
  },
  {
   "cell_type": "markdown",
   "id": "25866884",
   "metadata": {},
   "source": [
    "**Conclusion :**\n"
   ]
  },
  {
   "cell_type": "markdown",
   "id": "2586f62e",
   "metadata": {},
   "source": [
    "### Réalisation du test\n",
    "\n",
    "Pour réaliser le test de Student, on utilise la fonction `t.test()` qui prend comme premier argument l'échantillon à tester et un argument `mu=` qui est la valeur de la moyenne théorique avec laquelle le comparer."
   ]
  },
  {
   "cell_type": "code",
   "execution_count": null,
   "id": "b5a5cfd0",
   "metadata": {},
   "outputs": [],
   "source": []
  },
  {
   "cell_type": "markdown",
   "id": "359f6b73",
   "metadata": {},
   "source": [
    "**Conclusion** :\n",
    "\n"
   ]
  },
  {
   "cell_type": "markdown",
   "id": "92dca870-d0e0-4d93-83ea-25d87ba4f46b",
   "metadata": {},
   "source": [
    "## 3. Test unilatéral\n",
    "\n",
    "**Objectif : On voudrait savoir si les scores de Hamilton observés dans le groupe 1 chez les\n",
    "femmes sont supérieurs en moyenne à 29**\n",
    "\n",
    "### Principe\n",
    "\n",
    "On différencie les tests **unilatéraux** des tests bilatéraux car il teste le **sens** de la différence entre l'échantillon et l'attendu.\n",
    "Dans le cas du test de Student, on peut tester si la moyenne observée est **supérieure** ou bien tester si elle est **inférieure** à la moyenne théorique.\n",
    "\n",
    "<img src=\"Figures/Test_unilateral.jpg\" />\n",
    "\n",
    "Dans ce cas, nous allons réaliser un test unilatéral :\n",
    "\n",
    "H0 : le score de Hamilton chez les femmes du groupe 1 est égal à 29.\n",
    "\n",
    "H1 : le score de Hamilton chez les femmes du groupe 1 est supérieur à 29."
   ]
  },
  {
   "cell_type": "markdown",
   "id": "77d97467-d92c-4138-8c10-b21132b9f357",
   "metadata": {},
   "source": [
    "### Conditions d'application\n",
    "\n",
    "Ce sont les même conditions d'application que pour le test bilatéral et donc elles ont déjà été vérifiées"
   ]
  },
  {
   "cell_type": "markdown",
   "id": "0cce4f06-6e98-44a6-8a6a-c22e9663d743",
   "metadata": {},
   "source": [
    "### Réalisation du test\n",
    "\n",
    "Pour réaliser un test unilatéral il faut spécifier à la fonction `t.test()` l'argument `alternative=`. Cela signifie qu'on change d'hypothèse **alternative**. Cet argument peut prendre trois valeurs :\n",
    "\n",
    "- Par défaut, cet argument vaut la valeur `\"two.sided\"`, ce qui correspond à un test bilatéral.\n",
    "- `\"greater\"`, cela signifie qu'on teste si notre moyenne observée est **supérieure** à la moyenne théorique (*greater* en anglais).\n",
    "- `\"less\"`, cela signifie qu'on teste si notre moyenne observée est **inférieure** à la moyenne théorique (*less* en anglais).\n",
    "\n",
    "Donc pour réaliser notre unilatéral il faut donner à la fonction `t.test()` :\n",
    "- notre échantillon,\n",
    "- l'argument `mu = 29` pour préciser la valeur de la moyenne théorique,\n",
    "- l'argument `alternative = \"greater\"` pour préciser que l'on veut tester si notre moyenne observée est supérieure à 29.\n",
    "\n",
    "*Réalisez le test*"
   ]
  },
  {
   "cell_type": "code",
   "execution_count": null,
   "id": "e8cd90f8",
   "metadata": {},
   "outputs": [],
   "source": []
  },
  {
   "cell_type": "markdown",
   "id": "4f19c155",
   "metadata": {},
   "source": [
    "**Conclusion** :\n",
    "\n"
   ]
  },
  {
   "cell_type": "markdown",
   "id": "ff74de9b-1ae7-47f9-95f9-819a0bd71bc2",
   "metadata": {},
   "source": [
    "<div class=\"alert alert-success\">\n",
    "\n",
    "## En résumé\n",
    "\n",
    "Dans cette séance :\n",
    "\n",
    "- Nous avons appris à effectuer un test de Student avec la fonction `t.test()`, avec l'argument `mu = ` qui donne la moyenne théorique\n",
    "- Nous avons appris les conditions d'application des tests de Student de comparaison à une moyenne théorique : si $n \\geq 30$, on peut directement procéder au test ; sinon, il faut vérifier la normalité de l'échantillon\n",
    "- Nous avons appris la différence entre test **bilatéral** et **unilatéral** : un test bilatéral ne donne pas d'information sur le sens de la différence testée alors qu'un test unilatéral permet de savoir si la moyenne observée est soit supérieure soit inférieure à la moyenne théorique\n",
    "- Pour réaliser un test bilatéral on peut utiliser la fonction `t.test()` directement ou en spécifiant l'argument `alternative = \"two.sided\"`\n",
    "- Pour réaliser un test unilatéral on doit spécifier `alternative = \"greater\"`, pour tester si la moyenne observée est supérieure à la moyenne théorique ; `alternative = \"less\"` pour tester si la moyenne observée est inférieure à la moyenne théorique\n",
    "\n",
    "</div>"
   ]
  },
  {
   "cell_type": "markdown",
   "id": "c198b987",
   "metadata": {},
   "source": [
    "## 4. Exercices d'application\n",
    "\n",
    "###  Exercice 1\n",
    "\n",
    "Répondez aux questions suivantes, les tests seront réalisés au seuil $\\alpha=0.02$ :\n",
    "\n",
    "1. Est ce que les scores de Hamilton observés dans le groupe 2 chez les femmes est inférieur en moyenne à 29?\n",
    "2. Est ce que les scores de Hamilton observés dans le groupe 1 chez les hommes est supérieur en moyenne à 29?\n",
    "3. Est ce que les scores de Hamilton observés dans le groupe 2 chez les hommes est supérieur en moyenne à 29?\n",
    "4. Est ce que les scores de Hamilton observés dans le groupe 1 chez les femmes est supérieur en moyenne à 29?\n",
    "\n",
    "Concluez.\n"
   ]
  },
  {
   "cell_type": "code",
   "execution_count": 1,
   "id": "fe583e07",
   "metadata": {},
   "outputs": [
    {
     "ename": "ERROR",
     "evalue": "Error: object 'depression' not found\n",
     "output_type": "error",
     "traceback": [
      "Error: object 'depression' not found\nTraceback:\n"
     ]
    }
   ],
   "source": [
    "femme_g2 = depression$hamilton_g2[depression$sexe_g2 == \"g\"]\n",
    "lenght(femme_g1)\n",
    "shapiro.test(femme_g2)\n",
    "t.test(femme_g2, mu = 29 , alternative = \"greater\")"
   ]
  },
  {
   "cell_type": "markdown",
   "id": "d9904f0d",
   "metadata": {},
   "source": [
    "### Exercice 2 (à faire à la maison pour s'entrainer)\n",
    "\n",
    "Répondez aux questions suivantes, les tests seront réalisés au seuil $\\alpha=0.01$ :\n",
    "\n",
    "1. Est-ce que les scores de Hamilton observés dans le groupe 2 dans les zones rurales sont différents en moyenne à 29?\n",
    "2. Est-ce que les scores de Hamilton observés dans le groupe 2 dans les zones à urbanisation modéré sont différents en moyenne à 29?\n",
    "3. Est-ce que les scores de Hamilton observés dans le groupe 2 dans les zones fortement urbanisées sont inférieurs en moyenne à 25?\n",
    "\n",
    "\n",
    "4. Est-ce que les scores de Hamilton observés dans le groupe 1 dans les zones rurales sont inférieurs en moyenne à 39?\n",
    "5. Est-ce que les scores de Hamilton observés dans le groupe 1 dans les zones à urbanisation modéré sont supérieurs en moyenne à 29?\n",
    "6. Est-ce que les scores de Hamilton observés dans le groupe 1 dans les zones fortement urbanisées sont différents en moyenne à 25?\n",
    "\n",
    "Concluez."
   ]
  },
  {
   "cell_type": "code",
   "execution_count": null,
   "id": "3cff052d",
   "metadata": {},
   "outputs": [],
   "source": []
  },
  {
   "cell_type": "markdown",
   "id": "7a18d4c2",
   "metadata": {},
   "source": [
    "## 5. Exercices supplémentaires\n",
    "\n",
    "Cette partie vous permettra de réviser tout ce que nous avons fait au cours des trois premiers TDs. \n",
    "\n",
    "Le fichier de données `insurance.txt`, que nous allons analyser, est constitué des données clients suivantes:\n",
    "\n",
    "- `age` : âge du principal bénéficiaire\n",
    "- `sex` : sexe de l'assureur, féminin, masculin\n",
    "- `bmi` : indice de masse corporelle (***b**ody **m**ass **i**ndex* en anglais), permettant de comprendre le corps, les poids relativement élevés ou faibles par rapport à la taille, indice objectif du poids corporel (kg/m^2) utilisant le rapport taille/poids, idéalement 18,5 à 24,9\n",
    "-  `children` : Nombre d'enfants couverts par l'assurance maladie / Nombre de personnes à charge\n",
    "- `smoker` : fumeur (`\"yes\"`) ou non (`no`)\n",
    "- `region` : zone de résidence du bénéficiaire aux États-Unis (`\"northeast\"` = Nord-Est ;  `\"northwest\"` = Nord-Ouest ; `\"southeast\"` = Sud-Est ; `\"southwest\"` = Sud-Ouest)\n",
    "- `charges` : Frais médicaux individuels facturés par l'assurance maladie\n",
    "\n",
    "\n",
    "### Exercice 3 : Description de données + Intervalles de confiance\n",
    "\n",
    "Répondez aux questions suivantes, les tests seront réalisés au seuil $\\alpha=0.05$ :\n",
    "\n",
    "1. Charger le jeu de données \"insurance.txt\"\n",
    "2. Présenter la table des effectifs croisés entre fumeurs et la région.\n",
    "3. Calculer la moyenne, la médiane, les quartiles, les déciles et la variance de l'âge des hommes.\n",
    "4. Calculer la moyenne, la médiane, les quartiles, les déciles et la variance de l'âge des femmes.\n",
    "5. Calculer la moyenne, la médiane, les quartiles, les déciles et la variance de l'âge des femmes non fumeuse\n",
    "\n",
    "\n",
    "6. Calculer l'intervalle de confiances de l'âge pour les hommes non-fumeurs\n",
    "7. Calculer l'intervalle de confiances de l'âge pour les hommes fumeurs\n",
    "8. Concluez\n",
    "\n",
    "9. Tester si la moyenne de l'âge des hommes fumeurs est différente de 39. \n",
    "10. Tester avec un seuil de $\\alpha = 98\\%$ si la moyenne de l'âge des hommes non-fumeurs est inférieure de 39"
   ]
  },
  {
   "cell_type": "code",
   "execution_count": null,
   "id": "5988f006",
   "metadata": {},
   "outputs": [],
   "source": []
  },
  {
   "cell_type": "markdown",
   "id": "ca0c3c42",
   "metadata": {},
   "source": [
    "### Exercice 4 : Test de comparaison de moyenne à une moyenne théorique\n",
    "\n",
    "1. Charger le jeu de données \"insurance.txt\"\n",
    "2. Tester si la moyenne des charges des femmes du northwest non fumeuse est différente de 13270 \\$\n",
    "3. Tester avec un seuil de $\\alpha = 0.01\\%$  si la moyenne des charges des hommes de plus 35 ans sans enfant est inférieure à 13250 \\$\n",
    "4. Tester si la moyenne des charges des femmes de 20 ans ou moins avec plus de deux enfants est supérieure à 10000 \\$\n",
    "5. Tester avec un seuil de $\\alpha = 0.1\\%$  si la moyenne des charges des hommes d’entre 40 ans et 50 ans avec exactement de deux enfants est supérieur à 13270 \\$\n",
    "6. Tester si la moyenne des charges des femmes non-fumeuses avec au moins 1 enfant, mais pas plus de 3 est inférieure à 1200 \\$ \n",
    "7. Au seuil $ \\alpha = 0.01 \\% $, tester si la moyenne des charges des femmes fumeuses sans enfant du southeast est supérieure à 1500 \\$ \n",
    "8. **Attention test de lecture** (ça sert pour les examens) tester si la moyenne des charges des hommes non-fumeur et au moins obèse ou plus (BMI=IMC) avec strictement moins de deux enfants est inférieure à 13270 £\n",
    "9. Tester avec un seuil de $\\alpha = 0.02\\%$ si la moyenne de l'âge des hommes du northeast avec un IMC normal et dont les charges ne dépassent pas 10000 \\$ est inférieur à 30 ans.\n",
    "10. Au seuil $\\alpha = 0.06\\%$, tester si la moyenne des charges des femmes northeast en sous-poids et fumeuse est supérieure à 1200 \\$ "
   ]
  },
  {
   "cell_type": "code",
   "execution_count": null,
   "id": "4628a22a",
   "metadata": {},
   "outputs": [],
   "source": []
  },
  {
   "cell_type": "markdown",
   "id": "82be694d",
   "metadata": {},
   "source": [
    "### Exercice 5 : Quelques graphiques\n",
    "\n",
    "1. Représenter graphiquement l'âge des hommes selon leur région\n",
    "2. Pareil pour les femmes\n",
    "3. Représenter graphiquement les charges en fonction de l'âge\n",
    "4. Représenter graphiquement les charges en fonction du BMI\n",
    "5. Représenter graphiquement les charges selon que les individus fument ou pas\n",
    "6. Représenter graphiquement les charges en fonction des régions\n",
    "7. Représenter graphiquement l'âge en fonction des régions\n",
    "8. Représenter graphiquement l'IMC en fonction du sexe.\n",
    "9. Représenter graphiquement les charges selon le sexe, mais en excluant les IMC normaux et les individus supérieurs au troisième quartile des charges.\n",
    "10. Représenter graphiquement l'IMC des femmes fumeuse et non-fumeuse.\n",
    "11. Représenter graphiquement l'IMC des hommes fumeur et non-fumeur.\n"
   ]
  },
  {
   "cell_type": "code",
   "execution_count": null,
   "id": "5acdd84a",
   "metadata": {},
   "outputs": [],
   "source": []
  }
 ],
 "metadata": {
  "kernelspec": {
   "display_name": "R",
   "language": "R",
   "name": "ir"
  },
  "language_info": {
   "codemirror_mode": "r",
   "file_extension": ".r",
   "mimetype": "text/x-r-source",
   "name": "R",
   "pygments_lexer": "r",
   "version": "4.3.3"
  }
 },
 "nbformat": 4,
 "nbformat_minor": 5
}
