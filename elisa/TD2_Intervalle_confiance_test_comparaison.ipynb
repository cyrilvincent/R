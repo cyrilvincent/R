{
 "cells": [
  {
   "cell_type": "markdown",
   "id": "9e534829",
   "metadata": {},
   "source": [
    "# TD 2 : Intervalle de confiance \n",
    "\n",
    "Christelle Gonindard et Matthias Grenié\n",
    "\n",
    "<div class=\"alert alert-info\">\n",
    "\n",
    "## Objectifs\n",
    "\n",
    "- Comprendre la notion d'intervalle de confiance\n",
    "- Identifier les conditions d'application pour calculer un intervalle de confiance\n",
    "- Utiliser deux méthodes, une graphique et une statistique, pour vérifier la normalité d'échantille\n",
    "- Calculer et interpréter des intervalles de confiance à l'aide d'une fonction fournie\n",
    "\n",
    "</div>\n",
    "\n",
    "## 1. Présentation des données\n",
    "\n",
    "Un clinicien évalue l’intensité de la dépression sur l’échelle de Hamilton qui varie de 0 (non\n",
    "déprimé) à 56 (très déprimé), chez 100 patients sou\u000b",
    "rant d’un Episode Dépressif Majeur (EDM).\n",
    "On veut savoir si l’acupuncture améliore l’évolution de la dépression. Pour cela, 100 malades\n",
    "de même état dépressif (même score de Hamilton) sont répartis en 2 groupes de 50 par tirage\n",
    "au sort. Le groupe I a reçu uniquement le traitement pharmacologique et le groupe II a reçu le\n",
    "traitement pharmacologique associé à de l’acupuncture.\n",
    "\n",
    "Le jeu de données contient les variables suivantes en colonne :\n",
    "- `hamilton_g1` : Les scores de Hamilton, après 8 mois de traitement pour le groupe 1 ;\n",
    "- `hamilton_g2` : Les scores de Hamilton, après 8 mois de traitement pour le groupe 2 ;\n",
    "- `age_g1` : l’âge des patients du groupe 1 ;\n",
    "- `age_g2` : l’âge des patients du groupe 2 ;\n",
    "- `poids_g1` : le poids des patients du groupe 1 ;\n",
    "- `poids_g2` : le poids des patients du groupe 2 ;\n",
    "- `sexe_g1` : le sexe des patients du groupe 1 (`\"F\"` : femme, `\"H\"` : homme) ;\n",
    "- `sexe_g2` : le sexe des patients du groupe 2 (`\"F\"` : femme, `\"H\"` : homme) ;\n",
    "- `urbanisation_g1` : le niveau d’urbanisation dans lequel vivent les patients du groupe 1 (`\"A\"` : rural, `\"B\"` : urbanisation modéré, `\"C\"` : fortement urbanisé) ;\n",
    "- `urbanisation_g2` : le niveau d’urbanisation dans lequel vivent les patients du groupe 2 (`\"A\"` : rural, `\"B\"` : urbanisation modéré, `\"C\"` : fortement urbanisé).\n",
    "\n",
    "Les données sont contenues dans le fichier texte nommé `depression.txt` qui se trouve dans le dossier `data`. Le chemin d'accès complet du fichier est donc `data/depression.txt`."
   ]
  },
  {
   "cell_type": "code",
   "execution_count": null,
   "id": "cc0ed2e9",
   "metadata": {},
   "outputs": [],
   "source": []
  },
  {
   "cell_type": "markdown",
   "id": "4ef2f94e",
   "metadata": {},
   "source": [
    "## 2. Rappel de cours : Intervalle de confiance"
   ]
  },
  {
   "cell_type": "markdown",
   "id": "b91fd3bb",
   "metadata": {},
   "source": [
    "**Pourquoi calculer un intervalle de confiance** ?\n",
    "\n",
    "\n",
    "L’estimation a pour objectif de déterminer les valeurs inconnues des paramètres de la\n",
    "population (proportion, moyenne, variance) à partir des données de l’échantillon . C’est\n",
    "une fonction des observations de l’échantillon dont la valeur sera utilisée en lieu et place\n",
    "de la valeur vraie du paramètre. La valeur prise par le paramètre sur un échantillon donné\n",
    "est appelée une estimation. L’**estimateur** est une **variable aléatoire** avec une **moyenne**\n",
    "et une **variance**.\n",
    "\n",
    "***Lorsque l’on passe d’un échantillon à un autre, l’estimateur reste le même (par exemple la moyenne) mais sa valeur varie, comme le montre l’exemple ci-dessous sur les deux échantillons de 100 vaccins, il y a deux estimations de la fréquence de vaccins non conforme : 5% pour le groupe A et 3% pour le groupe B.***\n",
    "\n",
    "Exemple : \n",
    "Estimation de la fréquence de vaccins non-conformes dans deux échantillons différents A et B de la même série de vaccins.\n",
    "\n",
    "<img src=\"Figures/TD1_2.jpeg\" />\n",
    "\n",
    "\n",
    "La valeur de l’estimation fluctue en fonction de l’échantillonnage. Les méthodes d’estimation\n",
    "ponctuelles ne portent que sur les données d’un échantillon, or dans une population,\n",
    "il est possible de choisir différents échantillons :\n",
    "\n",
    "<img src=\"Figures/TD1_3.jpeg\" />\n",
    "\n",
    "Il est donc impossible d’obtenir la véritable valeur moyenne dans la population étudiée, on ne peut obtenir que des estimations sur des échantillons. De plus, l’estimation d’une moyenne à partir d’un échantillon ne présente pas grand intérêt si on n’a aucune idée de la précision de l’estimation obtenue. Aussi, on est conduit à rechercher un intervalle dans lequel il y a de bonnes chances que se trouve la vraie valeur de la moyenne. On procède alors à une estimation par intervalle de confiance à un niveau de confiance que l’on se fixe $(1-\\alpha)\\%$.\n",
    "\n",
    "$$ IC_{ (1-\\alpha)\\%} = [\\text{Borne}_{\\text{inférieure}}~;~\\text{Borne}_{\\text{supérieure}}]$$\n",
    "\n",
    "Les bornes de l’intervalle de confiance dépendent de l’échantillon étudié. Une infinité\n",
    "d’intervalles de confiance peuvent être calculés à partir d’une infinité d’échantillons.\n",
    "\n",
    "<img src=\"Figures/TD1_8.jpeg\" />\n",
    "\n",
    "**Note importante sur l'interprétation d'un intervalle de confiance** : un intervalle de confiance à $X\\%$ ne signifie pas que l'intervalle va réellement contenir la vraie valeur de la moyenne $X\\%$ du temps mais que si l'on prenait 100 échantillons de la même population et que l'on construisait 100 intervalles de confiance, alors $X\\%$ d'entre eux contiendraient la vraie valeur de la moyenne."
   ]
  },
  {
   "cell_type": "markdown",
   "id": "0c91517d",
   "metadata": {},
   "source": [
    "## 3. Calcul de l'intervalle de confiance\n",
    "\n",
    "**Question du TD : Quel est l’intervalle de confiance de la moyenne des scores de Hamilton du groupe 1 pour les individus de sexe féminin ?**\n",
    "\n",
    "### 3.1 Construction du jeu de données qui permet de répondre à la question\n",
    "\n",
    "La réponse à cette question demande en premier :\n",
    "- de construire un jeu de données contenant l’ensemble des scores de Hamilton du groupe 1 pour les individus de sexe féminin.\n",
    "- d'afficher la taille de l'échantillon (on peut utiliser la fonction `length()`, longueur en Anglais pour obtenir la taille de l'échantillon, **/!\\\\ cela s'écrit lenGTH et pas lenTGH ou autre variation /!\\\\**) \n",
    "- de tracer l'histogramme de ces scores\n",
    "- de tracer le boxplot de ces scores"
   ]
  },
  {
   "cell_type": "code",
   "execution_count": 6,
   "id": "c74aeed6",
   "metadata": {},
   "outputs": [
    {
     "data": {
      "text/html": [
       "<table class=\"dataframe\">\n",
       "<caption>A data.frame: 6 × 10</caption>\n",
       "<thead>\n",
       "\t<tr><th></th><th scope=col>hamilton_g1</th><th scope=col>hamilton_g2</th><th scope=col>urbanisation_g1</th><th scope=col>urbanisation_g2</th><th scope=col>age_g1</th><th scope=col>age_g2</th><th scope=col>poids_g1</th><th scope=col>poids_g2</th><th scope=col>sexe_g1</th><th scope=col>sexe_g2</th></tr>\n",
       "\t<tr><th></th><th scope=col>&lt;int&gt;</th><th scope=col>&lt;int&gt;</th><th scope=col>&lt;chr&gt;</th><th scope=col>&lt;chr&gt;</th><th scope=col>&lt;int&gt;</th><th scope=col>&lt;int&gt;</th><th scope=col>&lt;int&gt;</th><th scope=col>&lt;int&gt;</th><th scope=col>&lt;chr&gt;</th><th scope=col>&lt;chr&gt;</th></tr>\n",
       "</thead>\n",
       "<tbody>\n",
       "\t<tr><th scope=row>1</th><td>43</td><td>25</td><td>B</td><td>B</td><td>57</td><td>48</td><td> 74</td><td>93</td><td>F</td><td>H</td></tr>\n",
       "\t<tr><th scope=row>2</th><td>29</td><td>29</td><td>A</td><td>B</td><td>37</td><td>41</td><td> 95</td><td>92</td><td>H</td><td>H</td></tr>\n",
       "\t<tr><th scope=row>3</th><td>34</td><td>18</td><td>A</td><td>A</td><td> 7</td><td>30</td><td> 84</td><td>86</td><td>H</td><td>H</td></tr>\n",
       "\t<tr><th scope=row>4</th><td>39</td><td>23</td><td>A</td><td>A</td><td>37</td><td>41</td><td>104</td><td>81</td><td>H</td><td>H</td></tr>\n",
       "\t<tr><th scope=row>5</th><td>40</td><td>24</td><td>B</td><td>A</td><td>15</td><td>30</td><td> 92</td><td>74</td><td>H</td><td>F</td></tr>\n",
       "\t<tr><th scope=row>6</th><td>41</td><td>25</td><td>B</td><td>B</td><td>45</td><td>45</td><td> 85</td><td>98</td><td>H</td><td>H</td></tr>\n",
       "</tbody>\n",
       "</table>\n"
      ],
      "text/latex": [
       "A data.frame: 6 × 10\n",
       "\\begin{tabular}{r|llllllllll}\n",
       "  & hamilton\\_g1 & hamilton\\_g2 & urbanisation\\_g1 & urbanisation\\_g2 & age\\_g1 & age\\_g2 & poids\\_g1 & poids\\_g2 & sexe\\_g1 & sexe\\_g2\\\\\n",
       "  & <int> & <int> & <chr> & <chr> & <int> & <int> & <int> & <int> & <chr> & <chr>\\\\\n",
       "\\hline\n",
       "\t1 & 43 & 25 & B & B & 57 & 48 &  74 & 93 & F & H\\\\\n",
       "\t2 & 29 & 29 & A & B & 37 & 41 &  95 & 92 & H & H\\\\\n",
       "\t3 & 34 & 18 & A & A &  7 & 30 &  84 & 86 & H & H\\\\\n",
       "\t4 & 39 & 23 & A & A & 37 & 41 & 104 & 81 & H & H\\\\\n",
       "\t5 & 40 & 24 & B & A & 15 & 30 &  92 & 74 & H & F\\\\\n",
       "\t6 & 41 & 25 & B & B & 45 & 45 &  85 & 98 & H & H\\\\\n",
       "\\end{tabular}\n"
      ],
      "text/markdown": [
       "\n",
       "A data.frame: 6 × 10\n",
       "\n",
       "| <!--/--> | hamilton_g1 &lt;int&gt; | hamilton_g2 &lt;int&gt; | urbanisation_g1 &lt;chr&gt; | urbanisation_g2 &lt;chr&gt; | age_g1 &lt;int&gt; | age_g2 &lt;int&gt; | poids_g1 &lt;int&gt; | poids_g2 &lt;int&gt; | sexe_g1 &lt;chr&gt; | sexe_g2 &lt;chr&gt; |\n",
       "|---|---|---|---|---|---|---|---|---|---|---|\n",
       "| 1 | 43 | 25 | B | B | 57 | 48 |  74 | 93 | F | H |\n",
       "| 2 | 29 | 29 | A | B | 37 | 41 |  95 | 92 | H | H |\n",
       "| 3 | 34 | 18 | A | A |  7 | 30 |  84 | 86 | H | H |\n",
       "| 4 | 39 | 23 | A | A | 37 | 41 | 104 | 81 | H | H |\n",
       "| 5 | 40 | 24 | B | A | 15 | 30 |  92 | 74 | H | F |\n",
       "| 6 | 41 | 25 | B | B | 45 | 45 |  85 | 98 | H | H |\n",
       "\n"
      ],
      "text/plain": [
       "  hamilton_g1 hamilton_g2 urbanisation_g1 urbanisation_g2 age_g1 age_g2\n",
       "1 43          25          B               B               57     48    \n",
       "2 29          29          A               B               37     41    \n",
       "3 34          18          A               A                7     30    \n",
       "4 39          23          A               A               37     41    \n",
       "5 40          24          B               A               15     30    \n",
       "6 41          25          B               B               45     45    \n",
       "  poids_g1 poids_g2 sexe_g1 sexe_g2\n",
       "1  74      93       F       H      \n",
       "2  95      92       H       H      \n",
       "3  84      86       H       H      \n",
       "4 104      81       H       H      \n",
       "5  92      74       H       F      \n",
       "6  85      98       H       H      "
      ]
     },
     "metadata": {},
     "output_type": "display_data"
    },
    {
     "data": {
      "text/html": [
       "<style>\n",
       ".list-inline {list-style: none; margin:0; padding: 0}\n",
       ".list-inline>li {display: inline-block}\n",
       ".list-inline>li:not(:last-child)::after {content: \"\\00b7\"; padding: 0 .5ex}\n",
       "</style>\n",
       "<ol class=list-inline><li>43</li><li>37</li><li>38</li><li>40</li><li>37</li><li>41</li><li>43</li><li>47</li><li>46</li><li>42</li><li>44</li></ol>\n"
      ],
      "text/latex": [
       "\\begin{enumerate*}\n",
       "\\item 43\n",
       "\\item 37\n",
       "\\item 38\n",
       "\\item 40\n",
       "\\item 37\n",
       "\\item 41\n",
       "\\item 43\n",
       "\\item 47\n",
       "\\item 46\n",
       "\\item 42\n",
       "\\item 44\n",
       "\\end{enumerate*}\n"
      ],
      "text/markdown": [
       "1. 43\n",
       "2. 37\n",
       "3. 38\n",
       "4. 40\n",
       "5. 37\n",
       "6. 41\n",
       "7. 43\n",
       "8. 47\n",
       "9. 46\n",
       "10. 42\n",
       "11. 44\n",
       "\n",
       "\n"
      ],
      "text/plain": [
       " [1] 43 37 38 40 37 41 43 47 46 42 44"
      ]
     },
     "metadata": {},
     "output_type": "display_data"
    },
    {
     "data": {
      "text/html": [
       "11"
      ],
      "text/latex": [
       "11"
      ],
      "text/markdown": [
       "11"
      ],
      "text/plain": [
       "[1] 11"
      ]
     },
     "metadata": {},
     "output_type": "display_data"
    },
    {
     "data": {
      "image/png": "[encoded data removed]",
      "text/plain": [
       "Plot with title “Histogram of femme_g1”"
      ]
     },
     "metadata": {
      "image/png": {
       "height": 420,
       "width": 420
      }
     },
     "output_type": "display_data"
    },
    {
     "data": {
      "image/png": "[encoded data removed]",
      "text/plain": [
       "plot without title"
      ]
     },
     "metadata": {
      "image/png": {
       "height": 420,
       "width": 420
      }
     },
     "output_type": "display_data"
    }
   ],
   "source": [
    "# Extraction des données\n",
    "depression = read.table(\"data/depression.txt\" , header = T )\n",
    "head(depression)\n",
    "\n",
    "femme_g1 = depression$hamilton_g1[depression$sexe_g1 == \"F\" ]\n",
    "# Affichage des données extraites\n",
    "femme_g1\n",
    "# taille de l'échantillon\n",
    "length(femme_g1)\n",
    "\n",
    "# tracer l'histogramme \n",
    "hist(femme_g1)\n",
    "# tracer du boxplot\n",
    "boxplot(femme_g1)"
   ]
  },
  {
   "cell_type": "markdown",
   "id": "60402d3a",
   "metadata": {},
   "source": [
    "### 3.2 Calcul des paramètres de l'échantillon\n",
    "\n",
    "Décrire l'échantillon en calculant :\n",
    "- la moyenne \n",
    "- la variance \n",
    "- l'écart type \n",
    "- afficher le résumé statistique\n",
    "\n",
    "Commenter vos résultats"
   ]
  },
  {
   "cell_type": "markdown",
   "id": "9e11a9ab-c38a-4dd9-b87c-262905e8db58",
   "metadata": {},
   "source": [
    "z##### "
   ]
  },
  {
   "cell_type": "markdown",
   "id": "8afee034-d8a1-4280-9f93-372802174679",
   "metadata": {},
   "source": [
    "mean"
   ]
  },
  {
   "cell_type": "markdown",
   "id": "c5cd3fcb-0785-4a06-b5b8-77af5f213dfa",
   "metadata": {},
   "source": [
    "**Commentaire :**\n"
   ]
  },
  {
   "cell_type": "markdown",
   "id": "f0508aad-b777-4314-ab9c-beee938ec1c7",
   "metadata": {},
   "source": [
    "**Avant le calcul de l’intervalle de confiance, il faut vérifier les conditions d’application :**\n",
    "- Si la taille de l’échantillon est grande ($n \\geq 30$) : pas de condition d’application -> on peut calculer l'intervallede confiance\n",
    "- Si la taille de l’échantillon est petite ($n < 30$) : il faut que les données suivent uneloi normale"
   ]
  },
  {
   "cell_type": "markdown",
   "id": "11f44f05",
   "metadata": {},
   "source": [
    "### 3.3 Vérification de la Normalité de l'échantillon\n",
    "\n",
    "#### Méthode graphique : diagramme quantile-quantile\n",
    "\n",
    "Une méthode graphique permet de vérifier cette normalité en traçant les quantiles de\n",
    "l’échantillon en fonction des quantiles d’une loi normale. L'idée est de calculer les quantiles théoriques qu'auraient une loi normale de même moyenne et de même écart-type que les données observées, on les compare aux quantiles observés. Sous l’hypothèse de normalité les points doivent s’aligner sur une droite. Si les points sont proches d'une droite, notre distribution observée suit donc une loi normale.\n",
    "\n",
    "Sur R, pour faire un diagramme quantile-quantile de loi Normale on doit d'abord utiliser la fonction `qqnorm()` sur le vecteur de données (pour ***q**uantile-**q**uantile of a **norm**al distribution), puis `qqline()` sur le même vecteur pour obtenir la ligne droite.\n",
    "\n",
    "*Représentez le diagramme quantile-quantile pour les scores de Hamilton des femmes du groupe 1*"
   ]
  },
  {
   "cell_type": "code",
   "execution_count": null,
   "id": "7bb434ca",
   "metadata": {},
   "outputs": [],
   "source": []
  },
  {
   "cell_type": "markdown",
   "id": "215e7fd7-3c59-4d99-86ed-48777d31ed27",
   "metadata": {},
   "source": [
    "**Interprétation** :\n",
    "\n"
   ]
  },
  {
   "cell_type": "markdown",
   "id": "80fdf694-05b8-42c6-9cfd-2a4fd60b9772",
   "metadata": {},
   "source": [
    "#### Test de Normalité\n",
    "\n",
    "Il est aussi possible d’avoir une approche basée sur un test numérique, par exemple en\n",
    "calculant la variable $W$ du test de Shapiro-Wilk. Ce test statistique permet de vérifier la normalité d'une échantillon en calculant la valeur $W$ et en la comparant à une valeur théorique. Si la valeur observée est proche de la valeur théorique attendue, alors on conclura que notre distribution suit une loi Normale, si on observe un grand écart, alors on conclura que notre échantillon ne suit pas une loi normale.\n",
    "\n",
    "Voici les hypothèses de Shapiro-Wilk :\n",
    "\n",
    "**Hypothèse nulle (notée H0)** : la distribution de notre échantillon suit une loi normale.  \n",
    "**Hypothèse alternative (notée H1)** : la distribution de notre échantillon ne suit pas une loi normale.\n",
    "\n",
    "Pour réaliser ce test sur R, il faut utiliser la fonction `shapiro.test()` qui prend comme argument le vecteur de valeurs de l'échantillon à tester."
   ]
  },
  {
   "cell_type": "code",
   "execution_count": null,
   "id": "946cf002",
   "metadata": {},
   "outputs": [],
   "source": []
  },
  {
   "cell_type": "markdown",
   "id": "ef60378b",
   "metadata": {},
   "source": [
    "**Conclusion** :\n"
   ]
  },
  {
   "cell_type": "markdown",
   "id": "2bf89bad",
   "metadata": {},
   "source": [
    "### 3.4 Calcul de l'intervalle de confiance\n",
    "\n",
    "La moyenne $m$ que nous avons calculée à partir de notre échantillon est une estimation de\n",
    "la moyenne $\\mu$ du score de Hamilton de la population des femmes du groupe 1. $m$ fluctue en fonction de\n",
    "l’échantillon que nous analysons (= si l'on choisissait un autre échantillon, on obtiendrait une autre valeur de $m$). C’est donc une variable aléatoire se distribuant selon\n",
    "une loi normale d’espérance $E[m]$ et de variance $V[m]$ si le score de Hamilton se distribue\n",
    "lui même selon une loi normale avec une moyenne $\\mu$ et une variance $\\sigma ^2$.\n",
    "\n",
    "Pour un échantillon de taille $n$ et pour un intervalle de confiance à un seuil $\\alpha$ donnée (souvent 95%) se calcule avec la formule suivante :\n",
    "\n",
    "$$\\text{IC} = \\mu \\pm Z(1-\\frac{\\alpha}{2}) \\frac{\\sigma}{\\sqrt{n}}$$\n",
    "\n",
    "avec $Z(1-\\frac{\\alpha}{2})$ le quantile de la loi de Student d'ordre $1 - \\frac{\\alpha}{2}$ de la loi de Student à $n − 1$ degrés de liberté.\n",
    "\n",
    "\n",
    "Il n'existe pas de fonction en **R** permettant de calculer directement un intervalle de confiance.\n",
    "Comme ce calcul nécessite plusieurs opérations nous vons proposons une fonction créée pour l'occassion s'appelant `CI()` (pour ***C**onfidence **I**nterval*, intervalle de confiance en anglais) vous permettant de le faire en une simple ligne.\n",
    "La fonction comme premier argument le vecteur contenant les valeurs sur lesquelles calculer l'intervalle de confiance, en deuxième argument elle prend le pourcentage de confiance associée à l'intervalle, par exemple 0.95 pour un intervalle à 95%.\n",
    "\n",
    "**Vous devez exécuter le bloc de code ci-dessous avant de pouvoir vous servir de la fonction.  \n",
    "Il faudra rajouter cette fonction au début de chaque nouveau TD pour vous en servir.**"
   ]
  },
  {
   "cell_type": "code",
   "execution_count": null,
   "id": "fecc95a4",
   "metadata": {},
   "outputs": [],
   "source": [
    "CI <- function(x, confidence){\n",
    "    alpha = 1 - confidence\n",
    "    mu = mean(x)\n",
    "    sigma = sd(x)\n",
    "    n = length(x)\n",
    "    CI_inf = mu - (qt(1 - alpha/2, n-1) * sigma/sqrt(n))\n",
    "    CI_sup = mu + (qt(1 - alpha/2, n-1) * sigma/sqrt(n))\n",
    "    CI = c(inf = CI_inf, sup = CI_sup) \n",
    "    return(CI)\n",
    "}"
   ]
  },
  {
   "cell_type": "markdown",
   "id": "7ca0cb27",
   "metadata": {},
   "source": [
    "On peut maintenant utiliser la fonction sur notre série de données"
   ]
  },
  {
   "cell_type": "code",
   "execution_count": null,
   "id": "c61298c1",
   "metadata": {},
   "outputs": [],
   "source": [
    "# Intervalle de confiance donné par défaut à 95%\n"
   ]
  },
  {
   "cell_type": "markdown",
   "id": "bd565515",
   "metadata": {},
   "source": [
    "**Interprétation** :\n",
    "\n"
   ]
  },
  {
   "cell_type": "markdown",
   "id": "2da93ee2",
   "metadata": {},
   "source": [
    "*Application : calculer l'intervalle de confiance à 98% du score hamilton des femmes du groupe 1*"
   ]
  },
  {
   "cell_type": "code",
   "execution_count": null,
   "id": "79ceaf0a",
   "metadata": {},
   "outputs": [],
   "source": []
  },
  {
   "cell_type": "markdown",
   "id": "5999440d",
   "metadata": {},
   "source": [
    "**Interprétation** :\n",
    "\n"
   ]
  },
  {
   "cell_type": "markdown",
   "id": "8863cd43-547c-40e8-8af0-d190f33be7bb",
   "metadata": {},
   "source": [
    "<div class=\"alert alert-success\">\n",
    "\n",
    "## En résumé\n",
    "\n",
    "Dans cette séance :\n",
    "\n",
    "- Nous avons rappelé la théorie des intervalles de confiance\n",
    "- Nous avons rappelé les conditions d'application à vérifier avant de les calculer : si $n \\geq 30$ pas de conditions à vérifier, sinon il faut vérifier la normalité de l'échantillon\n",
    "- Nous avons appris à utiliser deux méthodes pour vérifier la normalié d'un échantillon : (1) la méthode graphique avec le diagramme quantile-quantile avec `qqnorm()` et `qqline()`, (2) la méthode statistique avec le test de Shapiro-Wilk en utilisant `shapiro.test()`\n",
    "- Nous avons appris à interpréter les résultats d'un test statistique en utilisant les p-values et à conclure sur les hypothèses\n",
    "- Nous avons vu comment calculer un intervalle de confiance avec la fonction particulière `CI()` et comment l'interpréter\n",
    "\n",
    "</div>"
   ]
  },
  {
   "cell_type": "markdown",
   "id": "98399164",
   "metadata": {},
   "source": [
    "## 4. Exercices d'application\n",
    "\n",
    "### 4.1 Exercices d'entraînement (à faire en cours si possible)\n",
    "\n",
    "#### Exercice 1\n",
    "\n",
    "1. Calculer l’intervalle de confiance du score de Hamilton des hommes puis des femmes pour le groupe 1, en vérifiant les conditions d’application (au seuil 95%)\n",
    "2. Calculer l’intervalle de confiance du score de Hamilton des hommes puis des femmes pour le groupe 2, en vérifiant ces conditions d’application (au seuil 95%)\n",
    "3. Qu’en concluez-vous ?"
   ]
  },
  {
   "cell_type": "code",
   "execution_count": null,
   "id": "97d6876c",
   "metadata": {},
   "outputs": [],
   "source": []
  },
  {
   "cell_type": "markdown",
   "id": "ff0a3a9b",
   "metadata": {},
   "source": [
    "Rapidement : \n",
    "- Groupe 2 moins dépressif aussi bien chez les hommes que les femmes, ce qui laisserait penser que l'accuponcture a un effet bénéfique\n",
    "- Dans groupe 1 : homme moins dépressif que les femmes, dans le groupe 2 niveau dépression équilibré (attention aux faibles échantillonages qui agrandit les bornes de l'IC. \n"
   ]
  },
  {
   "cell_type": "markdown",
   "id": "e3099ead",
   "metadata": {},
   "source": [
    "#### Exercice 2\n",
    "\n",
    "1. Extraire un sous jeu de données que l’on nommera U1 et qui contient les score de Hamilton du groupe 1 dans les zones faiblement urbanisées (c’est-à-dire `urbanisation_g1 == \"A\"`)\n",
    "2. Calculer l’intervalle de confiance de U1, en vérifiant les conditions d’application (au seuil 95%)\n",
    "3. Extraire un sous jeu de données que l’on nommera U2 et qui contient les score de Hamilton du groupe 1 dans les zones urbanisées (c’est-à-dire `urbanisation_g1 == \"B\"`)\n",
    "4. Calculer l’intervalle de confiance de U2, en vérifiant les conditions d’application (au seuil 95%)\n",
    "5. Qu’en concluez-vous ?"
   ]
  },
  {
   "cell_type": "code",
   "execution_count": null,
   "id": "521a5928",
   "metadata": {},
   "outputs": [],
   "source": []
  },
  {
   "cell_type": "markdown",
   "id": "e530240b-9224-4e04-9517-643dbb50777e",
   "metadata": {},
   "source": [
    "### 4.2 Exercices supplémentaires\n",
    "\n",
    "Ces exercices vous permettent de réviser les deux premiers TD. "
   ]
  },
  {
   "cell_type": "markdown",
   "id": "03679b45-ac78-4f80-9934-2512e946517f",
   "metadata": {},
   "source": [
    "#### Exercice A\n",
    "\n",
    "1. Extraire tableau de données que l'on nommera U3 et qui contient les informations relatives au groupe 2 dans les zones  urbanisées (c’est-à-dire `urbanisation_g2 == \"B\"`).\n",
    "2. Retirer de ce jeu de donnée l'individu le plus âgé.\n",
    "3. A partir de ce tableau U3, calculez la moyenne, la médiane, les quartiles et l'écart type du poids.\n",
    "4. Extraire un sous-jeu de données que l’on nommera U4 et qui contient les scores de Hamilton du groupe 2 dans les zones  urbanisées (c’est-à-dire `urbanisation_g2 == \"A\"`).\n",
    "5. Retirer de ce jeu de donner la femme la plus légère.\n",
    "6. A partir du tableau U4, calculez la moyenne, les quantiles et la variance de l'âge.\n",
    "7. Pour U3 et U4, calculez les intervalles de confiances du score Hamilton, en vérifiant les conditions d’application (au seuil 95%)\n",
    "8. Qu’en concluez-vous ?\n"
   ]
  },
  {
   "cell_type": "code",
   "execution_count": null,
   "id": "331029a4",
   "metadata": {},
   "outputs": [],
   "source": []
  },
  {
   "cell_type": "markdown",
   "id": "c7fa939b-373c-441e-a68d-290b3dcaaa36",
   "metadata": {},
   "source": [
    "#### Exercice B\n",
    "\n",
    "1. Qu'elle est l'âge maximum et minimum de la femme appartenant au groupe 1 dans les zones  urbanisées et dont le poids est strictement inférieur au deuxième quartile.\n",
    "2. Même question pour le groupe 2 dans les zones faiblement urbanisées et dont le poids le poids et supérieur ou égale au 8ème décile (un décile est un quantile à 10%, on peut le calculer avec la fonction `quantile(x, 0.8)`.\n",
    "3. Représenter graphiquement l'âge en fonction du poids pour les individus du groupe 2.\n",
    "4. Représenter graphiquement l'âge en fonction du poids pour les hommes du groupe 1.\n",
    "5. Représenter graphiquement les boxplots représentant les âges dans les groupes 1 et 2 en séparant les hommes et les femmes.\n",
    "6. Représenter graphiquement les boxplots représentant les poids dans les groupes 1 et 2 en séparant les hommes et les femmes.\n",
    "\n",
    "Pensez à commenter vos graphiques"
   ]
  },
  {
   "cell_type": "code",
   "execution_count": null,
   "id": "556913ab",
   "metadata": {},
   "outputs": [],
   "source": []
  },
  {
   "cell_type": "markdown",
   "id": "0d25133f",
   "metadata": {},
   "source": [
    "#### Exercice C\n",
    "\n",
    "On souhaite ici calculer des intervalles à 98%, le risque $\\alpha$ pour le test est de 1%\n",
    "\n",
    "1. reprenez les exercices 1 et 2 en calculant l'intervalle de confiance de l'âge.\n",
    "2. reprenez les exercices 1 et 2 en calculant l'intervalle de confiance du poids. "
   ]
  },
  {
   "cell_type": "markdown",
   "id": "a6d77eb6",
   "metadata": {},
   "source": [
    "**I. Intervalles de confiances sur les données âges**"
   ]
  },
  {
   "cell_type": "code",
   "execution_count": null,
   "id": "295f0ad2",
   "metadata": {},
   "outputs": [],
   "source": []
  },
  {
   "cell_type": "code",
   "execution_count": null,
   "id": "2480fe4b",
   "metadata": {},
   "outputs": [],
   "source": []
  },
  {
   "cell_type": "markdown",
   "id": "7b2d8c50",
   "metadata": {},
   "source": [
    "**II. Intervalles de confiances sur les données poids**"
   ]
  },
  {
   "cell_type": "code",
   "execution_count": null,
   "id": "a70686cb",
   "metadata": {},
   "outputs": [],
   "source": []
  },
  {
   "cell_type": "code",
   "execution_count": null,
   "id": "cc7b4643",
   "metadata": {},
   "outputs": [],
   "source": []
  },
  {
   "cell_type": "markdown",
   "id": "bd925dc2",
   "metadata": {},
   "source": [
    "#### Exercice D\n",
    "\n",
    "Exécuter le bloc de code ci-dessous pour créer un nouveau tableau `depression_long` à partir du fichier `depression_long.txt` dans le dossier `data/`. **Vous n'avez pas à le comprendre**.\n",
    "Il s'agit des même données que celles du fichier `depression.txt` mais présentées sous un autre format.\n",
    "\n",
    "Ce nouveau tableau contient les colonnes suivantes :\n",
    "- `groupe`\n",
    "- `hamilton`\n",
    "- `urbanisation`\n",
    "- `age`\n",
    "- `poids`\n",
    "- `sexe`"
   ]
  },
  {
   "cell_type": "code",
   "execution_count": null,
   "id": "5861d27b",
   "metadata": {},
   "outputs": [],
   "source": []
  },
  {
   "cell_type": "markdown",
   "id": "ff080854",
   "metadata": {},
   "source": [
    "En utilisant ce nouveau tableau, pour l'âge des hommes et des femmes :\n",
    "\n",
    "1. Calculer la moyenne, la médiane, l'écart type et les quartiles de ces 2 groupes.\n",
    "2. Représenter graphiquement ces 2 groupes.\n",
    "3. calculez l'intervalle de confiance de ces 2 groupes à 95% et 98%.\n",
    "4. Qu’en concluez-vous ?"
   ]
  },
  {
   "cell_type": "code",
   "execution_count": null,
   "id": "e9c0a663",
   "metadata": {},
   "outputs": [],
   "source": []
  },
  {
   "cell_type": "markdown",
   "id": "1c52862b",
   "metadata": {},
   "source": [
    "En utilisant ce nouveau tableau, pour l'âge des 2 groupes d'urbanisation :\n",
    "\n",
    "1. Calculer la moyenne, la médiane, l'écart type et les quartiles de ces 2 groupes.\n",
    "2. Représenter graphiquement ces 2 groupes.\n",
    "3. calculez l'intervalle de confiance de ces 2 groupes à 95% et 98%.\n",
    "4. Qu’en concluez-vous ?\n"
   ]
  },
  {
   "cell_type": "code",
   "execution_count": null,
   "id": "004096f8",
   "metadata": {},
   "outputs": [],
   "source": []
  },
  {
   "cell_type": "markdown",
   "id": "7fc7634c",
   "metadata": {},
   "source": [
    "En utilisant ce nouveau tableau, pour le score Hamilton des hommes et des femmes :\n",
    "\n",
    "1. Calculer la moyenne, la médiane, l'écart type et les quartiles de ces 2 groupes.\n",
    "2. Représenter graphiquement ces 2 groupes.\n",
    "3. calculez l'intervalle de confiance de ces 2 groupes à 95% et 98%.\n",
    "4. Qu’en concluez-vous ?"
   ]
  },
  {
   "cell_type": "code",
   "execution_count": null,
   "id": "f1b14bc3",
   "metadata": {},
   "outputs": [],
   "source": []
  },
  {
   "cell_type": "markdown",
   "id": "e0f498f2",
   "metadata": {},
   "source": [
    "En utilisant ce nouveau tableau, pour le score Hamilton des 2 groupes d'urbanisation :\n",
    "\n",
    "1. Calculer la moyenne, la médiane, l'écart type et les quartiles de ces 2 groupes.\n",
    "2. Représenter graphiquement ces 2 groupes.\n",
    "3. calculez l'intervalle de confiance de ces 2 groupes à 95% et 98%.\n",
    "4. Qu’en concluez-vous ?\n"
   ]
  },
  {
   "cell_type": "code",
   "execution_count": null,
   "id": "192f81e4",
   "metadata": {},
   "outputs": [],
   "source": []
  },
  {
   "cell_type": "markdown",
   "id": "09769dc5",
   "metadata": {},
   "source": [
    "En utilisant ce nouveau tableau, pour le poids des hommes et des femmes : \n",
    "1. Calculer la moyenne, la médiane, l'écart type et les quartiles de ces 2 groupes.\n",
    "2. Représenter graphiquement ces 2 groupes.\n",
    "3. calculez l'intervalle de confiance de ces 2 groupes à 95% et 98%.\n",
    "4. Qu’en concluez-vous ?"
   ]
  },
  {
   "cell_type": "code",
   "execution_count": null,
   "id": "8bc0ea07",
   "metadata": {},
   "outputs": [],
   "source": []
  },
  {
   "cell_type": "markdown",
   "id": "1bf0260e",
   "metadata": {},
   "source": [
    "En utilisant ce nouveau tableau, pour le poids des 2 groupes d'urbanisation :\n",
    "\n",
    "1. Calculer la moyenne, la médiane, l'écart type et les quartiles de ces 2 groupes.\n",
    "2. Représenter graphiquement ces 2 groupes.\n",
    "3. calculez l'intervalle de confiance de ces 2 groupes à 95% et 98%.\n",
    "4. Qu’en concluez-vous ?"
   ]
  },
  {
   "cell_type": "code",
   "execution_count": null,
   "id": "8451df4d",
   "metadata": {},
   "outputs": [],
   "source": []
  },
  {
   "cell_type": "markdown",
   "id": "f6927b12",
   "metadata": {},
   "source": [
    "#### Exercice E\n",
    "\n",
    "1. Représenter graphiquement les boxplots représentants pour les groupes 1 et 2 :\n",
    "\n",
    "- a) les scores de Hamilton en séparant les hommes et les femmes.\n",
    "- b) les âges en séparant les hommes et les femmes.\n",
    "- c) les poids en séparant les hommes et les femmes.\n",
    "\n",
    "\n",
    "**sur un seul graphique**"
   ]
  },
  {
   "cell_type": "code",
   "execution_count": null,
   "id": "c4922d6f",
   "metadata": {},
   "outputs": [],
   "source": []
  },
  {
   "cell_type": "markdown",
   "id": "b06dd6af",
   "metadata": {},
   "source": [
    "2. Représenter graphiquement le score Hamilton en fonction de l'âge pour les 2 groupes. Vous devez utiliser la fonction `plot()` qui permet de représenter un nuage de point et prend comme deux premiers arguments les données de l'axe des abscisses et celles de l'axe des ordonnées. Vous pouvez leur donner une couleur différente avec l'argument `col=`.\n",
    "\n",
    "**sur un seul graphique** (je vous conseille d'utiliser le tableau `depression_long`)"
   ]
  },
  {
   "cell_type": "code",
   "execution_count": null,
   "id": "f770a7c4",
   "metadata": {},
   "outputs": [],
   "source": []
  }
 ],
 "metadata": {
  "kernelspec": {
   "display_name": "R",
   "language": "R",
   "name": "ir"
  },
  "language_info": {
   "codemirror_mode": "r",
   "file_extension": ".r",
   "mimetype": "text/x-r-source",
   "name": "R",
   "pygments_lexer": "r",
   "version": "4.3.3"
  }
 },
 "nbformat": 4,
 "nbformat_minor": 5
}
