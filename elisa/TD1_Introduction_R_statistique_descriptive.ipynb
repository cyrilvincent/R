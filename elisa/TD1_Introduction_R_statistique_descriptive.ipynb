{
 "cells": [
  {
   "cell_type": "markdown",
   "id": "0c3d63f3-5765-4fb7-bf77-dd4bd3a71d83",
   "metadata": {},
   "source": [
    "# TD 1 : Introduction à R et aux Statistiques descriptives\n",
    "\n",
    "Christelle Gonindard, Matthias Grenié, et François Bettega"
   ]
  },
  {
   "cell_type": "markdown",
   "id": "48ba1f96-beb8-4746-80c1-f223d1faac45",
   "metadata": {},
   "source": [
    "<div class=\"alert alert-info\">\n",
    "\n",
    "## Objectifs\n",
    "\n",
    "- Découvrir l'utilisation de R\n",
    "- Comprendre ce que sont les **fonctions**, les **arguments**, et les **variables**\n",
    "- Lire un jeu de données sur R\n",
    "- Calculer des indicateurs de position et de dispersion sur des données\n",
    "- Visualiser des données quantitatives et qualitatives avec R\n",
    "\n",
    "</div>"
   ]
  },
  {
   "cell_type": "markdown",
   "id": "539f657e-601a-4517-b70e-59c3ab4f5f72",
   "metadata": {},
   "source": [
    "## 1. Introduction\n",
    "\n",
    "### 1.1 Présentation des attentes des cours et TDs de cette année\n",
    "\n",
    "Ces Cours-TD sont destinés à vous apporter le recul nécessaire à l’interprétation des analyses\n",
    "statistiques que vous serez amenés à évaluer au cours de votre cursus et de votre vie professionnelle.\n",
    "Le plus important est de comprendre le principe de l’analyse utilisée et à se faire sa propre\n",
    "opinion sur une analyse statistique afin de démêler le vrai du faux. Le but n’est pas de faire de\n",
    "vous des statisticiens qui vont développer de nouvelles méthodes mais que vous soyez capable\n",
    "de comprendre et de détecter les erreurs et biais potentiels qui peuvent entrainer une mauvaise\n",
    "interprétation des données et des conclusions erronées.\n",
    "\n",
    "\n",
    "### 1.2 Contexte\n",
    "\n",
    "Comme il est décrit dans le cours, il est important de prendre conscience que les statistiques\n",
    "sont liées au domaine médical. Elles ont trouvé réellement leur essor et participé aux améliorations\n",
    "médicales à partir du moment où l’on a essayé de comprendre les causes des maladies, de\n",
    "la propagation d’une épidémie... \n",
    "\n",
    "Vous trouverez ci-dessous une liste non exhaustive de domaines\n",
    "d’application des statistiques en pharmacie :\n",
    "- Lors de la mise au point d’un nouveau médicament, trois étapes de vérification doivent être respectées :\n",
    "    1. Est ce que le nouveau médicament n’est pas toxique pour l’homme?\n",
    "    2. Est ce que le nouveau médicament est efficace ?\n",
    "    3. Est ce que le nouveau médicament est plus efficace que les traitements existants ?\n",
    "- Lors de la mise au point d’un nouveau test diagnostique, d’une nouvelle méthode d’analyse, les questions qui suivent sont posées :\n",
    "    1. Est ce que le nouveau test diagnostique fait mieux que le simple hasard pour donner un résultat positif à un patient réellement malade ?\n",
    "    2. Est ce que la nouvelle méthode d’analyse fait aussi bien que la précédente ?\n",
    "    3. Est ce que le nouveau test diagnostique améliore la sensibilité (capacité à donner un résultat positif à une personne réellement malade ?\n",
    "- Lors d’une étude épidémiologique, les questions qui suivent sont posées :\n",
    "    1. Est ce que l’exposition à un facteur a un effet sur la survenue de la maladie ?\n",
    "    2. Est il possible de prédire le risque de survenue de la maladie à la suite d’une exposition à ce facteur ?\n",
    "    3. Etudier l’impact d’un traitement sur le décès à 30 jours de patients, toutes choses égales par ailleurs.\n",
    "- Lors de l’évaluation de la qualité et du contrôle d’une ligne de production\n",
    "- Lors de l’évaluation des moyens et de l’état de santé d’une population : causes de décès, morbidité, surveillance sanitaire....\n",
    "\n",
    "En conclusion, en biologie ou en santé, les domaines d’application sont très vastes : essais\n",
    "cliniques randomisées, études épidémiologiques, dynamiques des populations, études omiques\n",
    "(génomique, protéomique, transcriptomique, etc.), lignes de productions, etc. Ces études représentent\n",
    "une masse de données considérable à traiter. Il est donc loin le temps où les calculs statistiques\n",
    "étaient fait à la main, sur de petits échantillons. Il est nécessaire pour traiter les données d’utiliser\n",
    "des logiciels informatiques. Pendant cette UE, nous nous servirons du langage de programmation [R](https://www.r-project.org/), qui est un langage de programmation dédié aux statistiques, libre et gratuit. C'est aujourd'hui le langage de programmation de référence pour produire des statistiques, des figures, et des rapports associés. Il est aussi bien utilisé dans le monde académique que dans les administrations publiques (INSEE, ANSES), que par des acteurs privés (par ex. les laboratoires pharmaceutiques).\n",
    "\n",
    "L'objectif de cette UE vous demande de :\n",
    "- mobiliser vos connaissances biologiques pour comprendre les données et interpréter les résultats, \n",
    "- comprendre les principes des différentes méthodes statistiques pour savoir laquelle utiliser en fonction des échantillons et des questions qui sont posées,\n",
    "- maîtriser la programmation en R car les données à traiter deviennent tellement importantes qu’il est illusoire de vouloir faire les calculs à la main.\n",
    "\n",
    "\n",
    "## 2. Présentation des données\n",
    "\n",
    "Lors des trois premiers TD nous allons étudier le même jeu de données. Il s'agit d'un jeu de données qui cherche à savoir si l'acupuncture peut avoir un effet sur la dépression.\n",
    "\n",
    "Un clinicien évalue l’intensité de la dépression sur l’échelle de Hamilton qui varie de 0 (non\n",
    "déprimé) à 56 (très déprimé), chez 100 patients sou\u000b",
    "rant d’un Episode Dépressif Majeur (EDM).\n",
    "On veut savoir si l’acupuncture améliore l’évolution de la dépression. Pour cela, 100 malades\n",
    "de même état dépressif (même score de Hamilton) sont répartis en 2 groupes de 50 par tirage\n",
    "au sort. Le groupe I a reçu uniquement le traitement pharmacologique et le groupe II a reçu le\n",
    "traitement pharmacologique associé à de l’acupuncture.\n",
    "\n",
    "Le jeu de données contient les variables suivantes en colonne :\n",
    "- `hamilton_g1` : Les scores de Hamilton, après 8 mois de traitement pour le groupe 1 ;\n",
    "- `hamilton_g2` : Les scores de Hamilton, après 8 mois de traitement pour le groupe 2 ;\n",
    "- `age_g1` : l’âge des patients du groupe 1 ;\n",
    "- `age_g2` : l’âge des patients du groupe 2 ;\n",
    "- `poids_g1` : le poids des patients du groupe 1 ;\n",
    "- `poids_g2` : le poids des patients du groupe 2 ;\n",
    "- `sexe_g1` : le sexe des patients du groupe 1 (`\"F\"` : femme, `\"H\"` : homme) ;\n",
    "- `sexe_g2` : le sexe des patients du groupe 2 (`\"F\"` : femme, `\"H\"` : homme) ;\n",
    "- `urbanisation_g1` : le niveau d’urbanisation dans lequel vivent les patients du groupe 1 (`\"A\"` : rural, `\"B\"` : urbanisation modéré, `\"C\"` : fortement urbanisé) ;\n",
    "- `urbanisation_g2` : le niveau d’urbanisation dans lequel vivent les patients du groupe 2 (`\"A\"` : rural, `\"B\"` : urbanisation modéré, `\"C\"` : fortement urbanisé)."
   ]
  },
  {
   "cell_type": "markdown",
   "id": "7fff14e1-d4c1-459c-9968-a8ace3b4b9e7",
   "metadata": {},
   "source": [
    "Les données sont contenues dans le fichier texte nommé `depression.txt` qui se trouve dans le dossier `data`. Le chemin d'accès complet du fichier est donc `data/depression.txt`.\n",
    "\n",
    "Pour lire les données sur R, il faut utiliser la fonction `read.table()`. On appelle **fonction** les instructions de R qui sont déjà existantes et peuvent être réutilisées (par analogie avec les fonctions mathématiques). Certaines fonctions peuvent s'utiliser toutes seules. D'autres nécessitent qu'on précise ce sur quoi on les applique, ce sont les **arguments**.\n",
    "\n",
    "Ici, `read.table()` nécessite que l'on précise le chemin d'accès du fichier comme premier argument pour pouvoir lire les données, on peut préciser un autre argument appelé `header =` qui permet de dire à R que le fichier contient comme première ligne les entêtes de colonnes."
   ]
  },
  {
   "cell_type": "code",
   "execution_count": 1,
   "id": "8b6ad5ac",
   "metadata": {},
   "outputs": [
    {
     "data": {
      "text/html": [
       "<table class=\"dataframe\">\n",
       "<caption>A data.frame: 50 × 10</caption>\n",
       "<thead>\n",
       "\t<tr><th scope=col>hamilton_g1</th><th scope=col>hamilton_g2</th><th scope=col>urbanisation_g1</th><th scope=col>urbanisation_g2</th><th scope=col>age_g1</th><th scope=col>age_g2</th><th scope=col>poids_g1</th><th scope=col>poids_g2</th><th scope=col>sexe_g1</th><th scope=col>sexe_g2</th></tr>\n",
       "\t<tr><th scope=col>&lt;int&gt;</th><th scope=col>&lt;int&gt;</th><th scope=col>&lt;chr&gt;</th><th scope=col>&lt;chr&gt;</th><th scope=col>&lt;int&gt;</th><th scope=col>&lt;int&gt;</th><th scope=col>&lt;int&gt;</th><th scope=col>&lt;int&gt;</th><th scope=col>&lt;chr&gt;</th><th scope=col>&lt;chr&gt;</th></tr>\n",
       "</thead>\n",
       "<tbody>\n",
       "\t<tr><td>43</td><td>25</td><td>B</td><td>B</td><td>57</td><td>48</td><td> 74</td><td> 93</td><td>F</td><td>H</td></tr>\n",
       "\t<tr><td>29</td><td>29</td><td>A</td><td>B</td><td>37</td><td>41</td><td> 95</td><td> 92</td><td>H</td><td>H</td></tr>\n",
       "\t<tr><td>34</td><td>18</td><td>A</td><td>A</td><td> 7</td><td>30</td><td> 84</td><td> 86</td><td>H</td><td>H</td></tr>\n",
       "\t<tr><td>39</td><td>23</td><td>A</td><td>A</td><td>37</td><td>41</td><td>104</td><td> 81</td><td>H</td><td>H</td></tr>\n",
       "\t<tr><td>40</td><td>24</td><td>B</td><td>A</td><td>15</td><td>30</td><td> 92</td><td> 74</td><td>H</td><td>F</td></tr>\n",
       "\t<tr><td>41</td><td>25</td><td>B</td><td>B</td><td>45</td><td>45</td><td> 85</td><td> 98</td><td>H</td><td>H</td></tr>\n",
       "\t<tr><td>32</td><td>27</td><td>A</td><td>B</td><td>41</td><td>41</td><td> 79</td><td> 75</td><td>H</td><td>H</td></tr>\n",
       "\t<tr><td>36</td><td>16</td><td>A</td><td>A</td><td>33</td><td>17</td><td> 92</td><td> 90</td><td>H</td><td>H</td></tr>\n",
       "\t<tr><td>35</td><td>27</td><td>A</td><td>B</td><td>55</td><td>47</td><td> 76</td><td> 83</td><td>H</td><td>H</td></tr>\n",
       "\t<tr><td>37</td><td>16</td><td>A</td><td>A</td><td>46</td><td>48</td><td> 78</td><td> 82</td><td>H</td><td>H</td></tr>\n",
       "\t<tr><td>43</td><td>18</td><td>B</td><td>A</td><td>28</td><td>29</td><td> 88</td><td> 66</td><td>H</td><td>F</td></tr>\n",
       "\t<tr><td>36</td><td>19</td><td>A</td><td>A</td><td>39</td><td>36</td><td> 83</td><td> 83</td><td>H</td><td>H</td></tr>\n",
       "\t<tr><td>41</td><td>26</td><td>B</td><td>B</td><td>30</td><td>29</td><td> 76</td><td> 85</td><td>H</td><td>H</td></tr>\n",
       "\t<tr><td>37</td><td>20</td><td>A</td><td>A</td><td>39</td><td>21</td><td> 72</td><td>102</td><td>F</td><td>H</td></tr>\n",
       "\t<tr><td>33</td><td>16</td><td>A</td><td>A</td><td>50</td><td>35</td><td> 75</td><td> 79</td><td>H</td><td>H</td></tr>\n",
       "\t<tr><td>40</td><td>28</td><td>B</td><td>B</td><td>42</td><td>35</td><td> 88</td><td>100</td><td>H</td><td>H</td></tr>\n",
       "\t<tr><td>38</td><td>23</td><td>A</td><td>A</td><td>44</td><td>48</td><td> 71</td><td> 95</td><td>F</td><td>H</td></tr>\n",
       "\t<tr><td>43</td><td>29</td><td>B</td><td>B</td><td>22</td><td>45</td><td> 89</td><td> 86</td><td>H</td><td>H</td></tr>\n",
       "\t<tr><td>32</td><td>24</td><td>A</td><td>A</td><td>36</td><td>39</td><td> 86</td><td> 87</td><td>H</td><td>H</td></tr>\n",
       "\t<tr><td>32</td><td>27</td><td>A</td><td>B</td><td>37</td><td>31</td><td>107</td><td> 92</td><td>H</td><td>H</td></tr>\n",
       "\t<tr><td>44</td><td>24</td><td>B</td><td>A</td><td>35</td><td>19</td><td> 90</td><td>104</td><td>H</td><td>H</td></tr>\n",
       "\t<tr><td>40</td><td>16</td><td>B</td><td>A</td><td>62</td><td>48</td><td> 72</td><td> 85</td><td>F</td><td>H</td></tr>\n",
       "\t<tr><td>36</td><td>24</td><td>A</td><td>A</td><td>46</td><td>44</td><td> 87</td><td> 91</td><td>H</td><td>H</td></tr>\n",
       "\t<tr><td>37</td><td>28</td><td>A</td><td>B</td><td>45</td><td>30</td><td> 73</td><td> 76</td><td>F</td><td>H</td></tr>\n",
       "\t<tr><td>41</td><td>15</td><td>B</td><td>A</td><td>56</td><td>54</td><td> 67</td><td> 79</td><td>F</td><td>H</td></tr>\n",
       "\t<tr><td>43</td><td>30</td><td>B</td><td>B</td><td>40</td><td>13</td><td> 65</td><td> 75</td><td>F</td><td>H</td></tr>\n",
       "\t<tr><td>37</td><td>31</td><td>A</td><td>B</td><td>46</td><td>26</td><td> 95</td><td> 80</td><td>H</td><td>H</td></tr>\n",
       "\t<tr><td>31</td><td>29</td><td>A</td><td>B</td><td>45</td><td>46</td><td> 80</td><td> 86</td><td>H</td><td>H</td></tr>\n",
       "\t<tr><td>47</td><td>26</td><td>C</td><td>B</td><td>42</td><td>20</td><td> 70</td><td> 79</td><td>F</td><td>H</td></tr>\n",
       "\t<tr><td>41</td><td>27</td><td>B</td><td>B</td><td>41</td><td>46</td><td> 85</td><td> 88</td><td>H</td><td>H</td></tr>\n",
       "\t<tr><td>45</td><td>36</td><td>C</td><td>B</td><td>37</td><td>35</td><td> 82</td><td> 96</td><td>H</td><td>H</td></tr>\n",
       "\t<tr><td>42</td><td>22</td><td>B</td><td>A</td><td>39</td><td>34</td><td> 92</td><td> 83</td><td>H</td><td>H</td></tr>\n",
       "\t<tr><td>46</td><td>33</td><td>C</td><td>B</td><td>52</td><td>38</td><td> 74</td><td> 74</td><td>F</td><td>F</td></tr>\n",
       "\t<tr><td>35</td><td>22</td><td>A</td><td>A</td><td>45</td><td>36</td><td> 80</td><td> 82</td><td>H</td><td>H</td></tr>\n",
       "\t<tr><td>49</td><td>33</td><td>C</td><td>B</td><td>59</td><td>41</td><td>100</td><td> 88</td><td>H</td><td>H</td></tr>\n",
       "\t<tr><td>33</td><td>31</td><td>A</td><td>B</td><td>41</td><td>32</td><td> 80</td><td> 92</td><td>H</td><td>H</td></tr>\n",
       "\t<tr><td>34</td><td>30</td><td>A</td><td>B</td><td>15</td><td>28</td><td> 78</td><td>106</td><td>H</td><td>H</td></tr>\n",
       "\t<tr><td>44</td><td>20</td><td>B</td><td>A</td><td>43</td><td>33</td><td> 79</td><td> 94</td><td>H</td><td>H</td></tr>\n",
       "\t<tr><td>40</td><td>20</td><td>B</td><td>A</td><td>28</td><td>31</td><td> 78</td><td> 89</td><td>H</td><td>H</td></tr>\n",
       "\t<tr><td>42</td><td>29</td><td>B</td><td>B</td><td>72</td><td>50</td><td> 72</td><td> 84</td><td>F</td><td>H</td></tr>\n",
       "\t<tr><td>44</td><td>19</td><td>B</td><td>A</td><td>45</td><td>55</td><td>104</td><td>101</td><td>H</td><td>H</td></tr>\n",
       "\t<tr><td>40</td><td>26</td><td>B</td><td>B</td><td>49</td><td>38</td><td> 88</td><td> 74</td><td>H</td><td>F</td></tr>\n",
       "\t<tr><td>29</td><td>19</td><td>A</td><td>A</td><td>47</td><td>33</td><td>104</td><td> 84</td><td>H</td><td>H</td></tr>\n",
       "\t<tr><td>36</td><td>24</td><td>A</td><td>A</td><td>40</td><td>29</td><td> 92</td><td> 97</td><td>H</td><td>H</td></tr>\n",
       "\t<tr><td>42</td><td>23</td><td>B</td><td>A</td><td>41</td><td>37</td><td> 82</td><td> 73</td><td>H</td><td>F</td></tr>\n",
       "\t<tr><td>44</td><td>26</td><td>B</td><td>B</td><td>23</td><td>49</td><td> 66</td><td> 89</td><td>F</td><td>H</td></tr>\n",
       "\t<tr><td>32</td><td>25</td><td>A</td><td>B</td><td>31</td><td>46</td><td> 85</td><td> 85</td><td>H</td><td>H</td></tr>\n",
       "\t<tr><td>37</td><td>25</td><td>A</td><td>B</td><td>44</td><td>55</td><td> 81</td><td> 85</td><td>H</td><td>H</td></tr>\n",
       "\t<tr><td>42</td><td>30</td><td>B</td><td>B</td><td>42</td><td>27</td><td> 82</td><td> 97</td><td>H</td><td>H</td></tr>\n",
       "\t<tr><td>45</td><td>24</td><td>C</td><td>A</td><td>30</td><td>35</td><td>100</td><td> 76</td><td>H</td><td>H</td></tr>\n",
       "</tbody>\n",
       "</table>\n"
      ],
      "text/latex": [
       "A data.frame: 50 × 10\n",
       "\\begin{tabular}{llllllllll}\n",
       " hamilton\\_g1 & hamilton\\_g2 & urbanisation\\_g1 & urbanisation\\_g2 & age\\_g1 & age\\_g2 & poids\\_g1 & poids\\_g2 & sexe\\_g1 & sexe\\_g2\\\\\n",
       " <int> & <int> & <chr> & <chr> & <int> & <int> & <int> & <int> & <chr> & <chr>\\\\\n",
       "\\hline\n",
       "\t 43 & 25 & B & B & 57 & 48 &  74 &  93 & F & H\\\\\n",
       "\t 29 & 29 & A & B & 37 & 41 &  95 &  92 & H & H\\\\\n",
       "\t 34 & 18 & A & A &  7 & 30 &  84 &  86 & H & H\\\\\n",
       "\t 39 & 23 & A & A & 37 & 41 & 104 &  81 & H & H\\\\\n",
       "\t 40 & 24 & B & A & 15 & 30 &  92 &  74 & H & F\\\\\n",
       "\t 41 & 25 & B & B & 45 & 45 &  85 &  98 & H & H\\\\\n",
       "\t 32 & 27 & A & B & 41 & 41 &  79 &  75 & H & H\\\\\n",
       "\t 36 & 16 & A & A & 33 & 17 &  92 &  90 & H & H\\\\\n",
       "\t 35 & 27 & A & B & 55 & 47 &  76 &  83 & H & H\\\\\n",
       "\t 37 & 16 & A & A & 46 & 48 &  78 &  82 & H & H\\\\\n",
       "\t 43 & 18 & B & A & 28 & 29 &  88 &  66 & H & F\\\\\n",
       "\t 36 & 19 & A & A & 39 & 36 &  83 &  83 & H & H\\\\\n",
       "\t 41 & 26 & B & B & 30 & 29 &  76 &  85 & H & H\\\\\n",
       "\t 37 & 20 & A & A & 39 & 21 &  72 & 102 & F & H\\\\\n",
       "\t 33 & 16 & A & A & 50 & 35 &  75 &  79 & H & H\\\\\n",
       "\t 40 & 28 & B & B & 42 & 35 &  88 & 100 & H & H\\\\\n",
       "\t 38 & 23 & A & A & 44 & 48 &  71 &  95 & F & H\\\\\n",
       "\t 43 & 29 & B & B & 22 & 45 &  89 &  86 & H & H\\\\\n",
       "\t 32 & 24 & A & A & 36 & 39 &  86 &  87 & H & H\\\\\n",
       "\t 32 & 27 & A & B & 37 & 31 & 107 &  92 & H & H\\\\\n",
       "\t 44 & 24 & B & A & 35 & 19 &  90 & 104 & H & H\\\\\n",
       "\t 40 & 16 & B & A & 62 & 48 &  72 &  85 & F & H\\\\\n",
       "\t 36 & 24 & A & A & 46 & 44 &  87 &  91 & H & H\\\\\n",
       "\t 37 & 28 & A & B & 45 & 30 &  73 &  76 & F & H\\\\\n",
       "\t 41 & 15 & B & A & 56 & 54 &  67 &  79 & F & H\\\\\n",
       "\t 43 & 30 & B & B & 40 & 13 &  65 &  75 & F & H\\\\\n",
       "\t 37 & 31 & A & B & 46 & 26 &  95 &  80 & H & H\\\\\n",
       "\t 31 & 29 & A & B & 45 & 46 &  80 &  86 & H & H\\\\\n",
       "\t 47 & 26 & C & B & 42 & 20 &  70 &  79 & F & H\\\\\n",
       "\t 41 & 27 & B & B & 41 & 46 &  85 &  88 & H & H\\\\\n",
       "\t 45 & 36 & C & B & 37 & 35 &  82 &  96 & H & H\\\\\n",
       "\t 42 & 22 & B & A & 39 & 34 &  92 &  83 & H & H\\\\\n",
       "\t 46 & 33 & C & B & 52 & 38 &  74 &  74 & F & F\\\\\n",
       "\t 35 & 22 & A & A & 45 & 36 &  80 &  82 & H & H\\\\\n",
       "\t 49 & 33 & C & B & 59 & 41 & 100 &  88 & H & H\\\\\n",
       "\t 33 & 31 & A & B & 41 & 32 &  80 &  92 & H & H\\\\\n",
       "\t 34 & 30 & A & B & 15 & 28 &  78 & 106 & H & H\\\\\n",
       "\t 44 & 20 & B & A & 43 & 33 &  79 &  94 & H & H\\\\\n",
       "\t 40 & 20 & B & A & 28 & 31 &  78 &  89 & H & H\\\\\n",
       "\t 42 & 29 & B & B & 72 & 50 &  72 &  84 & F & H\\\\\n",
       "\t 44 & 19 & B & A & 45 & 55 & 104 & 101 & H & H\\\\\n",
       "\t 40 & 26 & B & B & 49 & 38 &  88 &  74 & H & F\\\\\n",
       "\t 29 & 19 & A & A & 47 & 33 & 104 &  84 & H & H\\\\\n",
       "\t 36 & 24 & A & A & 40 & 29 &  92 &  97 & H & H\\\\\n",
       "\t 42 & 23 & B & A & 41 & 37 &  82 &  73 & H & F\\\\\n",
       "\t 44 & 26 & B & B & 23 & 49 &  66 &  89 & F & H\\\\\n",
       "\t 32 & 25 & A & B & 31 & 46 &  85 &  85 & H & H\\\\\n",
       "\t 37 & 25 & A & B & 44 & 55 &  81 &  85 & H & H\\\\\n",
       "\t 42 & 30 & B & B & 42 & 27 &  82 &  97 & H & H\\\\\n",
       "\t 45 & 24 & C & A & 30 & 35 & 100 &  76 & H & H\\\\\n",
       "\\end{tabular}\n"
      ],
      "text/markdown": [
       "\n",
       "A data.frame: 50 × 10\n",
       "\n",
       "| hamilton_g1 &lt;int&gt; | hamilton_g2 &lt;int&gt; | urbanisation_g1 &lt;chr&gt; | urbanisation_g2 &lt;chr&gt; | age_g1 &lt;int&gt; | age_g2 &lt;int&gt; | poids_g1 &lt;int&gt; | poids_g2 &lt;int&gt; | sexe_g1 &lt;chr&gt; | sexe_g2 &lt;chr&gt; |\n",
       "|---|---|---|---|---|---|---|---|---|---|\n",
       "| 43 | 25 | B | B | 57 | 48 |  74 |  93 | F | H |\n",
       "| 29 | 29 | A | B | 37 | 41 |  95 |  92 | H | H |\n",
       "| 34 | 18 | A | A |  7 | 30 |  84 |  86 | H | H |\n",
       "| 39 | 23 | A | A | 37 | 41 | 104 |  81 | H | H |\n",
       "| 40 | 24 | B | A | 15 | 30 |  92 |  74 | H | F |\n",
       "| 41 | 25 | B | B | 45 | 45 |  85 |  98 | H | H |\n",
       "| 32 | 27 | A | B | 41 | 41 |  79 |  75 | H | H |\n",
       "| 36 | 16 | A | A | 33 | 17 |  92 |  90 | H | H |\n",
       "| 35 | 27 | A | B | 55 | 47 |  76 |  83 | H | H |\n",
       "| 37 | 16 | A | A | 46 | 48 |  78 |  82 | H | H |\n",
       "| 43 | 18 | B | A | 28 | 29 |  88 |  66 | H | F |\n",
       "| 36 | 19 | A | A | 39 | 36 |  83 |  83 | H | H |\n",
       "| 41 | 26 | B | B | 30 | 29 |  76 |  85 | H | H |\n",
       "| 37 | 20 | A | A | 39 | 21 |  72 | 102 | F | H |\n",
       "| 33 | 16 | A | A | 50 | 35 |  75 |  79 | H | H |\n",
       "| 40 | 28 | B | B | 42 | 35 |  88 | 100 | H | H |\n",
       "| 38 | 23 | A | A | 44 | 48 |  71 |  95 | F | H |\n",
       "| 43 | 29 | B | B | 22 | 45 |  89 |  86 | H | H |\n",
       "| 32 | 24 | A | A | 36 | 39 |  86 |  87 | H | H |\n",
       "| 32 | 27 | A | B | 37 | 31 | 107 |  92 | H | H |\n",
       "| 44 | 24 | B | A | 35 | 19 |  90 | 104 | H | H |\n",
       "| 40 | 16 | B | A | 62 | 48 |  72 |  85 | F | H |\n",
       "| 36 | 24 | A | A | 46 | 44 |  87 |  91 | H | H |\n",
       "| 37 | 28 | A | B | 45 | 30 |  73 |  76 | F | H |\n",
       "| 41 | 15 | B | A | 56 | 54 |  67 |  79 | F | H |\n",
       "| 43 | 30 | B | B | 40 | 13 |  65 |  75 | F | H |\n",
       "| 37 | 31 | A | B | 46 | 26 |  95 |  80 | H | H |\n",
       "| 31 | 29 | A | B | 45 | 46 |  80 |  86 | H | H |\n",
       "| 47 | 26 | C | B | 42 | 20 |  70 |  79 | F | H |\n",
       "| 41 | 27 | B | B | 41 | 46 |  85 |  88 | H | H |\n",
       "| 45 | 36 | C | B | 37 | 35 |  82 |  96 | H | H |\n",
       "| 42 | 22 | B | A | 39 | 34 |  92 |  83 | H | H |\n",
       "| 46 | 33 | C | B | 52 | 38 |  74 |  74 | F | F |\n",
       "| 35 | 22 | A | A | 45 | 36 |  80 |  82 | H | H |\n",
       "| 49 | 33 | C | B | 59 | 41 | 100 |  88 | H | H |\n",
       "| 33 | 31 | A | B | 41 | 32 |  80 |  92 | H | H |\n",
       "| 34 | 30 | A | B | 15 | 28 |  78 | 106 | H | H |\n",
       "| 44 | 20 | B | A | 43 | 33 |  79 |  94 | H | H |\n",
       "| 40 | 20 | B | A | 28 | 31 |  78 |  89 | H | H |\n",
       "| 42 | 29 | B | B | 72 | 50 |  72 |  84 | F | H |\n",
       "| 44 | 19 | B | A | 45 | 55 | 104 | 101 | H | H |\n",
       "| 40 | 26 | B | B | 49 | 38 |  88 |  74 | H | F |\n",
       "| 29 | 19 | A | A | 47 | 33 | 104 |  84 | H | H |\n",
       "| 36 | 24 | A | A | 40 | 29 |  92 |  97 | H | H |\n",
       "| 42 | 23 | B | A | 41 | 37 |  82 |  73 | H | F |\n",
       "| 44 | 26 | B | B | 23 | 49 |  66 |  89 | F | H |\n",
       "| 32 | 25 | A | B | 31 | 46 |  85 |  85 | H | H |\n",
       "| 37 | 25 | A | B | 44 | 55 |  81 |  85 | H | H |\n",
       "| 42 | 30 | B | B | 42 | 27 |  82 |  97 | H | H |\n",
       "| 45 | 24 | C | A | 30 | 35 | 100 |  76 | H | H |\n",
       "\n"
      ],
      "text/plain": [
       "   hamilton_g1 hamilton_g2 urbanisation_g1 urbanisation_g2 age_g1 age_g2\n",
       "1  43          25          B               B               57     48    \n",
       "2  29          29          A               B               37     41    \n",
       "3  34          18          A               A                7     30    \n",
       "4  39          23          A               A               37     41    \n",
       "5  40          24          B               A               15     30    \n",
       "6  41          25          B               B               45     45    \n",
       "7  32          27          A               B               41     41    \n",
       "8  36          16          A               A               33     17    \n",
       "9  35          27          A               B               55     47    \n",
       "10 37          16          A               A               46     48    \n",
       "11 43          18          B               A               28     29    \n",
       "12 36          19          A               A               39     36    \n",
       "13 41          26          B               B               30     29    \n",
       "14 37          20          A               A               39     21    \n",
       "15 33          16          A               A               50     35    \n",
       "16 40          28          B               B               42     35    \n",
       "17 38          23          A               A               44     48    \n",
       "18 43          29          B               B               22     45    \n",
       "19 32          24          A               A               36     39    \n",
       "20 32          27          A               B               37     31    \n",
       "21 44          24          B               A               35     19    \n",
       "22 40          16          B               A               62     48    \n",
       "23 36          24          A               A               46     44    \n",
       "24 37          28          A               B               45     30    \n",
       "25 41          15          B               A               56     54    \n",
       "26 43          30          B               B               40     13    \n",
       "27 37          31          A               B               46     26    \n",
       "28 31          29          A               B               45     46    \n",
       "29 47          26          C               B               42     20    \n",
       "30 41          27          B               B               41     46    \n",
       "31 45          36          C               B               37     35    \n",
       "32 42          22          B               A               39     34    \n",
       "33 46          33          C               B               52     38    \n",
       "34 35          22          A               A               45     36    \n",
       "35 49          33          C               B               59     41    \n",
       "36 33          31          A               B               41     32    \n",
       "37 34          30          A               B               15     28    \n",
       "38 44          20          B               A               43     33    \n",
       "39 40          20          B               A               28     31    \n",
       "40 42          29          B               B               72     50    \n",
       "41 44          19          B               A               45     55    \n",
       "42 40          26          B               B               49     38    \n",
       "43 29          19          A               A               47     33    \n",
       "44 36          24          A               A               40     29    \n",
       "45 42          23          B               A               41     37    \n",
       "46 44          26          B               B               23     49    \n",
       "47 32          25          A               B               31     46    \n",
       "48 37          25          A               B               44     55    \n",
       "49 42          30          B               B               42     27    \n",
       "50 45          24          C               A               30     35    \n",
       "   poids_g1 poids_g2 sexe_g1 sexe_g2\n",
       "1   74       93      F       H      \n",
       "2   95       92      H       H      \n",
       "3   84       86      H       H      \n",
       "4  104       81      H       H      \n",
       "5   92       74      H       F      \n",
       "6   85       98      H       H      \n",
       "7   79       75      H       H      \n",
       "8   92       90      H       H      \n",
       "9   76       83      H       H      \n",
       "10  78       82      H       H      \n",
       "11  88       66      H       F      \n",
       "12  83       83      H       H      \n",
       "13  76       85      H       H      \n",
       "14  72      102      F       H      \n",
       "15  75       79      H       H      \n",
       "16  88      100      H       H      \n",
       "17  71       95      F       H      \n",
       "18  89       86      H       H      \n",
       "19  86       87      H       H      \n",
       "20 107       92      H       H      \n",
       "21  90      104      H       H      \n",
       "22  72       85      F       H      \n",
       "23  87       91      H       H      \n",
       "24  73       76      F       H      \n",
       "25  67       79      F       H      \n",
       "26  65       75      F       H      \n",
       "27  95       80      H       H      \n",
       "28  80       86      H       H      \n",
       "29  70       79      F       H      \n",
       "30  85       88      H       H      \n",
       "31  82       96      H       H      \n",
       "32  92       83      H       H      \n",
       "33  74       74      F       F      \n",
       "34  80       82      H       H      \n",
       "35 100       88      H       H      \n",
       "36  80       92      H       H      \n",
       "37  78      106      H       H      \n",
       "38  79       94      H       H      \n",
       "39  78       89      H       H      \n",
       "40  72       84      F       H      \n",
       "41 104      101      H       H      \n",
       "42  88       74      H       F      \n",
       "43 104       84      H       H      \n",
       "44  92       97      H       H      \n",
       "45  82       73      H       F      \n",
       "46  66       89      F       H      \n",
       "47  85       85      H       H      \n",
       "48  81       85      H       H      \n",
       "49  82       97      H       H      \n",
       "50 100       76      H       H      "
      ]
     },
     "metadata": {},
     "output_type": "display_data"
    }
   ],
   "source": [
    "# L'argument header = TRUE (/!\\ Il faut respecter les majuscules /!\\)\n",
    "# qui signifie 'header est vrai' permet de préciser que le fichier de données \n",
    "# possède une ligne en début qui correspond au nom des colonnes\n",
    "\n",
    "read.table(\"data/depression.txt\", header = TRUE)"
   ]
  },
  {
   "cell_type": "markdown",
   "id": "e0151b36-0ec6-4abd-8f52-8dce6aa3d24e",
   "metadata": {},
   "source": [
    "Pour l'instant on n'a fait que charger et afficher le tableau. Il n'est pas encore utilisable.\n",
    "Pour le faire il faut créer une **variable** qui contiendra le tableau qu'on utilisera pour le reste de la séance.\n",
    "Nous pouvons nommer le tableau `depression`. Pour assigner une variable dans R, on peut utiliser le signe `=`, à gauche du signe `=` on indique le nom de la variable, tandis que la droite du signe `=` donne le contenu de la variable."
   ]
  },
  {
   "cell_type": "code",
   "execution_count": 2,
   "id": "9c3619d0-eeea-4a39-9d8b-de54a19bf1d7",
   "metadata": {},
   "outputs": [],
   "source": [
    "depression = read.table(\"data/depression.txt\", header = TRUE)"
   ]
  },
  {
   "cell_type": "markdown",
   "id": "081d82a4-05d4-4656-9d2e-a63b2433b623",
   "metadata": {},
   "source": [
    "Rien ne s'affiche, c'est **normal**. Car on vient de créer la variable, pour l'afficher il faut utiliser le nom qu'on lui a donné directement :"
   ]
  },
  {
   "cell_type": "code",
   "execution_count": 3,
   "id": "0c9508af-4f8e-4f63-9d34-b69dfc97fcee",
   "metadata": {},
   "outputs": [
    {
     "data": {
      "text/html": [
       "<table class=\"dataframe\">\n",
       "<caption>A data.frame: 50 × 10</caption>\n",
       "<thead>\n",
       "\t<tr><th scope=col>hamilton_g1</th><th scope=col>hamilton_g2</th><th scope=col>urbanisation_g1</th><th scope=col>urbanisation_g2</th><th scope=col>age_g1</th><th scope=col>age_g2</th><th scope=col>poids_g1</th><th scope=col>poids_g2</th><th scope=col>sexe_g1</th><th scope=col>sexe_g2</th></tr>\n",
       "\t<tr><th scope=col>&lt;int&gt;</th><th scope=col>&lt;int&gt;</th><th scope=col>&lt;chr&gt;</th><th scope=col>&lt;chr&gt;</th><th scope=col>&lt;int&gt;</th><th scope=col>&lt;int&gt;</th><th scope=col>&lt;int&gt;</th><th scope=col>&lt;int&gt;</th><th scope=col>&lt;chr&gt;</th><th scope=col>&lt;chr&gt;</th></tr>\n",
       "</thead>\n",
       "<tbody>\n",
       "\t<tr><td>43</td><td>25</td><td>B</td><td>B</td><td>57</td><td>48</td><td> 74</td><td> 93</td><td>F</td><td>H</td></tr>\n",
       "\t<tr><td>29</td><td>29</td><td>A</td><td>B</td><td>37</td><td>41</td><td> 95</td><td> 92</td><td>H</td><td>H</td></tr>\n",
       "\t<tr><td>34</td><td>18</td><td>A</td><td>A</td><td> 7</td><td>30</td><td> 84</td><td> 86</td><td>H</td><td>H</td></tr>\n",
       "\t<tr><td>39</td><td>23</td><td>A</td><td>A</td><td>37</td><td>41</td><td>104</td><td> 81</td><td>H</td><td>H</td></tr>\n",
       "\t<tr><td>40</td><td>24</td><td>B</td><td>A</td><td>15</td><td>30</td><td> 92</td><td> 74</td><td>H</td><td>F</td></tr>\n",
       "\t<tr><td>41</td><td>25</td><td>B</td><td>B</td><td>45</td><td>45</td><td> 85</td><td> 98</td><td>H</td><td>H</td></tr>\n",
       "\t<tr><td>32</td><td>27</td><td>A</td><td>B</td><td>41</td><td>41</td><td> 79</td><td> 75</td><td>H</td><td>H</td></tr>\n",
       "\t<tr><td>36</td><td>16</td><td>A</td><td>A</td><td>33</td><td>17</td><td> 92</td><td> 90</td><td>H</td><td>H</td></tr>\n",
       "\t<tr><td>35</td><td>27</td><td>A</td><td>B</td><td>55</td><td>47</td><td> 76</td><td> 83</td><td>H</td><td>H</td></tr>\n",
       "\t<tr><td>37</td><td>16</td><td>A</td><td>A</td><td>46</td><td>48</td><td> 78</td><td> 82</td><td>H</td><td>H</td></tr>\n",
       "\t<tr><td>43</td><td>18</td><td>B</td><td>A</td><td>28</td><td>29</td><td> 88</td><td> 66</td><td>H</td><td>F</td></tr>\n",
       "\t<tr><td>36</td><td>19</td><td>A</td><td>A</td><td>39</td><td>36</td><td> 83</td><td> 83</td><td>H</td><td>H</td></tr>\n",
       "\t<tr><td>41</td><td>26</td><td>B</td><td>B</td><td>30</td><td>29</td><td> 76</td><td> 85</td><td>H</td><td>H</td></tr>\n",
       "\t<tr><td>37</td><td>20</td><td>A</td><td>A</td><td>39</td><td>21</td><td> 72</td><td>102</td><td>F</td><td>H</td></tr>\n",
       "\t<tr><td>33</td><td>16</td><td>A</td><td>A</td><td>50</td><td>35</td><td> 75</td><td> 79</td><td>H</td><td>H</td></tr>\n",
       "\t<tr><td>40</td><td>28</td><td>B</td><td>B</td><td>42</td><td>35</td><td> 88</td><td>100</td><td>H</td><td>H</td></tr>\n",
       "\t<tr><td>38</td><td>23</td><td>A</td><td>A</td><td>44</td><td>48</td><td> 71</td><td> 95</td><td>F</td><td>H</td></tr>\n",
       "\t<tr><td>43</td><td>29</td><td>B</td><td>B</td><td>22</td><td>45</td><td> 89</td><td> 86</td><td>H</td><td>H</td></tr>\n",
       "\t<tr><td>32</td><td>24</td><td>A</td><td>A</td><td>36</td><td>39</td><td> 86</td><td> 87</td><td>H</td><td>H</td></tr>\n",
       "\t<tr><td>32</td><td>27</td><td>A</td><td>B</td><td>37</td><td>31</td><td>107</td><td> 92</td><td>H</td><td>H</td></tr>\n",
       "\t<tr><td>44</td><td>24</td><td>B</td><td>A</td><td>35</td><td>19</td><td> 90</td><td>104</td><td>H</td><td>H</td></tr>\n",
       "\t<tr><td>40</td><td>16</td><td>B</td><td>A</td><td>62</td><td>48</td><td> 72</td><td> 85</td><td>F</td><td>H</td></tr>\n",
       "\t<tr><td>36</td><td>24</td><td>A</td><td>A</td><td>46</td><td>44</td><td> 87</td><td> 91</td><td>H</td><td>H</td></tr>\n",
       "\t<tr><td>37</td><td>28</td><td>A</td><td>B</td><td>45</td><td>30</td><td> 73</td><td> 76</td><td>F</td><td>H</td></tr>\n",
       "\t<tr><td>41</td><td>15</td><td>B</td><td>A</td><td>56</td><td>54</td><td> 67</td><td> 79</td><td>F</td><td>H</td></tr>\n",
       "\t<tr><td>43</td><td>30</td><td>B</td><td>B</td><td>40</td><td>13</td><td> 65</td><td> 75</td><td>F</td><td>H</td></tr>\n",
       "\t<tr><td>37</td><td>31</td><td>A</td><td>B</td><td>46</td><td>26</td><td> 95</td><td> 80</td><td>H</td><td>H</td></tr>\n",
       "\t<tr><td>31</td><td>29</td><td>A</td><td>B</td><td>45</td><td>46</td><td> 80</td><td> 86</td><td>H</td><td>H</td></tr>\n",
       "\t<tr><td>47</td><td>26</td><td>C</td><td>B</td><td>42</td><td>20</td><td> 70</td><td> 79</td><td>F</td><td>H</td></tr>\n",
       "\t<tr><td>41</td><td>27</td><td>B</td><td>B</td><td>41</td><td>46</td><td> 85</td><td> 88</td><td>H</td><td>H</td></tr>\n",
       "\t<tr><td>45</td><td>36</td><td>C</td><td>B</td><td>37</td><td>35</td><td> 82</td><td> 96</td><td>H</td><td>H</td></tr>\n",
       "\t<tr><td>42</td><td>22</td><td>B</td><td>A</td><td>39</td><td>34</td><td> 92</td><td> 83</td><td>H</td><td>H</td></tr>\n",
       "\t<tr><td>46</td><td>33</td><td>C</td><td>B</td><td>52</td><td>38</td><td> 74</td><td> 74</td><td>F</td><td>F</td></tr>\n",
       "\t<tr><td>35</td><td>22</td><td>A</td><td>A</td><td>45</td><td>36</td><td> 80</td><td> 82</td><td>H</td><td>H</td></tr>\n",
       "\t<tr><td>49</td><td>33</td><td>C</td><td>B</td><td>59</td><td>41</td><td>100</td><td> 88</td><td>H</td><td>H</td></tr>\n",
       "\t<tr><td>33</td><td>31</td><td>A</td><td>B</td><td>41</td><td>32</td><td> 80</td><td> 92</td><td>H</td><td>H</td></tr>\n",
       "\t<tr><td>34</td><td>30</td><td>A</td><td>B</td><td>15</td><td>28</td><td> 78</td><td>106</td><td>H</td><td>H</td></tr>\n",
       "\t<tr><td>44</td><td>20</td><td>B</td><td>A</td><td>43</td><td>33</td><td> 79</td><td> 94</td><td>H</td><td>H</td></tr>\n",
       "\t<tr><td>40</td><td>20</td><td>B</td><td>A</td><td>28</td><td>31</td><td> 78</td><td> 89</td><td>H</td><td>H</td></tr>\n",
       "\t<tr><td>42</td><td>29</td><td>B</td><td>B</td><td>72</td><td>50</td><td> 72</td><td> 84</td><td>F</td><td>H</td></tr>\n",
       "\t<tr><td>44</td><td>19</td><td>B</td><td>A</td><td>45</td><td>55</td><td>104</td><td>101</td><td>H</td><td>H</td></tr>\n",
       "\t<tr><td>40</td><td>26</td><td>B</td><td>B</td><td>49</td><td>38</td><td> 88</td><td> 74</td><td>H</td><td>F</td></tr>\n",
       "\t<tr><td>29</td><td>19</td><td>A</td><td>A</td><td>47</td><td>33</td><td>104</td><td> 84</td><td>H</td><td>H</td></tr>\n",
       "\t<tr><td>36</td><td>24</td><td>A</td><td>A</td><td>40</td><td>29</td><td> 92</td><td> 97</td><td>H</td><td>H</td></tr>\n",
       "\t<tr><td>42</td><td>23</td><td>B</td><td>A</td><td>41</td><td>37</td><td> 82</td><td> 73</td><td>H</td><td>F</td></tr>\n",
       "\t<tr><td>44</td><td>26</td><td>B</td><td>B</td><td>23</td><td>49</td><td> 66</td><td> 89</td><td>F</td><td>H</td></tr>\n",
       "\t<tr><td>32</td><td>25</td><td>A</td><td>B</td><td>31</td><td>46</td><td> 85</td><td> 85</td><td>H</td><td>H</td></tr>\n",
       "\t<tr><td>37</td><td>25</td><td>A</td><td>B</td><td>44</td><td>55</td><td> 81</td><td> 85</td><td>H</td><td>H</td></tr>\n",
       "\t<tr><td>42</td><td>30</td><td>B</td><td>B</td><td>42</td><td>27</td><td> 82</td><td> 97</td><td>H</td><td>H</td></tr>\n",
       "\t<tr><td>45</td><td>24</td><td>C</td><td>A</td><td>30</td><td>35</td><td>100</td><td> 76</td><td>H</td><td>H</td></tr>\n",
       "</tbody>\n",
       "</table>\n"
      ],
      "text/latex": [
       "A data.frame: 50 × 10\n",
       "\\begin{tabular}{llllllllll}\n",
       " hamilton\\_g1 & hamilton\\_g2 & urbanisation\\_g1 & urbanisation\\_g2 & age\\_g1 & age\\_g2 & poids\\_g1 & poids\\_g2 & sexe\\_g1 & sexe\\_g2\\\\\n",
       " <int> & <int> & <chr> & <chr> & <int> & <int> & <int> & <int> & <chr> & <chr>\\\\\n",
       "\\hline\n",
       "\t 43 & 25 & B & B & 57 & 48 &  74 &  93 & F & H\\\\\n",
       "\t 29 & 29 & A & B & 37 & 41 &  95 &  92 & H & H\\\\\n",
       "\t 34 & 18 & A & A &  7 & 30 &  84 &  86 & H & H\\\\\n",
       "\t 39 & 23 & A & A & 37 & 41 & 104 &  81 & H & H\\\\\n",
       "\t 40 & 24 & B & A & 15 & 30 &  92 &  74 & H & F\\\\\n",
       "\t 41 & 25 & B & B & 45 & 45 &  85 &  98 & H & H\\\\\n",
       "\t 32 & 27 & A & B & 41 & 41 &  79 &  75 & H & H\\\\\n",
       "\t 36 & 16 & A & A & 33 & 17 &  92 &  90 & H & H\\\\\n",
       "\t 35 & 27 & A & B & 55 & 47 &  76 &  83 & H & H\\\\\n",
       "\t 37 & 16 & A & A & 46 & 48 &  78 &  82 & H & H\\\\\n",
       "\t 43 & 18 & B & A & 28 & 29 &  88 &  66 & H & F\\\\\n",
       "\t 36 & 19 & A & A & 39 & 36 &  83 &  83 & H & H\\\\\n",
       "\t 41 & 26 & B & B & 30 & 29 &  76 &  85 & H & H\\\\\n",
       "\t 37 & 20 & A & A & 39 & 21 &  72 & 102 & F & H\\\\\n",
       "\t 33 & 16 & A & A & 50 & 35 &  75 &  79 & H & H\\\\\n",
       "\t 40 & 28 & B & B & 42 & 35 &  88 & 100 & H & H\\\\\n",
       "\t 38 & 23 & A & A & 44 & 48 &  71 &  95 & F & H\\\\\n",
       "\t 43 & 29 & B & B & 22 & 45 &  89 &  86 & H & H\\\\\n",
       "\t 32 & 24 & A & A & 36 & 39 &  86 &  87 & H & H\\\\\n",
       "\t 32 & 27 & A & B & 37 & 31 & 107 &  92 & H & H\\\\\n",
       "\t 44 & 24 & B & A & 35 & 19 &  90 & 104 & H & H\\\\\n",
       "\t 40 & 16 & B & A & 62 & 48 &  72 &  85 & F & H\\\\\n",
       "\t 36 & 24 & A & A & 46 & 44 &  87 &  91 & H & H\\\\\n",
       "\t 37 & 28 & A & B & 45 & 30 &  73 &  76 & F & H\\\\\n",
       "\t 41 & 15 & B & A & 56 & 54 &  67 &  79 & F & H\\\\\n",
       "\t 43 & 30 & B & B & 40 & 13 &  65 &  75 & F & H\\\\\n",
       "\t 37 & 31 & A & B & 46 & 26 &  95 &  80 & H & H\\\\\n",
       "\t 31 & 29 & A & B & 45 & 46 &  80 &  86 & H & H\\\\\n",
       "\t 47 & 26 & C & B & 42 & 20 &  70 &  79 & F & H\\\\\n",
       "\t 41 & 27 & B & B & 41 & 46 &  85 &  88 & H & H\\\\\n",
       "\t 45 & 36 & C & B & 37 & 35 &  82 &  96 & H & H\\\\\n",
       "\t 42 & 22 & B & A & 39 & 34 &  92 &  83 & H & H\\\\\n",
       "\t 46 & 33 & C & B & 52 & 38 &  74 &  74 & F & F\\\\\n",
       "\t 35 & 22 & A & A & 45 & 36 &  80 &  82 & H & H\\\\\n",
       "\t 49 & 33 & C & B & 59 & 41 & 100 &  88 & H & H\\\\\n",
       "\t 33 & 31 & A & B & 41 & 32 &  80 &  92 & H & H\\\\\n",
       "\t 34 & 30 & A & B & 15 & 28 &  78 & 106 & H & H\\\\\n",
       "\t 44 & 20 & B & A & 43 & 33 &  79 &  94 & H & H\\\\\n",
       "\t 40 & 20 & B & A & 28 & 31 &  78 &  89 & H & H\\\\\n",
       "\t 42 & 29 & B & B & 72 & 50 &  72 &  84 & F & H\\\\\n",
       "\t 44 & 19 & B & A & 45 & 55 & 104 & 101 & H & H\\\\\n",
       "\t 40 & 26 & B & B & 49 & 38 &  88 &  74 & H & F\\\\\n",
       "\t 29 & 19 & A & A & 47 & 33 & 104 &  84 & H & H\\\\\n",
       "\t 36 & 24 & A & A & 40 & 29 &  92 &  97 & H & H\\\\\n",
       "\t 42 & 23 & B & A & 41 & 37 &  82 &  73 & H & F\\\\\n",
       "\t 44 & 26 & B & B & 23 & 49 &  66 &  89 & F & H\\\\\n",
       "\t 32 & 25 & A & B & 31 & 46 &  85 &  85 & H & H\\\\\n",
       "\t 37 & 25 & A & B & 44 & 55 &  81 &  85 & H & H\\\\\n",
       "\t 42 & 30 & B & B & 42 & 27 &  82 &  97 & H & H\\\\\n",
       "\t 45 & 24 & C & A & 30 & 35 & 100 &  76 & H & H\\\\\n",
       "\\end{tabular}\n"
      ],
      "text/markdown": [
       "\n",
       "A data.frame: 50 × 10\n",
       "\n",
       "| hamilton_g1 &lt;int&gt; | hamilton_g2 &lt;int&gt; | urbanisation_g1 &lt;chr&gt; | urbanisation_g2 &lt;chr&gt; | age_g1 &lt;int&gt; | age_g2 &lt;int&gt; | poids_g1 &lt;int&gt; | poids_g2 &lt;int&gt; | sexe_g1 &lt;chr&gt; | sexe_g2 &lt;chr&gt; |\n",
       "|---|---|---|---|---|---|---|---|---|---|\n",
       "| 43 | 25 | B | B | 57 | 48 |  74 |  93 | F | H |\n",
       "| 29 | 29 | A | B | 37 | 41 |  95 |  92 | H | H |\n",
       "| 34 | 18 | A | A |  7 | 30 |  84 |  86 | H | H |\n",
       "| 39 | 23 | A | A | 37 | 41 | 104 |  81 | H | H |\n",
       "| 40 | 24 | B | A | 15 | 30 |  92 |  74 | H | F |\n",
       "| 41 | 25 | B | B | 45 | 45 |  85 |  98 | H | H |\n",
       "| 32 | 27 | A | B | 41 | 41 |  79 |  75 | H | H |\n",
       "| 36 | 16 | A | A | 33 | 17 |  92 |  90 | H | H |\n",
       "| 35 | 27 | A | B | 55 | 47 |  76 |  83 | H | H |\n",
       "| 37 | 16 | A | A | 46 | 48 |  78 |  82 | H | H |\n",
       "| 43 | 18 | B | A | 28 | 29 |  88 |  66 | H | F |\n",
       "| 36 | 19 | A | A | 39 | 36 |  83 |  83 | H | H |\n",
       "| 41 | 26 | B | B | 30 | 29 |  76 |  85 | H | H |\n",
       "| 37 | 20 | A | A | 39 | 21 |  72 | 102 | F | H |\n",
       "| 33 | 16 | A | A | 50 | 35 |  75 |  79 | H | H |\n",
       "| 40 | 28 | B | B | 42 | 35 |  88 | 100 | H | H |\n",
       "| 38 | 23 | A | A | 44 | 48 |  71 |  95 | F | H |\n",
       "| 43 | 29 | B | B | 22 | 45 |  89 |  86 | H | H |\n",
       "| 32 | 24 | A | A | 36 | 39 |  86 |  87 | H | H |\n",
       "| 32 | 27 | A | B | 37 | 31 | 107 |  92 | H | H |\n",
       "| 44 | 24 | B | A | 35 | 19 |  90 | 104 | H | H |\n",
       "| 40 | 16 | B | A | 62 | 48 |  72 |  85 | F | H |\n",
       "| 36 | 24 | A | A | 46 | 44 |  87 |  91 | H | H |\n",
       "| 37 | 28 | A | B | 45 | 30 |  73 |  76 | F | H |\n",
       "| 41 | 15 | B | A | 56 | 54 |  67 |  79 | F | H |\n",
       "| 43 | 30 | B | B | 40 | 13 |  65 |  75 | F | H |\n",
       "| 37 | 31 | A | B | 46 | 26 |  95 |  80 | H | H |\n",
       "| 31 | 29 | A | B | 45 | 46 |  80 |  86 | H | H |\n",
       "| 47 | 26 | C | B | 42 | 20 |  70 |  79 | F | H |\n",
       "| 41 | 27 | B | B | 41 | 46 |  85 |  88 | H | H |\n",
       "| 45 | 36 | C | B | 37 | 35 |  82 |  96 | H | H |\n",
       "| 42 | 22 | B | A | 39 | 34 |  92 |  83 | H | H |\n",
       "| 46 | 33 | C | B | 52 | 38 |  74 |  74 | F | F |\n",
       "| 35 | 22 | A | A | 45 | 36 |  80 |  82 | H | H |\n",
       "| 49 | 33 | C | B | 59 | 41 | 100 |  88 | H | H |\n",
       "| 33 | 31 | A | B | 41 | 32 |  80 |  92 | H | H |\n",
       "| 34 | 30 | A | B | 15 | 28 |  78 | 106 | H | H |\n",
       "| 44 | 20 | B | A | 43 | 33 |  79 |  94 | H | H |\n",
       "| 40 | 20 | B | A | 28 | 31 |  78 |  89 | H | H |\n",
       "| 42 | 29 | B | B | 72 | 50 |  72 |  84 | F | H |\n",
       "| 44 | 19 | B | A | 45 | 55 | 104 | 101 | H | H |\n",
       "| 40 | 26 | B | B | 49 | 38 |  88 |  74 | H | F |\n",
       "| 29 | 19 | A | A | 47 | 33 | 104 |  84 | H | H |\n",
       "| 36 | 24 | A | A | 40 | 29 |  92 |  97 | H | H |\n",
       "| 42 | 23 | B | A | 41 | 37 |  82 |  73 | H | F |\n",
       "| 44 | 26 | B | B | 23 | 49 |  66 |  89 | F | H |\n",
       "| 32 | 25 | A | B | 31 | 46 |  85 |  85 | H | H |\n",
       "| 37 | 25 | A | B | 44 | 55 |  81 |  85 | H | H |\n",
       "| 42 | 30 | B | B | 42 | 27 |  82 |  97 | H | H |\n",
       "| 45 | 24 | C | A | 30 | 35 | 100 |  76 | H | H |\n",
       "\n"
      ],
      "text/plain": [
       "   hamilton_g1 hamilton_g2 urbanisation_g1 urbanisation_g2 age_g1 age_g2\n",
       "1  43          25          B               B               57     48    \n",
       "2  29          29          A               B               37     41    \n",
       "3  34          18          A               A                7     30    \n",
       "4  39          23          A               A               37     41    \n",
       "5  40          24          B               A               15     30    \n",
       "6  41          25          B               B               45     45    \n",
       "7  32          27          A               B               41     41    \n",
       "8  36          16          A               A               33     17    \n",
       "9  35          27          A               B               55     47    \n",
       "10 37          16          A               A               46     48    \n",
       "11 43          18          B               A               28     29    \n",
       "12 36          19          A               A               39     36    \n",
       "13 41          26          B               B               30     29    \n",
       "14 37          20          A               A               39     21    \n",
       "15 33          16          A               A               50     35    \n",
       "16 40          28          B               B               42     35    \n",
       "17 38          23          A               A               44     48    \n",
       "18 43          29          B               B               22     45    \n",
       "19 32          24          A               A               36     39    \n",
       "20 32          27          A               B               37     31    \n",
       "21 44          24          B               A               35     19    \n",
       "22 40          16          B               A               62     48    \n",
       "23 36          24          A               A               46     44    \n",
       "24 37          28          A               B               45     30    \n",
       "25 41          15          B               A               56     54    \n",
       "26 43          30          B               B               40     13    \n",
       "27 37          31          A               B               46     26    \n",
       "28 31          29          A               B               45     46    \n",
       "29 47          26          C               B               42     20    \n",
       "30 41          27          B               B               41     46    \n",
       "31 45          36          C               B               37     35    \n",
       "32 42          22          B               A               39     34    \n",
       "33 46          33          C               B               52     38    \n",
       "34 35          22          A               A               45     36    \n",
       "35 49          33          C               B               59     41    \n",
       "36 33          31          A               B               41     32    \n",
       "37 34          30          A               B               15     28    \n",
       "38 44          20          B               A               43     33    \n",
       "39 40          20          B               A               28     31    \n",
       "40 42          29          B               B               72     50    \n",
       "41 44          19          B               A               45     55    \n",
       "42 40          26          B               B               49     38    \n",
       "43 29          19          A               A               47     33    \n",
       "44 36          24          A               A               40     29    \n",
       "45 42          23          B               A               41     37    \n",
       "46 44          26          B               B               23     49    \n",
       "47 32          25          A               B               31     46    \n",
       "48 37          25          A               B               44     55    \n",
       "49 42          30          B               B               42     27    \n",
       "50 45          24          C               A               30     35    \n",
       "   poids_g1 poids_g2 sexe_g1 sexe_g2\n",
       "1   74       93      F       H      \n",
       "2   95       92      H       H      \n",
       "3   84       86      H       H      \n",
       "4  104       81      H       H      \n",
       "5   92       74      H       F      \n",
       "6   85       98      H       H      \n",
       "7   79       75      H       H      \n",
       "8   92       90      H       H      \n",
       "9   76       83      H       H      \n",
       "10  78       82      H       H      \n",
       "11  88       66      H       F      \n",
       "12  83       83      H       H      \n",
       "13  76       85      H       H      \n",
       "14  72      102      F       H      \n",
       "15  75       79      H       H      \n",
       "16  88      100      H       H      \n",
       "17  71       95      F       H      \n",
       "18  89       86      H       H      \n",
       "19  86       87      H       H      \n",
       "20 107       92      H       H      \n",
       "21  90      104      H       H      \n",
       "22  72       85      F       H      \n",
       "23  87       91      H       H      \n",
       "24  73       76      F       H      \n",
       "25  67       79      F       H      \n",
       "26  65       75      F       H      \n",
       "27  95       80      H       H      \n",
       "28  80       86      H       H      \n",
       "29  70       79      F       H      \n",
       "30  85       88      H       H      \n",
       "31  82       96      H       H      \n",
       "32  92       83      H       H      \n",
       "33  74       74      F       F      \n",
       "34  80       82      H       H      \n",
       "35 100       88      H       H      \n",
       "36  80       92      H       H      \n",
       "37  78      106      H       H      \n",
       "38  79       94      H       H      \n",
       "39  78       89      H       H      \n",
       "40  72       84      F       H      \n",
       "41 104      101      H       H      \n",
       "42  88       74      H       F      \n",
       "43 104       84      H       H      \n",
       "44  92       97      H       H      \n",
       "45  82       73      H       F      \n",
       "46  66       89      F       H      \n",
       "47  85       85      H       H      \n",
       "48  81       85      H       H      \n",
       "49  82       97      H       H      \n",
       "50 100       76      H       H      "
      ]
     },
     "metadata": {},
     "output_type": "display_data"
    }
   ],
   "source": [
    "depression"
   ]
  },
  {
   "cell_type": "markdown",
   "id": "01dce26d-d639-4425-ab5b-a9897104deb5",
   "metadata": {},
   "source": [
    "*Note : si vous cherchez de l'aide en ligne ou ailleurs sur R, vous pouvez voir que certaines personnes assignent des variables avec les caractères `<-`, c'est strictement équivaleut au signe `=`, aussi, par simplicité , dans le reste du cours nous utiliserons le signe `=`*"
   ]
  },
  {
   "cell_type": "markdown",
   "id": "2518db9b",
   "metadata": {},
   "source": [
    "Un tableau peut contenir plusieurs milliers de lignes tout afficher peut donc être inutile.\n",
    "\n",
    "La fonction `head()` permet d'afficher les premières lignes d'un tableau (sans autre précision, les **six premières**)."
   ]
  },
  {
   "cell_type": "code",
   "execution_count": 4,
   "id": "64cbeda2",
   "metadata": {},
   "outputs": [
    {
     "data": {
      "text/html": [
       "<table class=\"dataframe\">\n",
       "<caption>A data.frame: 6 × 10</caption>\n",
       "<thead>\n",
       "\t<tr><th></th><th scope=col>hamilton_g1</th><th scope=col>hamilton_g2</th><th scope=col>urbanisation_g1</th><th scope=col>urbanisation_g2</th><th scope=col>age_g1</th><th scope=col>age_g2</th><th scope=col>poids_g1</th><th scope=col>poids_g2</th><th scope=col>sexe_g1</th><th scope=col>sexe_g2</th></tr>\n",
       "\t<tr><th></th><th scope=col>&lt;int&gt;</th><th scope=col>&lt;int&gt;</th><th scope=col>&lt;chr&gt;</th><th scope=col>&lt;chr&gt;</th><th scope=col>&lt;int&gt;</th><th scope=col>&lt;int&gt;</th><th scope=col>&lt;int&gt;</th><th scope=col>&lt;int&gt;</th><th scope=col>&lt;chr&gt;</th><th scope=col>&lt;chr&gt;</th></tr>\n",
       "</thead>\n",
       "<tbody>\n",
       "\t<tr><th scope=row>1</th><td>43</td><td>25</td><td>B</td><td>B</td><td>57</td><td>48</td><td> 74</td><td>93</td><td>F</td><td>H</td></tr>\n",
       "\t<tr><th scope=row>2</th><td>29</td><td>29</td><td>A</td><td>B</td><td>37</td><td>41</td><td> 95</td><td>92</td><td>H</td><td>H</td></tr>\n",
       "\t<tr><th scope=row>3</th><td>34</td><td>18</td><td>A</td><td>A</td><td> 7</td><td>30</td><td> 84</td><td>86</td><td>H</td><td>H</td></tr>\n",
       "\t<tr><th scope=row>4</th><td>39</td><td>23</td><td>A</td><td>A</td><td>37</td><td>41</td><td>104</td><td>81</td><td>H</td><td>H</td></tr>\n",
       "\t<tr><th scope=row>5</th><td>40</td><td>24</td><td>B</td><td>A</td><td>15</td><td>30</td><td> 92</td><td>74</td><td>H</td><td>F</td></tr>\n",
       "\t<tr><th scope=row>6</th><td>41</td><td>25</td><td>B</td><td>B</td><td>45</td><td>45</td><td> 85</td><td>98</td><td>H</td><td>H</td></tr>\n",
       "</tbody>\n",
       "</table>\n"
      ],
      "text/latex": [
       "A data.frame: 6 × 10\n",
       "\\begin{tabular}{r|llllllllll}\n",
       "  & hamilton\\_g1 & hamilton\\_g2 & urbanisation\\_g1 & urbanisation\\_g2 & age\\_g1 & age\\_g2 & poids\\_g1 & poids\\_g2 & sexe\\_g1 & sexe\\_g2\\\\\n",
       "  & <int> & <int> & <chr> & <chr> & <int> & <int> & <int> & <int> & <chr> & <chr>\\\\\n",
       "\\hline\n",
       "\t1 & 43 & 25 & B & B & 57 & 48 &  74 & 93 & F & H\\\\\n",
       "\t2 & 29 & 29 & A & B & 37 & 41 &  95 & 92 & H & H\\\\\n",
       "\t3 & 34 & 18 & A & A &  7 & 30 &  84 & 86 & H & H\\\\\n",
       "\t4 & 39 & 23 & A & A & 37 & 41 & 104 & 81 & H & H\\\\\n",
       "\t5 & 40 & 24 & B & A & 15 & 30 &  92 & 74 & H & F\\\\\n",
       "\t6 & 41 & 25 & B & B & 45 & 45 &  85 & 98 & H & H\\\\\n",
       "\\end{tabular}\n"
      ],
      "text/markdown": [
       "\n",
       "A data.frame: 6 × 10\n",
       "\n",
       "| <!--/--> | hamilton_g1 &lt;int&gt; | hamilton_g2 &lt;int&gt; | urbanisation_g1 &lt;chr&gt; | urbanisation_g2 &lt;chr&gt; | age_g1 &lt;int&gt; | age_g2 &lt;int&gt; | poids_g1 &lt;int&gt; | poids_g2 &lt;int&gt; | sexe_g1 &lt;chr&gt; | sexe_g2 &lt;chr&gt; |\n",
       "|---|---|---|---|---|---|---|---|---|---|---|\n",
       "| 1 | 43 | 25 | B | B | 57 | 48 |  74 | 93 | F | H |\n",
       "| 2 | 29 | 29 | A | B | 37 | 41 |  95 | 92 | H | H |\n",
       "| 3 | 34 | 18 | A | A |  7 | 30 |  84 | 86 | H | H |\n",
       "| 4 | 39 | 23 | A | A | 37 | 41 | 104 | 81 | H | H |\n",
       "| 5 | 40 | 24 | B | A | 15 | 30 |  92 | 74 | H | F |\n",
       "| 6 | 41 | 25 | B | B | 45 | 45 |  85 | 98 | H | H |\n",
       "\n"
      ],
      "text/plain": [
       "  hamilton_g1 hamilton_g2 urbanisation_g1 urbanisation_g2 age_g1 age_g2\n",
       "1 43          25          B               B               57     48    \n",
       "2 29          29          A               B               37     41    \n",
       "3 34          18          A               A                7     30    \n",
       "4 39          23          A               A               37     41    \n",
       "5 40          24          B               A               15     30    \n",
       "6 41          25          B               B               45     45    \n",
       "  poids_g1 poids_g2 sexe_g1 sexe_g2\n",
       "1  74      93       F       H      \n",
       "2  95      92       H       H      \n",
       "3  84      86       H       H      \n",
       "4 104      81       H       H      \n",
       "5  92      74       H       F      \n",
       "6  85      98       H       H      "
      ]
     },
     "metadata": {},
     "output_type": "display_data"
    }
   ],
   "source": [
    "# Afficher le début du contenu du fichier de données \n",
    "head(depression)"
   ]
  },
  {
   "cell_type": "markdown",
   "id": "b5f92fd3",
   "metadata": {},
   "source": [
    "Les tableaux dans R portent le nom de `data.frame`.\n",
    "\n",
    "Par analogie avec les mathématiques, quand on s'intéresse à un ensemble en une seule dimension, comme une colonne de tableau par exemple, on parle en R de **vecteur**.\n",
    "\n",
    "Pour extraire une colonne d'un tableau on doit préciser le nom du tableau suivi de `$` suivi du nom de la colonne (**/!\\\\** en respectant scrupuleusement l'orthographe **/!\\\\**)"
   ]
  },
  {
   "cell_type": "code",
   "execution_count": 5,
   "id": "a8115cd5",
   "metadata": {},
   "outputs": [
    {
     "data": {
      "text/html": [
       "<style>\n",
       ".list-inline {list-style: none; margin:0; padding: 0}\n",
       ".list-inline>li {display: inline-block}\n",
       ".list-inline>li:not(:last-child)::after {content: \"\\00b7\"; padding: 0 .5ex}\n",
       "</style>\n",
       "<ol class=list-inline><li>43</li><li>29</li><li>34</li><li>39</li><li>40</li><li>41</li><li>32</li><li>36</li><li>35</li><li>37</li><li>43</li><li>36</li><li>41</li><li>37</li><li>33</li><li>40</li><li>38</li><li>43</li><li>32</li><li>32</li><li>44</li><li>40</li><li>36</li><li>37</li><li>41</li><li>43</li><li>37</li><li>31</li><li>47</li><li>41</li><li>45</li><li>42</li><li>46</li><li>35</li><li>49</li><li>33</li><li>34</li><li>44</li><li>40</li><li>42</li><li>44</li><li>40</li><li>29</li><li>36</li><li>42</li><li>44</li><li>32</li><li>37</li><li>42</li><li>45</li></ol>\n"
      ],
      "text/latex": [
       "\\begin{enumerate*}\n",
       "\\item 43\n",
       "\\item 29\n",
       "\\item 34\n",
       "\\item 39\n",
       "\\item 40\n",
       "\\item 41\n",
       "\\item 32\n",
       "\\item 36\n",
       "\\item 35\n",
       "\\item 37\n",
       "\\item 43\n",
       "\\item 36\n",
       "\\item 41\n",
       "\\item 37\n",
       "\\item 33\n",
       "\\item 40\n",
       "\\item 38\n",
       "\\item 43\n",
       "\\item 32\n",
       "\\item 32\n",
       "\\item 44\n",
       "\\item 40\n",
       "\\item 36\n",
       "\\item 37\n",
       "\\item 41\n",
       "\\item 43\n",
       "\\item 37\n",
       "\\item 31\n",
       "\\item 47\n",
       "\\item 41\n",
       "\\item 45\n",
       "\\item 42\n",
       "\\item 46\n",
       "\\item 35\n",
       "\\item 49\n",
       "\\item 33\n",
       "\\item 34\n",
       "\\item 44\n",
       "\\item 40\n",
       "\\item 42\n",
       "\\item 44\n",
       "\\item 40\n",
       "\\item 29\n",
       "\\item 36\n",
       "\\item 42\n",
       "\\item 44\n",
       "\\item 32\n",
       "\\item 37\n",
       "\\item 42\n",
       "\\item 45\n",
       "\\end{enumerate*}\n"
      ],
      "text/markdown": [
       "1. 43\n",
       "2. 29\n",
       "3. 34\n",
       "4. 39\n",
       "5. 40\n",
       "6. 41\n",
       "7. 32\n",
       "8. 36\n",
       "9. 35\n",
       "10. 37\n",
       "11. 43\n",
       "12. 36\n",
       "13. 41\n",
       "14. 37\n",
       "15. 33\n",
       "16. 40\n",
       "17. 38\n",
       "18. 43\n",
       "19. 32\n",
       "20. 32\n",
       "21. 44\n",
       "22. 40\n",
       "23. 36\n",
       "24. 37\n",
       "25. 41\n",
       "26. 43\n",
       "27. 37\n",
       "28. 31\n",
       "29. 47\n",
       "30. 41\n",
       "31. 45\n",
       "32. 42\n",
       "33. 46\n",
       "34. 35\n",
       "35. 49\n",
       "36. 33\n",
       "37. 34\n",
       "38. 44\n",
       "39. 40\n",
       "40. 42\n",
       "41. 44\n",
       "42. 40\n",
       "43. 29\n",
       "44. 36\n",
       "45. 42\n",
       "46. 44\n",
       "47. 32\n",
       "48. 37\n",
       "49. 42\n",
       "50. 45\n",
       "\n",
       "\n"
      ],
      "text/plain": [
       " [1] 43 29 34 39 40 41 32 36 35 37 43 36 41 37 33 40 38 43 32 32 44 40 36 37 41\n",
       "[26] 43 37 31 47 41 45 42 46 35 49 33 34 44 40 42 44 40 29 36 42 44 32 37 42 45"
      ]
     },
     "metadata": {},
     "output_type": "display_data"
    }
   ],
   "source": [
    "# Pour avoir accès aux colonnes, il faut préciser le nom du fichier\n",
    "depression$hamilton_g1"
   ]
  },
  {
   "cell_type": "markdown",
   "id": "5925351d-505c-499c-9302-cfe6fac71d44",
   "metadata": {},
   "source": []
  },
  {
   "cell_type": "markdown",
   "id": "b868e746-7613-4420-aee0-d18809661b4f",
   "metadata": {},
   "source": [
    "## 3. Statistiques descriptives\n",
    "\n",
    "La statistique descriptive est la première étape primordiale lors d’une analyse statistique,\n",
    "cette étape va permet bien évidemment de résumer ou représenter les données observées, avec\n",
    "le moins de mots, chiffres ou graphiques possible, grâce à des outils statistiques simples tels que\n",
    "la moyenne, la médiane, la variance, les quantiles, le maximum, le minimum....\n",
    "Elle permet également de vérifier si il n’y a pas de valeurs erronées, de problèmes d’échantillonnage.\n",
    "\n",
    "Elle a aussi un rôle de suggestion d’hypothèses pour des études plus approfondies ou encore de vérification de condition d’application pour les tests statistiques de l’étude infférentielle qui\n",
    "suivra."
   ]
  },
  {
   "cell_type": "markdown",
   "id": "70616a7d-d3f4-4586-b84c-ac78946dae3c",
   "metadata": {},
   "source": []
  },
  {
   "cell_type": "markdown",
   "id": "04fbe429-01d6-4252-868c-6689caa69f80",
   "metadata": {},
   "source": [
    "### 3.1 Les variables aléatoires\n",
    "\n",
    "Les variables du jeu de données peuvent prendre un certain nombre de valeurs sans que\n",
    "celles-ci ne puissent être prévues à priori, c’est pour cela qu’elle se nomme variable aléatoire. Il\n",
    "existe deux types de variables aléatoires :\n",
    "- Variable qualitative : modalité non mesurable, par exemple la couleur des yeux, le sexe,\n",
    "le groupe sanguin...\n",
    "- Variable quantitative : modalité mesurable, par exemple la taille, le taux d’hormones,...\n",
    "\n",
    "Une variable aléatoire est dite discrète si elle prend que des valeurs discontinues dans un\n",
    "intervalle donné, comme par exemple le nombre d’enfants dans une famille, le nombre de fumeurs...\n",
    "\n",
    "Une variable aléatoire est dite continue si elle prend toutes les valeurs dans un intervalle donné,\n",
    "comme par exemple : la taille, le poids...\n",
    "\n",
    "Dans notre exemple de cours, les variables hamilton, âge, poids sont des variables **quantitatives**\n",
    "alors que les variables sexe et uUrbanisation sont des variables **qualitatives**."
   ]
  },
  {
   "cell_type": "markdown",
   "id": "1593a90b-5425-423b-af35-59660289b19d",
   "metadata": {},
   "source": []
  },
  {
   "cell_type": "markdown",
   "id": "dca9c729-8f51-4c4a-9637-56c98f477a1f",
   "metadata": {},
   "source": [
    "### 3.2 Paramètres utilisés en statistique descriptive\n",
    "\n",
    "Lors de la description d’un jeu de données, deux types de paramètres doivent être utilisés\n",
    "pour décrire les variables quantitatives : les paramètres de position et les paramètres de dispersion."
   ]
  },
  {
   "cell_type": "markdown",
   "id": "e55482f8-4d98-4105-b26a-ec4b8acc460e",
   "metadata": {},
   "source": [
    "#### Paramètres de position\n",
    "\n",
    "1. la **moyenne** : c’est la somme pondérée des valeurs mesurées \n",
    "2. la **médiane** : c’est la valeur qui scinde l’échantillon en deux de telle sorte que 50% desobservations sont supérieures à cette valeur et 50% des observations lui sont inférieures.\n",
    "\n",
    "Comparaison de ces deux indicateurs :\n",
    "\n",
    "1. la **moyenne** : c’est l’indicateur familier, intuitif et facile à calculer.\n",
    "   point faible : il n’est pas robuste =  très sensible au changement d’une ou plusieurs observations et aux valeurs extrêmes\n",
    "3. la **médiane** : c’est un indicateur à fois précis et robuste = il est peu sensible à la modification d’une ou plusieurs observations ou aux valeurs extrêmes\n",
    "\n",
    "Remarque : tout au long des TDs vous trouverez dans les encadrés les instructions en langage R pour réaliser les analyses statistiques.\n",
    "\n",
    "Pour calculer la moyenne d'un vecteur sur R, on doit utiliser la fonction `mean()` (*mean* qui signifie moyenne en Anglais).  \n",
    "Pour la médiane, il faut utiliser la fonction `median()` (*median* qui signifie médiane en Anglais).\n",
    "\n",
    "Calculons les moyennes et médianes des scores de Hamilton du groupe 1."
   ]
  },
  {
   "cell_type": "code",
   "execution_count": 24,
   "id": "28d77dcc",
   "metadata": {},
   "outputs": [
    {
     "data": {
      "text/html": [
       "38.78"
      ],
      "text/latex": [
       "38.78"
      ],
      "text/markdown": [
       "38.78"
      ],
      "text/plain": [
       "[1] 38.78"
      ]
     },
     "metadata": {},
     "output_type": "display_data"
    },
    {
     "data": {
      "text/html": [
       "40"
      ],
      "text/latex": [
       "40"
      ],
      "text/markdown": [
       "40"
      ],
      "text/plain": [
       "[1] 40"
      ]
     },
     "metadata": {},
     "output_type": "display_data"
    },
    {
     "data": {
      "text/html": [
       "4.89602087497217"
      ],
      "text/latex": [
       "4.89602087497217"
      ],
      "text/markdown": [
       "4.89602087497217"
      ],
      "text/plain": [
       "[1] 4.896021"
      ]
     },
     "metadata": {},
     "output_type": "display_data"
    }
   ],
   "source": [
    "mean(depression$hamilton_g1)\n",
    "median(depression$hamilton_g1)\n",
    "sd(depression$hamilton_g1)"
   ]
  },
  {
   "cell_type": "markdown",
   "id": "a8ef6281",
   "metadata": {},
   "source": [
    "*Application* : calculer les moyennes et médianes des variables `hamilton_g2`, `age_g1`, et `age_g2`"
   ]
  },
  {
   "cell_type": "code",
   "execution_count": 25,
   "id": "d1d0ca10",
   "metadata": {},
   "outputs": [
    {
     "data": {
      "text/html": [
       "24.54"
      ],
      "text/latex": [
       "24.54"
      ],
      "text/markdown": [
       "24.54"
      ],
      "text/plain": [
       "[1] 24.54"
      ]
     },
     "metadata": {},
     "output_type": "display_data"
    },
    {
     "data": {
      "text/html": [
       "25"
      ],
      "text/latex": [
       "25"
      ],
      "text/markdown": [
       "25"
      ],
      "text/plain": [
       "[1] 25"
      ]
     },
     "metadata": {},
     "output_type": "display_data"
    },
    {
     "data": {
      "text/html": [
       "5.00697472715485"
      ],
      "text/latex": [
       "5.00697472715485"
      ],
      "text/markdown": [
       "5.00697472715485"
      ],
      "text/plain": [
       "[1] 5.006975"
      ]
     },
     "metadata": {},
     "output_type": "display_data"
    }
   ],
   "source": [
    "mean(depression$hamilton_g2)\n",
    "median(depression$hamilton_g2)\n",
    "sd(depression$hamilton_g2)"
   ]
  },
  {
   "cell_type": "markdown",
   "id": "1a55e3cf",
   "metadata": {},
   "source": [
    "On constate que l’âge moyen dans les groupes 1 et 2 sont proches, respectivement environ 40\n",
    "ans et 37 ans. En revanche, la différence au niveau du score de Hamilton semble plus importante\n",
    "entre le groupe 1 et 2 avec des scores moyens respectivement de 38.8 et 24.5, et des scores\n",
    "médians respectivement de 40 et 25. Toutefois, il est important de vérifier la dispersion des\n",
    "données car même si la la différence de moyenne entre les deux groupes peut sembler importante,\n",
    "deux cas de figures se présentent :\n",
    "- si l’écart-type pour les deux groupes est également grand alors cette différence s’amenuise,les données se chevauchent\n",
    "- si l’écart-type est faible alors les deux groupes ont des données bien distinctes et la différence entre les deux groupes apparait clairement. \n",
    "\n",
    "<img src=\"Figures/Fig_dispersion.jpg\" />\n",
    "\n",
    "\n",
    "#### Paramètres de dispersion\n",
    "\n",
    "Ils fixent la variabilité des mesures par rapport à un paramètre de position.\n",
    "1. la **variance** : c’est l’écart par rapport à la moyenne, l'écart-type correspond à la racine de la variance\n",
    "2. l’**amplitude** : c’est l’écart entre la plus grande et la plus petite valeur observée dans l’échantillon.\n",
    "3. l’**intervalle inter-quartile** : c’est la plage de valeurs délimitée par le 1er quartile et le 3ème quartile (respectivement Q1 et Q3). Il contient 50% des observations : 25% de part et d’autre de la médiane. Les quartiles sont définis sur le même principe que la médiane (aussi nommé 2ème quartile).\n",
    "\n",
    "**le premier quartile (Q1)** : c’est la valeur qui scinde l’échantillon en deux de telle sorte que 75% des observations\n",
    "sont supérieures à cette valeur et 25% des observations lui sont inférieures.\n",
    "\n",
    "**le troisième quartile (Q3)** : c’est la valeur qui scinde l’échantillon en deux de telle sorte que 25% des observations\n",
    "sont supérieures à cette valeur et 75% des observations lui sont inférieures.\n",
    "\n",
    "Si l'on compare ces trois indicateurs, ils ont différentes propriétés :\n",
    "1. l’écart-type : c’est un indicateur peu robuste, mais facile à calculer et récurrent dans les statistiques inférentielles\n",
    "2. l’intervalle inter-quartile : c’est un indicateur robuste au même titre que les valeurs qui le caractérisent (quartiles).\n",
    "3. l’amplitude : facile à calculer, mais très sensible aux valeurs extrêmes (qui sont parfois aberrantes).\n",
    "\n",
    "Pour calculer l'écart-type d'un vecteur sur R, il faut utiliser la fonction `sd()` (écart-type se dit ***s**tandard **d**eviation* en Anglais).  \n",
    "Pour l'intervalle inter-quartile et l'amplitude, ils nous sont donnés *via* la fonction `summary()` (résumé en Anglais) qui nous permet d'obtenir un résumé statistique du vecteur.\n",
    "\n",
    "*Application au jeu de données sur le score de Hamilton :*"
   ]
  },
  {
   "cell_type": "code",
   "execution_count": 26,
   "id": "74893d31",
   "metadata": {},
   "outputs": [
    {
     "data": {
      "text/plain": [
       "   Min. 1st Qu.  Median    Mean 3rd Qu.    Max. \n",
       "  29.00   35.25   40.00   38.78   42.75   49.00 "
      ]
     },
     "metadata": {},
     "output_type": "display_data"
    },
    {
     "data": {
      "text/html": [
       "4.89602087497217"
      ],
      "text/latex": [
       "4.89602087497217"
      ],
      "text/markdown": [
       "4.89602087497217"
      ],
      "text/plain": [
       "[1] 4.896021"
      ]
     },
     "metadata": {},
     "output_type": "display_data"
    }
   ],
   "source": [
    "summary(depression$hamilton_g1)\n",
    "sd(depression$hamilton_g1)"
   ]
  },
  {
   "cell_type": "markdown",
   "id": "11f7debc",
   "metadata": {},
   "source": [
    "Faites de même pour la variable `hamilton_g2`"
   ]
  },
  {
   "cell_type": "code",
   "execution_count": 28,
   "id": "793cce73",
   "metadata": {},
   "outputs": [
    {
     "data": {
      "text/plain": [
       "   Min. 1st Qu.  Median    Mean 3rd Qu.    Max. \n",
       "  15.00   20.50   25.00   24.54   28.00   36.00 "
      ]
     },
     "metadata": {},
     "output_type": "display_data"
    },
    {
     "data": {
      "text/html": [
       "5.00697472715485"
      ],
      "text/latex": [
       "5.00697472715485"
      ],
      "text/markdown": [
       "5.00697472715485"
      ],
      "text/plain": [
       "[1] 5.006975"
      ]
     },
     "metadata": {},
     "output_type": "display_data"
    }
   ],
   "source": [
    "summary(depression$hamilton_g2)\n",
    "sd(depression$hamilton_g2)"
   ]
  },
  {
   "cell_type": "markdown",
   "id": "be3cc9f8",
   "metadata": {},
   "source": [
    "**En conclusion** :  \n",
    "\n",
    "\n",
    "\n",
    "Cette hypothèse pourra ensuite être testée dans les TDs suivants par un test de comparaison de\n",
    "moyennes."
   ]
  },
  {
   "cell_type": "markdown",
   "id": "6dbe3abf",
   "metadata": {},
   "source": [
    "### 3.3 Représentation des variables quantitatives\n",
    "\n",
    "#### Histogramme\n",
    "\n",
    "L’histogramme est un moyen rapide pour étudier la répartition d’une variable.  \n",
    "Cependant, il faut faire attention car la forme de l’histogramme change en fonction de l’amplitude\n",
    "des classes, il faut tester plusieurs découpages diff\u000b",
    "érents.\n",
    "\n",
    "[Philippe Besse (Professeur de Statistiques, auteur du site WikiStat)](http://wikistat.fr/) :\n",
    "> La qualité de l’estimation d’une distribution par un histogramme dépend beaucoup\n",
    "du découpage en classes.  \n",
    "> Malheureusement, plutôt que de fournir des classes d’e\u000b",
    "ffectifs égaux\n",
    "et donc de mieux répartir l’imprécision, les logiciels utilisent des classes d’amplitudes égales et\n",
    "tracent donc des histogrammes parfois peu représentatifs.\n",
    "\n",
    "Pour représenter un histogramme sur R, il faut utiliser la fonction `hist()` en donnant comme argument le vecteur duquel on veut l'histogramme.\n",
    "\n",
    "*Application au jeu de données sur le score de Hamilton :*"
   ]
  },
  {
   "cell_type": "code",
   "execution_count": 29,
   "id": "74ac07ce",
   "metadata": {},
   "outputs": [
    {
     "data": {
      "image/png": "[encoded data removed]",
      "text/plain": [
       "Plot with title “Histogram of depression$hamilton_g1”"
      ]
     },
     "metadata": {
      "image/png": {
       "height": 420,
       "width": 420
      }
     },
     "output_type": "display_data"
    }
   ],
   "source": [
    "# tracer de l'histogramme représentant la variable hamilton_g1\n",
    "hist(depression$hamilton_g1)"
   ]
  },
  {
   "cell_type": "markdown",
   "id": "3bf91f12",
   "metadata": {},
   "source": [
    "Tracer l'histogramme de la colonne `hamilton_g2` et comparer avec l'histogramme de la colonne `hamilton_g1`"
   ]
  },
  {
   "cell_type": "code",
   "execution_count": 30,
   "id": "5d2ba513",
   "metadata": {},
   "outputs": [
    {
     "data": {
      "image/png": "[encoded data removed]",
      "text/plain": [
       "Plot with title “Histogram of depression$hamilton_g2”"
      ]
     },
     "metadata": {
      "image/png": {
       "height": 420,
       "width": 420
      }
     },
     "output_type": "display_data"
    }
   ],
   "source": [
    "# tracer de l'histogramme représentant la variable hamilton_g2\n",
    "hist(depression$hamilton_g2)"
   ]
  },
  {
   "cell_type": "markdown",
   "id": "dbd2df3f",
   "metadata": {},
   "source": [
    "Ces histogrammes montrent une répartition disymétrique du score de Hamilton pour les\n",
    "groupes g1 et g2 avec un **mode** (c'est-à-dire la valeur ou classe la plus fréquente) respectivement aux alentours de 40-45 et 25-30.\n",
    "\n",
    "On peut choisir le nombre de classes de l’histogramme avec l'argument `n=` suivi d'un nombre, ce qui permet d’augmenter (ou de réduire)\n",
    "la précision du graphique."
   ]
  },
  {
   "cell_type": "code",
   "execution_count": 35,
   "id": "b9a5e486",
   "metadata": {},
   "outputs": [
    {
     "data": {
      "image/png": "[encoded data removed]",
      "text/plain": [
       "Plot with title “Histogram of depression$hamilton_g1”"
      ]
     },
     "metadata": {
      "image/png": {
       "height": 420,
       "width": 420
      }
     },
     "output_type": "display_data"
    }
   ],
   "source": [
    "# tracer de l'histogramme représentant la variable hamilton_g1, en choisissant 15 classes grâce à l'argument n=15\n",
    "hist(depression$hamilton_g1,n=15)"
   ]
  },
  {
   "cell_type": "markdown",
   "id": "4f2c6fbc",
   "metadata": {},
   "source": [
    "Retracer l'histogramme de la variable `hamilton_g2` avec 15 classes"
   ]
  },
  {
   "cell_type": "code",
   "execution_count": 36,
   "id": "d0b4b0c9-3160-4264-aabd-7a3b688c0d5a",
   "metadata": {},
   "outputs": [
    {
     "data": {
      "image/png": "[encoded data removed]",
      "text/plain": [
       "Plot with title “Histogram of depression$hamilton_g2”"
      ]
     },
     "metadata": {
      "image/png": {
       "height": 420,
       "width": 420
      }
     },
     "output_type": "display_data"
    }
   ],
   "source": [
    "hist(depression$hamilton_g2,n=15)"
   ]
  },
  {
   "cell_type": "markdown",
   "id": "d6d5f919",
   "metadata": {},
   "source": [
    "Ces histogrammes ont été obtenus à partir des mêmes données que les histogrammes précédents,\n",
    "seul le nombre de classes a été changé. Les deux distributions semblent pourtant très\n",
    "différentes.  \n",
    "Il est important d’ajuster le nombre de classes en fonction de la taille de l’échantillon."
   ]
  },
  {
   "cell_type": "markdown",
   "id": "5073ef27",
   "metadata": {},
   "source": [
    "#### *boxplot* (ou diagramme en boîte à moustaches)\n",
    "\n",
    "Ce type de graphique permet de résumer une série statistiques, d’identifier\n",
    "les valeurs extrêmes, de comprendre la répartition des observations (dispersion et symétrie)\n",
    "d’une variable ou encore de comparer la répartition des données d’une même variable entre plusieurs\n",
    "échantillons.\n",
    "\n",
    "- La valeur centrale du graphique est la **médiane** (il existe autant de valeurs supérieures qu’inférieures à cette valeur dans l’échantillon), on la représente par une barre plus épaisse.\n",
    "- Les bords du rectangle sont les quartiles **Q1** et **Q3** (Pour le bord inférieur, un quart des observations ont des valeurs plus petites et trois quart ont des valeurs plus grandes, le bord supérieur suit le même raisonnement).\n",
    "- Les extrémités des moustaches sont calculées en utilisant 1.5 fois l’espace interquartile (Q3 - Q1).\n",
    "On peut remarquer que 50% des observations se trouvent à l’intérieur de la boîte (et donc 50% en dehors !).\n",
    "\n",
    "Les valeurs à l’extérieur des moustaches sont représentées par des points. Ces valeurs peuvent\n",
    "être décrites comme extrêmes par rapport aux autres valeurs de l’échantillon. Toutefois, il ne\n",
    "faut pas faire de raccourci rapide et en déduire que se sont forcément des valeurs aberrantes.\n",
    "Par contre, cela peut indiquer qu’il faut étudier ces observations plus en détails.\n",
    "\n",
    "Pour représenter un *boxplot* sous R il faut utiliser la fonction `boxplot()` en donnant comme argument la série statistique que l'on souhaite représenter.  \n",
    "\n",
    "*Application au jeu de données sur le score de Hamilton :*"
   ]
  },
  {
   "cell_type": "code",
   "execution_count": 37,
   "id": "000a6265",
   "metadata": {},
   "outputs": [
    {
     "data": {
      "image/png": "[encoded data removed]",
      "text/plain": [
       "plot without title"
      ]
     },
     "metadata": {
      "image/png": {
       "height": 420,
       "width": 420
      }
     },
     "output_type": "display_data"
    }
   ],
   "source": [
    "# l'argument main permet de préciser un titre\n",
    "# l'argument ylab permet de préciser un titre à l'axe de y\n",
    "boxplot(depression$hamilton_g1)"
   ]
  },
  {
   "cell_type": "markdown",
   "id": "d984447f-b1f0-4c45-b8a8-e4deb167bb5d",
   "metadata": {},
   "source": [
    "Les graphiques de R par défaut utilisent les noms de variables fournies pour donner des titres aux axes et aux graphiques. Pour les modifier, on peut utiliser les argumants `main=` pour donner le titre général du graphique et l'argument `ylab=` pour nommer l'axe des ordonnées (raccourci de ***y**-axis **lab**el*).\n",
    "Il faut fournir ces titres en écrivant entre guillemets `\"`\n",
    "\n",
    "Reprenez le boxplot ci-dessus et donnez lui un titre et nommez l'axe des ordonnées"
   ]
  },
  {
   "cell_type": "code",
   "execution_count": 38,
   "id": "64117018-5ff5-4990-8498-4f1a340fe7da",
   "metadata": {},
   "outputs": [
    {
     "data": {
      "image/png": "[encoded data removed]",
      "text/plain": [
       "Plot with title “Hamilton Groupe 1”"
      ]
     },
     "metadata": {
      "image/png": {
       "height": 420,
       "width": 420
      }
     },
     "output_type": "display_data"
    }
   ],
   "source": [
    "boxplot(depression$hamilton_g1,main=\"Hamilton Groupe 1\", ylab=\"Hamilton1\")"
   ]
  },
  {
   "cell_type": "markdown",
   "id": "a7c34d45",
   "metadata": {},
   "source": [
    "De la même façon, tracez le boxplot de la variable `hamilton_g2`"
   ]
  },
  {
   "cell_type": "code",
   "execution_count": null,
   "id": "017ceb08",
   "metadata": {},
   "outputs": [],
   "source": []
  },
  {
   "cell_type": "markdown",
   "id": "70531d3d",
   "metadata": {},
   "source": [
    "Il est possible de regrouper les deux boxplots sur la même figure en donnant les deux séries statistiques d'affilées à la fonction `boxplot()`.\n",
    "On peut préciser l'axe des abscisses avec l'argument `xlab=` (pour ***x**-axis **lab**el*)"
   ]
  },
  {
   "cell_type": "code",
   "execution_count": 40,
   "id": "4ec4346e",
   "metadata": {},
   "outputs": [
    {
     "data": {
      "image/png": "[encoded data removed]",
      "text/plain": [
       "Plot with title “Hamilton Groupe 1”"
      ]
     },
     "metadata": {
      "image/png": {
       "height": 420,
       "width": 420
      }
     },
     "output_type": "display_data"
    }
   ],
   "source": [
    "# On peut les annoter de la même façon\n",
    "boxplot(depression$hamilton_g1,depression$hamilton_g2,main=\"Hamilton Groupe 1\", ylab=\"Nb\", xlab=\"Groupe\")"
   ]
  },
  {
   "cell_type": "markdown",
   "id": "a747cc6e-c27b-4e0b-af11-3b8845a72da1",
   "metadata": {},
   "source": [
    "Seulement les noms de groupes n'apparaissent plus, pour ce faire on peut utiliser l'argument `names=` suivi d'un vecteur de nom.\n",
    "\n",
    "Pour créer un vecteur de nom il faut utiliser la fonction `c()` en séparant les noms entre guillemets `\"` par des virgules, par exemple `c(\"A\", \"B\")`."
   ]
  },
  {
   "cell_type": "code",
   "execution_count": 41,
   "id": "2ba1b351-0eb9-456e-bc55-dda425c6dcd0",
   "metadata": {},
   "outputs": [
    {
     "data": {
      "image/png": "[encoded data removed]",
      "text/plain": [
       "Plot with title “Hamilton Groupe 1”"
      ]
     },
     "metadata": {
      "image/png": {
       "height": 420,
       "width": 420
      }
     },
     "output_type": "display_data"
    }
   ],
   "source": [
    "boxplot(depression$hamilton_g1,depression$hamilton_g2,main=\"Hamilton Groupe 1\", ylab=\"Nb\", xlab=\"Groupe\", names=c(\"Groupe1\",\"Groupe2\"))"
   ]
  },
  {
   "cell_type": "markdown",
   "id": "a25efb1a-638c-424a-8cf4-e65416621cc3",
   "metadata": {},
   "source": [
    "*Note : pour faciliter la lecture du code, n'hésitez pas à revenir à la ligne après chaque virgule dans les fonctions, cela permettra d'aérer votre code et d'identifier plus rapidement les bugs*"
   ]
  },
  {
   "cell_type": "markdown",
   "id": "aa2dd54c",
   "metadata": {},
   "source": [
    "**Interprétation** :\n"
   ]
  },
  {
   "cell_type": "markdown",
   "id": "e1089ce5",
   "metadata": {},
   "source": [
    "### 3.4 Représentation des variables qualitatives\n",
    "\n",
    "La description d’une variable qualitative passe par la présentation de ces effectifs par classes (on regroupe les observations qui de la même modalité).\n",
    "Cette étape va permettre de vérifier la répartition des effectifs (= le nombre d'observations) entre les classes. Ainsi, si une variable possède des effectifs très déséquilibrés entre ces classes, il faudra\n",
    "en tenir compte dans les tests à venir, et, parfois, procéder à des regroupements entre classess.\n",
    "\n",
    "Pour obtenir les effectifs d'une variable qualitative sur R, il faut utiliser la fonction `table()` qui prend comme argument la variable qualitative à étudier.\n",
    "\n",
    "*Application au jeu de données sur la variable `urbanisation_g1` :*"
   ]
  },
  {
   "cell_type": "code",
   "execution_count": 46,
   "id": "2e3a68c9-e635-4d4c-8838-b689ba17d79f",
   "metadata": {},
   "outputs": [
    {
     "data": {
      "text/plain": [
       "\n",
       " A  B  C \n",
       "24 21  5 "
      ]
     },
     "metadata": {},
     "output_type": "display_data"
    }
   ],
   "source": [
    "# la fonction table compte les effectifs des modalités de la variable\n",
    "repartition1=table(depression$urbanisation_g1)\n",
    "# afficher le résultat\n",
    "repartition1"
   ]
  },
  {
   "cell_type": "markdown",
   "id": "626ccfff",
   "metadata": {},
   "source": [
    "Calculer les effectifs de la variable `urbanisation_g2` et commentez les résultats"
   ]
  },
  {
   "cell_type": "code",
   "execution_count": 47,
   "id": "96a963d3",
   "metadata": {},
   "outputs": [
    {
     "data": {
      "text/plain": [
       "\n",
       " A  B \n",
       "24 26 "
      ]
     },
     "metadata": {},
     "output_type": "display_data"
    }
   ],
   "source": [
    "# la fonction table compte les effectifs des modalités de la variable\n",
    "repartition2=table(depression$urbanisation_g2)\n",
    "# afficher le résultat\n",
    "repartition2"
   ]
  },
  {
   "cell_type": "markdown",
   "id": "93a98a51-ba35-4641-8b69-fb05023337af",
   "metadata": {},
   "source": [
    "**Commentaire** :\n",
    "\n"
   ]
  },
  {
   "cell_type": "markdown",
   "id": "1bd7ab0f",
   "metadata": {},
   "source": [
    "#### *barplot* (ou diagramme en barres)\n",
    "\n",
    "Il s'agit d'un graphique on l'on représente la fréquence d’observation ou les effectifs de chacune des modalités\n",
    "de la variable considérée. La hauteur des barres est proportionnelle à ceux-ci. Contrairement aux histogrammes, les bâtons des diagrammes\n",
    "en barre sont bien séparés pour mettre l’accent sur le caractère discret des observations\n",
    "(par opposition à la contiguité des barres d’un histogramme qui fait écho à la nature continue de\n",
    "la variable).\n",
    "\n",
    "Pour l'utiliser sur R, il faut utiliser la fonction `barplot()` qui prend comme premier argument le **tableau d'effectifs de la variable qualitative**, comme il s'agit d'une fonction graphique, on peut annoter le graphique de la même façon que précédemment avec les arguments `main=`, `xlab=`, et `ylab=`.\n",
    "\n",
    "*Application au jeu de données sur la variable `urbanisation_g1` :*"
   ]
  },
  {
   "cell_type": "code",
   "execution_count": 48,
   "id": "31311406",
   "metadata": {},
   "outputs": [
    {
     "data": {
      "image/png": "[encoded data removed]",
      "text/plain": [
       "plot without title"
      ]
     },
     "metadata": {
      "image/png": {
       "height": 420,
       "width": 420
      }
     },
     "output_type": "display_data"
    }
   ],
   "source": [
    "barplot(repartition1)"
   ]
  },
  {
   "cell_type": "markdown",
   "id": "41b24d09",
   "metadata": {},
   "source": [
    "Tracer le barplot représentant les effectifs de la variable `urbanisation_g2` et commentez "
   ]
  },
  {
   "cell_type": "code",
   "execution_count": null,
   "id": "6030b71d",
   "metadata": {},
   "outputs": [],
   "source": []
  },
  {
   "cell_type": "markdown",
   "id": "611dcc17",
   "metadata": {},
   "source": [
    "**Commentaire** :\n",
    "\n"
   ]
  },
  {
   "cell_type": "markdown",
   "id": "3e033a52",
   "metadata": {},
   "source": [
    "#### Camemberts (ou diagramme circulaire)\n",
    "\n",
    "Le camembert permet de représenter les différentes modalités par secteurs angulaires proportionnels\n",
    "aux fréquences observées.  \n",
    "Les représentations en camembert sont à utiliser avec modération c’est à dire uniquement lorsqu’il\n",
    "y a peu de modalités à représenter. En effet, plus il y a de modalités plus il est difficile de lire les proportions sur le graphique. En outre, les camemberts ne représentent que les proportions relatives entre modalités et pas le nombre absolu (contrairement à un diagramme en barres).\n",
    "\n",
    "Pour représenter un camembert sur R, on peut utiliser la fonction `pie()` (de ***pie** chart* en Anglais, littéralement diagramme en tarte = camembert).  \n",
    "Cette fonction prend comme premier argument les **effectifs** de la variable qualitative à représenter. Comme c'est une fonction graphique on peut utiliser les autres arguments habituels des fonctions graphiques.\n",
    "\n",
    "*Application au jeu de données sur la variable `urbanisation_g1`*"
   ]
  },
  {
   "cell_type": "code",
   "execution_count": 49,
   "id": "e567aa26",
   "metadata": {},
   "outputs": [
    {
     "data": {
      "image/png": "[encoded data removed]",
      "text/plain": [
       "plot without title"
      ]
     },
     "metadata": {
      "image/png": {
       "height": 420,
       "width": 420
      }
     },
     "output_type": "display_data"
    }
   ],
   "source": [
    "pie(repartition1)"
   ]
  },
  {
   "cell_type": "markdown",
   "id": "3e29feca",
   "metadata": {},
   "source": [
    "Tracer le camenbert représentant les effectifs de la variable `urbanisation_g2` et commentez "
   ]
  },
  {
   "cell_type": "code",
   "execution_count": null,
   "id": "cd9103d7",
   "metadata": {},
   "outputs": [],
   "source": []
  },
  {
   "cell_type": "markdown",
   "id": "325ca726-fe69-4109-9f98-c7cc973114d2",
   "metadata": {},
   "source": [
    "**Commentaire :**\n",
    "\n"
   ]
  },
  {
   "cell_type": "markdown",
   "id": "8570b674",
   "metadata": {},
   "source": [
    "## 4. Manipulation de données\n",
    "\n",
    "###  4.1 Extraction directe\n",
    "\n",
    "Il est possible avec **R** d’extraire des valeurs particulières d’un tableau (*data.frame*). Pour cela, il faut être conscient qu’un tableau est composé de lignes et de colonnes, chaque\n",
    "valeur du tableau a donc un numéro de ligne *i* et un numéro de colonne *j*. \n",
    "\n",
    "Pour extraire une valeur particulière du tableau, il suffit de préciser à **R** son numéro de ligne et de colonne. Par\n",
    "exemple, nous allons extraire la valeur à la ligne 2 dans la colonne 3 :"
   ]
  },
  {
   "cell_type": "code",
   "execution_count": 50,
   "id": "cdee06ec",
   "metadata": {},
   "outputs": [
    {
     "data": {
      "text/html": [
       "'A'"
      ],
      "text/latex": [
       "'A'"
      ],
      "text/markdown": [
       "'A'"
      ],
      "text/plain": [
       "[1] \"A\""
      ]
     },
     "metadata": {},
     "output_type": "display_data"
    }
   ],
   "source": [
    "# Extraire la valeur de la ligne 2 en colonne 3\n",
    "# les [] permettent d'extraire une sous partie du tableau\n",
    "# ce qui est avant la virgule correspond aux lignes et ce qui est après la virgule correspond aux colonnes\n",
    "depression[2,3]"
   ]
  },
  {
   "cell_type": "markdown",
   "id": "74c2cb3f",
   "metadata": {},
   "source": [
    "Application : Extraire la valeur du tableau qui se situe à la ligne 15 dans la colonne 4"
   ]
  },
  {
   "cell_type": "code",
   "execution_count": 51,
   "id": "d8429d4f",
   "metadata": {},
   "outputs": [
    {
     "data": {
      "text/html": [
       "'A'"
      ],
      "text/latex": [
       "'A'"
      ],
      "text/markdown": [
       "'A'"
      ],
      "text/plain": [
       "[1] \"A\""
      ]
     },
     "metadata": {},
     "output_type": "display_data"
    }
   ],
   "source": [
    "depression[15,4]"
   ]
  },
  {
   "cell_type": "markdown",
   "id": "c72fb1cf-2b97-42ee-b129-0eb00769c376",
   "metadata": {},
   "source": [
    "On peut aussi extraire toute une ligne ou tout une colonne en ne mettant rien à la place de l'indice de ligne ou de colonne respectivement (**Atttention il faut tout même garder la virgule dans les crochets**).\n",
    "\n",
    "Par exemple, on peut extraire toute la deuxième ligne du tableau avec :"
   ]
  },
  {
   "cell_type": "code",
   "execution_count": 52,
   "id": "84c340fe-dbb3-486b-a83a-08c180f74895",
   "metadata": {},
   "outputs": [
    {
     "data": {
      "text/html": [
       "<table class=\"dataframe\">\n",
       "<caption>A data.frame: 1 × 10</caption>\n",
       "<thead>\n",
       "\t<tr><th></th><th scope=col>hamilton_g1</th><th scope=col>hamilton_g2</th><th scope=col>urbanisation_g1</th><th scope=col>urbanisation_g2</th><th scope=col>age_g1</th><th scope=col>age_g2</th><th scope=col>poids_g1</th><th scope=col>poids_g2</th><th scope=col>sexe_g1</th><th scope=col>sexe_g2</th></tr>\n",
       "\t<tr><th></th><th scope=col>&lt;int&gt;</th><th scope=col>&lt;int&gt;</th><th scope=col>&lt;chr&gt;</th><th scope=col>&lt;chr&gt;</th><th scope=col>&lt;int&gt;</th><th scope=col>&lt;int&gt;</th><th scope=col>&lt;int&gt;</th><th scope=col>&lt;int&gt;</th><th scope=col>&lt;chr&gt;</th><th scope=col>&lt;chr&gt;</th></tr>\n",
       "</thead>\n",
       "<tbody>\n",
       "\t<tr><th scope=row>2</th><td>29</td><td>29</td><td>A</td><td>B</td><td>37</td><td>41</td><td>95</td><td>92</td><td>H</td><td>H</td></tr>\n",
       "</tbody>\n",
       "</table>\n"
      ],
      "text/latex": [
       "A data.frame: 1 × 10\n",
       "\\begin{tabular}{r|llllllllll}\n",
       "  & hamilton\\_g1 & hamilton\\_g2 & urbanisation\\_g1 & urbanisation\\_g2 & age\\_g1 & age\\_g2 & poids\\_g1 & poids\\_g2 & sexe\\_g1 & sexe\\_g2\\\\\n",
       "  & <int> & <int> & <chr> & <chr> & <int> & <int> & <int> & <int> & <chr> & <chr>\\\\\n",
       "\\hline\n",
       "\t2 & 29 & 29 & A & B & 37 & 41 & 95 & 92 & H & H\\\\\n",
       "\\end{tabular}\n"
      ],
      "text/markdown": [
       "\n",
       "A data.frame: 1 × 10\n",
       "\n",
       "| <!--/--> | hamilton_g1 &lt;int&gt; | hamilton_g2 &lt;int&gt; | urbanisation_g1 &lt;chr&gt; | urbanisation_g2 &lt;chr&gt; | age_g1 &lt;int&gt; | age_g2 &lt;int&gt; | poids_g1 &lt;int&gt; | poids_g2 &lt;int&gt; | sexe_g1 &lt;chr&gt; | sexe_g2 &lt;chr&gt; |\n",
       "|---|---|---|---|---|---|---|---|---|---|---|\n",
       "| 2 | 29 | 29 | A | B | 37 | 41 | 95 | 92 | H | H |\n",
       "\n"
      ],
      "text/plain": [
       "  hamilton_g1 hamilton_g2 urbanisation_g1 urbanisation_g2 age_g1 age_g2\n",
       "2 29          29          A               B               37     41    \n",
       "  poids_g1 poids_g2 sexe_g1 sexe_g2\n",
       "2 95       92       H       H      "
      ]
     },
     "metadata": {},
     "output_type": "display_data"
    }
   ],
   "source": [
    "depression[2,]"
   ]
  },
  {
   "cell_type": "markdown",
   "id": "e2e9ac0c-68ad-4bc5-94af-da7fa116f05a",
   "metadata": {},
   "source": [
    "De même, on peut extraire la troisième colonne avec une expression similaire"
   ]
  },
  {
   "cell_type": "code",
   "execution_count": 54,
   "id": "480834f3-48a7-483d-a806-f3fa59116cfc",
   "metadata": {},
   "outputs": [
    {
     "data": {
      "text/html": [
       "<style>\n",
       ".list-inline {list-style: none; margin:0; padding: 0}\n",
       ".list-inline>li {display: inline-block}\n",
       ".list-inline>li:not(:last-child)::after {content: \"\\00b7\"; padding: 0 .5ex}\n",
       "</style>\n",
       "<ol class=list-inline><li>'B'</li><li>'A'</li><li>'A'</li><li>'A'</li><li>'B'</li><li>'B'</li><li>'A'</li><li>'A'</li><li>'A'</li><li>'A'</li><li>'B'</li><li>'A'</li><li>'B'</li><li>'A'</li><li>'A'</li><li>'B'</li><li>'A'</li><li>'B'</li><li>'A'</li><li>'A'</li><li>'B'</li><li>'B'</li><li>'A'</li><li>'A'</li><li>'B'</li><li>'B'</li><li>'A'</li><li>'A'</li><li>'C'</li><li>'B'</li><li>'C'</li><li>'B'</li><li>'C'</li><li>'A'</li><li>'C'</li><li>'A'</li><li>'A'</li><li>'B'</li><li>'B'</li><li>'B'</li><li>'B'</li><li>'B'</li><li>'A'</li><li>'A'</li><li>'B'</li><li>'B'</li><li>'A'</li><li>'A'</li><li>'B'</li><li>'C'</li></ol>\n"
      ],
      "text/latex": [
       "\\begin{enumerate*}\n",
       "\\item 'B'\n",
       "\\item 'A'\n",
       "\\item 'A'\n",
       "\\item 'A'\n",
       "\\item 'B'\n",
       "\\item 'B'\n",
       "\\item 'A'\n",
       "\\item 'A'\n",
       "\\item 'A'\n",
       "\\item 'A'\n",
       "\\item 'B'\n",
       "\\item 'A'\n",
       "\\item 'B'\n",
       "\\item 'A'\n",
       "\\item 'A'\n",
       "\\item 'B'\n",
       "\\item 'A'\n",
       "\\item 'B'\n",
       "\\item 'A'\n",
       "\\item 'A'\n",
       "\\item 'B'\n",
       "\\item 'B'\n",
       "\\item 'A'\n",
       "\\item 'A'\n",
       "\\item 'B'\n",
       "\\item 'B'\n",
       "\\item 'A'\n",
       "\\item 'A'\n",
       "\\item 'C'\n",
       "\\item 'B'\n",
       "\\item 'C'\n",
       "\\item 'B'\n",
       "\\item 'C'\n",
       "\\item 'A'\n",
       "\\item 'C'\n",
       "\\item 'A'\n",
       "\\item 'A'\n",
       "\\item 'B'\n",
       "\\item 'B'\n",
       "\\item 'B'\n",
       "\\item 'B'\n",
       "\\item 'B'\n",
       "\\item 'A'\n",
       "\\item 'A'\n",
       "\\item 'B'\n",
       "\\item 'B'\n",
       "\\item 'A'\n",
       "\\item 'A'\n",
       "\\item 'B'\n",
       "\\item 'C'\n",
       "\\end{enumerate*}\n"
      ],
      "text/markdown": [
       "1. 'B'\n",
       "2. 'A'\n",
       "3. 'A'\n",
       "4. 'A'\n",
       "5. 'B'\n",
       "6. 'B'\n",
       "7. 'A'\n",
       "8. 'A'\n",
       "9. 'A'\n",
       "10. 'A'\n",
       "11. 'B'\n",
       "12. 'A'\n",
       "13. 'B'\n",
       "14. 'A'\n",
       "15. 'A'\n",
       "16. 'B'\n",
       "17. 'A'\n",
       "18. 'B'\n",
       "19. 'A'\n",
       "20. 'A'\n",
       "21. 'B'\n",
       "22. 'B'\n",
       "23. 'A'\n",
       "24. 'A'\n",
       "25. 'B'\n",
       "26. 'B'\n",
       "27. 'A'\n",
       "28. 'A'\n",
       "29. 'C'\n",
       "30. 'B'\n",
       "31. 'C'\n",
       "32. 'B'\n",
       "33. 'C'\n",
       "34. 'A'\n",
       "35. 'C'\n",
       "36. 'A'\n",
       "37. 'A'\n",
       "38. 'B'\n",
       "39. 'B'\n",
       "40. 'B'\n",
       "41. 'B'\n",
       "42. 'B'\n",
       "43. 'A'\n",
       "44. 'A'\n",
       "45. 'B'\n",
       "46. 'B'\n",
       "47. 'A'\n",
       "48. 'A'\n",
       "49. 'B'\n",
       "50. 'C'\n",
       "\n",
       "\n"
      ],
      "text/plain": [
       " [1] \"B\" \"A\" \"A\" \"A\" \"B\" \"B\" \"A\" \"A\" \"A\" \"A\" \"B\" \"A\" \"B\" \"A\" \"A\" \"B\" \"A\" \"B\" \"A\"\n",
       "[20] \"A\" \"B\" \"B\" \"A\" \"A\" \"B\" \"B\" \"A\" \"A\" \"C\" \"B\" \"C\" \"B\" \"C\" \"A\" \"C\" \"A\" \"A\" \"B\"\n",
       "[39] \"B\" \"B\" \"B\" \"B\" \"A\" \"A\" \"B\" \"B\" \"A\" \"A\" \"B\" \"C\""
      ]
     },
     "metadata": {},
     "output_type": "display_data"
    }
   ],
   "source": [
    "depression[,3]"
   ]
  },
  {
   "cell_type": "markdown",
   "id": "bc38b441-2f92-460d-9123-db270017a3b6",
   "metadata": {},
   "source": [
    "Application : Extraire la 5ème ligne du tableau, puis extraire la 5ème colonne"
   ]
  },
  {
   "cell_type": "code",
   "execution_count": 15,
   "id": "13159627-9626-4c5a-a628-e65879befce5",
   "metadata": {},
   "outputs": [],
   "source": [
    "# 5ème ligne\n",
    "\n",
    "# 5ème colonne\n"
   ]
  },
  {
   "cell_type": "markdown",
   "id": "7a79400c",
   "metadata": {},
   "source": [
    "### 4.2 Extraction en fonction de conditions\n",
    "\n",
    "#### Conditions\n",
    "\n",
    "Avant d'aller plus loin dans les extractions de sous tableaux, il est important de bien faire la différence entre `=` et le `==`\n",
    "\n",
    "Lorsque l’on utilise un signe égal `=` nous créons une variable, par exemple ici nous allons attribuer la\n",
    "valeur 4 à toto :"
   ]
  },
  {
   "cell_type": "code",
   "execution_count": 59,
   "id": "3436295d",
   "metadata": {},
   "outputs": [
    {
     "data": {
      "text/html": [
       "4"
      ],
      "text/latex": [
       "4"
      ],
      "text/markdown": [
       "4"
      ],
      "text/plain": [
       "[1] 4"
      ]
     },
     "metadata": {},
     "output_type": "display_data"
    }
   ],
   "source": [
    "# si on tape juste toto, R met un message d'erreur car la variable toto est vide\n",
    "# le =  permet d'affecter une valeur à une variable\n",
    "toto=4\n",
    "toto"
   ]
  },
  {
   "cell_type": "markdown",
   "id": "1d0f3bef",
   "metadata": {},
   "source": [
    "Lorsque nous mettons un **`==`**, nous réalisons un test, c'est à dire qu'on teste l'égalité.\n",
    "\n",
    "Par exemple on peut tester si toto est égal à 9"
   ]
  },
  {
   "cell_type": "code",
   "execution_count": 60,
   "id": "2cab6f39",
   "metadata": {},
   "outputs": [
    {
     "data": {
      "text/html": [
       "FALSE"
      ],
      "text/latex": [
       "FALSE"
      ],
      "text/markdown": [
       "FALSE"
      ],
      "text/plain": [
       "[1] FALSE"
      ]
     },
     "metadata": {},
     "output_type": "display_data"
    }
   ],
   "source": [
    "toto == 9 "
   ]
  },
  {
   "cell_type": "markdown",
   "id": "d57807d3",
   "metadata": {},
   "source": [
    "**R** nous répond faux."
   ]
  },
  {
   "cell_type": "markdown",
   "id": "41c85b62",
   "metadata": {},
   "source": [
    "**Remarque** : Pour tester si une valeur est différente il faut utiliser **`!=`**.\n",
    "\n",
    "On peut par exemple tester si toto est différent de 9"
   ]
  },
  {
   "cell_type": "code",
   "execution_count": 61,
   "id": "39d515ae",
   "metadata": {},
   "outputs": [
    {
     "data": {
      "text/html": [
       "TRUE"
      ],
      "text/latex": [
       "TRUE"
      ],
      "text/markdown": [
       "TRUE"
      ],
      "text/plain": [
       "[1] TRUE"
      ]
     },
     "metadata": {},
     "output_type": "display_data"
    }
   ],
   "source": [
    "toto != 9"
   ]
  },
  {
   "cell_type": "markdown",
   "id": "b2e6ccae",
   "metadata": {},
   "source": [
    "**R** nous répond vrai."
   ]
  },
  {
   "cell_type": "markdown",
   "id": "14c88591",
   "metadata": {},
   "source": [
    "#### Extraire une valeur ou une série de valeurs\n",
    "\n",
    "Il est également possible d’extraire des sous groupes de données au sein d'une colonne. Par exemple, à partir de\n",
    "notre tableau de données, nous pouvons extraire parmi la colonne scores de Hamilton du groupe 1, uniquement\n",
    "le score des hommes. \n",
    "Nous appellerons ce nouveau groupe : `hamilton_g1_homme.`\n",
    "\n",
    "Le principe est le suivant :\n",
    "- On sélectionne la colonne qui nous intéresse, ici il s’agit de `hamilton_g1`, comme si obtenir toutes les valeurs de la colonne avec `$`\n",
    "- Comme on veut extraire des valeurs de cette colonne, on a besoin d'utiliser les crochets `[ ]`\n",
    "- Seul le score des hommes nous intéresse, il est donc nécessaire de préciser à **R** qu'au sein de cette colonne, nous ne garderons que les lignes correspondantes aux hommes (on met l'expression logique dans les crochets)"
   ]
  },
  {
   "cell_type": "code",
   "execution_count": null,
   "id": "830a677e",
   "metadata": {},
   "outputs": [],
   "source": [
    "# Décomposons :\n",
    "# 1. on extrait la colonne\n",
    "depression$hamilton_g1\n",
    "# 2. on veut extraire des valeurs de la colonnes avec '[]'\n",
    "depression$hamilton_g1[]\n",
    "# 3. on formule l'expression logique pour nos valeurs\n",
    "depression$sexe_g1 == \"H\"\n",
    "# 4. on assemble tout\n",
    "depression$hamilton_g1[depression$sexe_g1 == \"H\"]\n",
    "# 5. on assigne la variable\n",
    "hamilton_g1_homme = depression$hamilton_g1[depression$sexe_g1 == \"H\"]\n",
    "hamilton_g1_homme"
   ]
  },
  {
   "cell_type": "markdown",
   "id": "32e90e0d",
   "metadata": {},
   "source": [
    "*Entraînement : Extraire le score de Hamilton des personnes du groupe 2 qui se situe dans une\n",
    "zone urbanisée A*"
   ]
  },
  {
   "cell_type": "code",
   "execution_count": null,
   "id": "cfe185bc",
   "metadata": {},
   "outputs": [],
   "source": [
    "hamilton_g2_urbanisationA=depressionA=depression$hamilton_g2[depression$urbanisation_g2==\"A\"]\n",
    "hamilton_g2_urbanisationA"
   ]
  },
  {
   "cell_type": "markdown",
   "id": "b3c59db2",
   "metadata": {},
   "source": [
    "#### Extraire un sous-tableau\n",
    "\n",
    "Dans la section précédente on a vu comment extraire une valeur ou une série de valeur sous la forme d'un vecteur, il est également possible d’extraire un sous-tableau de données. Nous allons par exemple\n",
    "extraire le tableau de données qui est associé aux données du groupe 1, nous l’appellerons\n",
    "`data_g1`. \n",
    "\n",
    "Le principe est le suivant :\n",
    "- Repérer les colonnes qui sont associées au groupe 1 : ce sont les colonnes impaires 1, 3, 5, 7 et 9.\n",
    "- Ensuite nous voulons récupérer toutes les lignes\n",
    "\n",
    "Pour extraire plus d'une colonne, il faut préciser les numéros de plusieurs colonnes à l'aide de la fonction `c()`, en donnant les nombres séparés par des virgules. Par exemple, pour extraire les deux premières colonnes d'un tableau nommé `tab` on écrirait `tab[, c(2, 3)]`"
   ]
  },
  {
   "cell_type": "code",
   "execution_count": null,
   "id": "1ee231c7",
   "metadata": {},
   "outputs": [],
   "source": [
    "# les [] permettent d'extraire une sous-partie du tableau\n",
    "# ce qui est avant la virgule correspond aux lignes et ce qui est après la virgule correspond aux colonnes\n",
    "# nous ne précisons rien poru les ligens car nous les voulons toutes\n",
    "# pour les colonnes nous précisons les valeurs souhaitées\n",
    "data_g1=depression[,c(1,3,5,7,9)]\n",
    "\n",
    "# affichons le début du nouveau tableau\n",
    "head(data_g1)"
   ]
  },
  {
   "cell_type": "markdown",
   "id": "1d4cbc1c",
   "metadata": {},
   "source": [
    "*Application : Extraire un nouveau tableau nommé data_g2, qui contient uniquement les colonnes associées au groupe 2*"
   ]
  },
  {
   "cell_type": "code",
   "execution_count": null,
   "id": "7d2673b7",
   "metadata": {},
   "outputs": [],
   "source": [
    "data_g2=depression[,c(2,4,6,8,10)]\n",
    "head(data_g2)"
   ]
  },
  {
   "cell_type": "markdown",
   "id": "1db4ab7d-15dd-49b1-a2d9-3b84d50b7872",
   "metadata": {},
   "source": [
    "*Note : On peut aussi extraire des colonnes d'un tableau en utilisant les noms de colonnes entre guillemets `\"` au sein de la fonction `c()` séparés par des virgules, vous pourriez par exemple tester l'expression `depression[, c(\"age_g1\", \"poids_g1\", \"sexe_g1\")]`*"
   ]
  },
  {
   "cell_type": "markdown",
   "id": "361c784e",
   "metadata": {},
   "source": [
    "À partir du tableau `data_g1`, nous allons sélectionner un nouveau\n",
    "tableau qui ne contient que le résultat des femmes. Le principe est le suivant :\n",
    "- Nous voulons faire une extraction donc il faut utiliser `[]`,\n",
    "- Nous ne gardons que les lignes où la valeur `\"F\"` apparaît dans la colonne `sexe_g1`\n",
    "- Puis nous gardons l'ensemble des colonnes (donc on ne met rien après la virgule dans `[]`)"
   ]
  },
  {
   "cell_type": "code",
   "execution_count": null,
   "id": "086412aa",
   "metadata": {},
   "outputs": [],
   "source": [
    "data_g1_femme = data_g1[data_g1$sexe_g1 == \"F\" , ]\n",
    "head(data_g1_femme)"
   ]
  },
  {
   "cell_type": "markdown",
   "id": "c79b671d",
   "metadata": {},
   "source": [
    "Extraire une tableau `data_g2_femme` qui ne contient que les informations concernant les femmes du groupes 2"
   ]
  },
  {
   "cell_type": "code",
   "execution_count": null,
   "id": "9320fa56",
   "metadata": {},
   "outputs": [],
   "source": [
    "data_g2_femme = data_g2[data_g2$sexe_g2 == \"F\" , ]\n",
    "head(data_g2_femme)"
   ]
  },
  {
   "cell_type": "markdown",
   "id": "7ea00bcb",
   "metadata": {},
   "source": [
    "#### Combiner les conditions\n",
    "\n",
    "Il est possible de combiner plusieurs conditions lorsque l'on extrait des données d'un tableau grâce aux intructions :\n",
    "- **`&`** ([esperluette](https://fr.wikipedia.org/wiki/Esperluette)) qui signifie \"**et**\" : par exemple on veut extraire du tableau les données concernant les femmes de plus de 40 ans (ce qui se traduit par \"être une femme et avoir plus de 40 ans\")\n",
    "- **`|`** ([barre verticale](https://fr.wikipedia.org/wiki/Barre_verticale) ou *pipe*) qui signifie \"**ou**\" : par exemple on veut extraire du tableau les données concernant soit les femmes soit les personnes de plus de 40 ans, la différence avec le tableau précédent est qu'il sera possible dans ce tableau d'avoir également des hommes de plus de 40 ans\n",
    "\n",
    "Les conditions combinées sont alors écrites individuellement et séparées de `&` ou `|`\n",
    "\n",
    "*Appliquer ces deux conditions au tableau `data_g1`*"
   ]
  },
  {
   "cell_type": "code",
   "execution_count": null,
   "id": "4777f117",
   "metadata": {},
   "outputs": [],
   "source": [
    "# tableau les données du groupe 1 concernant les femmes de plus de 40 ans\n",
    "tab1 = data_g1[data_g1$sexe_g1 == \"F\" & data_g1$age_g1 > 40,]\n",
    "tab1\n",
    "\n",
    "# tableau les données du groupe 1 concernant soit les femmes soit les personnes de plus de 40 ans\n",
    "tab2 = data_g1[data_g1$sexe_g1 == \"F\" & data_g1$age_g1 > 40,]\n",
    "tab2"
   ]
  },
  {
   "cell_type": "markdown",
   "id": "d1bec176",
   "metadata": {},
   "source": [
    "*Appliquer ces deux conditions au tableau `data_g2`*"
   ]
  },
  {
   "cell_type": "code",
   "execution_count": null,
   "id": "8260540a",
   "metadata": {},
   "outputs": [],
   "source": [
    "# tableau les données G1 concernant les femmes de plus de 40 ans\n",
    "tab1 = data_g1[data_g1$sexe_g1 == \"F\" & data_g1$age_g1 > 40,]\n",
    "tab1\n",
    "\n",
    "# tableau les données du groupe 1 concernant soit les femmes soit les personnes de plus de 40 ans\n",
    "tab2 = data_g2[data_g2$sexe_g1 == \"F\" | data_g2$age_g2 > 40,]\n",
    "tab2"
   ]
  },
  {
   "cell_type": "markdown",
   "id": "33416fd0",
   "metadata": {},
   "source": [
    "*Application :*\n",
    "- Construire un tableau nommé tab1 qui sélectionne les femmes et la classe Urbanisation \"A\" \n",
    "- Construire un tableau nommé tab2 qui sélectionne les femmes ou la classe Urbanisation \"A\" "
   ]
  },
  {
   "cell_type": "code",
   "execution_count": null,
   "id": "0592dff8",
   "metadata": {},
   "outputs": [],
   "source": []
  },
  {
   "cell_type": "markdown",
   "id": "df771c91-5d24-4fb4-8b3f-a5ad56d91941",
   "metadata": {},
   "source": [
    "<div class=\"alert alert-success\">\n",
    "\n",
    "## En résumé\n",
    "\n",
    "Dans cette séance :\n",
    "\n",
    "- Nous avons découvert le langage de programmation R\n",
    "- Nous avons appris à charger des données avec `read.table()`\n",
    "- Nous avons appris à calculer des statistiques descriptives avec `mean()`, `median()`, `sd()`, `var()`, et `summary()`\n",
    "- Nous avons appris à faire des graphiques avec `hist()`, `boxplot()`, `barplot()`, et `pie()`\n",
    "- Nous avons vu comment extraire des valeurs d'un tableau avec `[]`, filtrer des lignes avec des expressions logiques (`==`, `!=`, `>`, et `<`) et sélectionner des colonnes\n",
    "\n",
    "</div>"
   ]
  },
  {
   "cell_type": "markdown",
   "id": "e6c1125b-a590-4906-924b-520ffdaa789a",
   "metadata": {},
   "source": [
    "## 5. Exercices d'applications"
   ]
  },
  {
   "cell_type": "markdown",
   "id": "50500825-0d13-4b95-a42f-9fec85718300",
   "metadata": {},
   "source": [
    "Ces exercices sont à faire en TD si le temps le permet et à terminer à la maison pour pratiquer d'une séance à l'autre."
   ]
  },
  {
   "cell_type": "markdown",
   "id": "9c2486de",
   "metadata": {},
   "source": [
    "### 5.1 Étude comparative des hommes\n",
    "\n",
    "extraire deux tableaux représenetant les donées des hommes du groupe 1 puis du groupe 2 Verifier ensuite la structure de ces deux tableaux. \n",
    "\n"
   ]
  },
  {
   "cell_type": "code",
   "execution_count": 74,
   "id": "40f3ff12",
   "metadata": {},
   "outputs": [
    {
     "data": {
      "text/plain": [
       "   Min. 1st Qu.  Median    Mean 3rd Qu.    Max. \n",
       "  29.00   34.00   37.00   37.97   42.00   49.00 "
      ]
     },
     "metadata": {},
     "output_type": "display_data"
    },
    {
     "data": {
      "text/plain": [
       "   Min. 1st Qu.  Median    Mean 3rd Qu.    Max. \n",
       "  15.00   20.00   25.00   24.51   28.00   36.00 "
      ]
     },
     "metadata": {},
     "output_type": "display_data"
    }
   ],
   "source": [
    "depression_h1 = depression[depression$sexe_g1 == \"H\",]\n",
    "depression_h2 = depression[depression$sexe_g2 == \"H\",]\n",
    "summary(depression_h1$hamilton_g1)\n",
    "summary(depression_h2$hamilton_g2)"
   ]
  },
  {
   "cell_type": "markdown",
   "id": "741f5fd9",
   "metadata": {},
   "source": [
    "### 5.2 Étude comparative des femmes\n",
    "\n",
    "A partir de ces deux tableaux de données, réaliser une étude descriptive comparative en répondant aux questions suivantes :\n",
    "\n",
    "1. Comparer les moyennes et variances empiriques des scores de Hamilton des hommes dans les deux tableaux\n",
    "2. Comparer les médianes et quartiles empiriques des âges des hommes dans les deux tableaux"
   ]
  },
  {
   "cell_type": "code",
   "execution_count": 75,
   "id": "6f5f5725",
   "metadata": {},
   "outputs": [
    {
     "data": {
      "text/plain": [
       "   Min. 1st Qu.  Median    Mean 3rd Qu.    Max. \n",
       "  37.00   39.00   42.00   41.64   43.50   47.00 "
      ]
     },
     "metadata": {},
     "output_type": "display_data"
    },
    {
     "data": {
      "text/plain": [
       "   Min. 1st Qu.  Median    Mean 3rd Qu.    Max. \n",
       "   18.0    23.0    24.0    24.8    26.0    33.0 "
      ]
     },
     "metadata": {},
     "output_type": "display_data"
    }
   ],
   "source": [
    "depression_h1 = depression[depression$sexe_g1 == \"F\",]\n",
    "depression_h2 = depression[depression$sexe_g2 == \"F\",]\n",
    "summary(depression_h1$hamilton_g1)\n",
    "summary(depression_h2$hamilton_g2)"
   ]
  },
  {
   "cell_type": "markdown",
   "id": "edfd1daf-d590-498d-bfd9-bfb9b65f4349",
   "metadata": {},
   "source": [
    "Quelles hypothèses pouvez-vous émettre ?"
   ]
  },
  {
   "cell_type": "markdown",
   "id": "5f306862-aa87-417c-998d-a564c1fddd3d",
   "metadata": {},
   "source": [
    "**Hypothèses** :\n",
    "\n",
    "On observe que les scores de Hamilton sont plus élevés dans le groupe 1 que dans le groupe 2 alors qu'ils ont la même variance aet un écart inter-quartile similaire. Cela nous indique certainement que l'acupuncture réduit la dépression."
   ]
  },
  {
   "cell_type": "markdown",
   "id": "2a89ef30-5f02-41a0-9013-3b3fd60a87b3",
   "metadata": {},
   "source": [
    "### 5.3 Comparaison en fonction de l'urbanisation\n",
    "\n",
    "1. Représenter graphiquement le score de Hamilton des hommes du groupe G1 qui habitent dans des régions urbanisée de type A\n",
    "2. Représenter graphiquement le score de Hamilton des hommes du groupe G1 qui habitent dans des régions urbanisée de type B\n",
    "3. Représenter graphiquement le score de Hamilton des hommes du groupe G2 qui habitent dans des régions urbanisée de type A\n",
    "4. Représenter graphiquement le score de Hamilton des hommes du groupe G2 qui habitent dans des régions urbanisée de type B.\n",
    "\n",
    "Quelles hypothèses pouvez-vous émettre suite à ces descriptions? "
   ]
  },
  {
   "cell_type": "code",
   "execution_count": 77,
   "id": "30b97680",
   "metadata": {},
   "outputs": [
    {
     "ename": "ERROR",
     "evalue": "Error in barplot.default(depression_a_g1): 'height' must be a vector or a matrix\n",
     "output_type": "error",
     "traceback": [
      "Error in barplot.default(depression_a_g1): 'height' must be a vector or a matrix\nTraceback:\n",
      "1. barplot.default(depression_a_g1)",
      "2. stop(\"'height' must be a vector or a matrix\")",
      "3. .handleSimpleError(function (cnd) \n . {\n .     watcher$capture_plot_and_output()\n .     cnd <- sanitize_call(cnd)\n .     watcher$push(cnd)\n .     switch(on_error, continue = invokeRestart(\"eval_continue\"), \n .         stop = invokeRestart(\"eval_stop\"), error = invokeRestart(\"eval_error\", \n .             cnd))\n . }, \"'height' must be a vector or a matrix\", base::quote(barplot.default(depression_a_g1)))"
     ]
    }
   ],
   "source": [
    "depression_a_g1 = depression[depression$urbanisation_g1 == \"A\",]\n",
    "depression_b_g1 = depression[depression$urbanisation_g1 == \"B\",]\n",
    "depression_a_g2 = depression[depression$urbanisation_g2 == \"A\",]\n",
    "depression_b_g2 = depression[depression$urbanisation_g2 == \"B\",]\n",
    "barplot(depression_a_g1)"
   ]
  },
  {
   "cell_type": "code",
   "execution_count": null,
   "id": "c6cae79d-2ffd-4cae-a2d4-f7d200b11bc9",
   "metadata": {},
   "outputs": [],
   "source": []
  }
 ],
 "metadata": {
  "kernelspec": {
   "display_name": "R",
   "language": "R",
   "name": "ir"
  },
  "language_info": {
   "codemirror_mode": "r",
   "file_extension": ".r",
   "mimetype": "text/x-r-source",
   "name": "R",
   "pygments_lexer": "r",
   "version": "4.3.3"
  }
 },
 "nbformat": 4,
 "nbformat_minor": 5
}
